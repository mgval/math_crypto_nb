{
 "cells": [
  {
   "cell_type": "markdown",
   "metadata": {},
   "source": [
    "# Polynomial Rings"
   ]
  },
  {
   "cell_type": "markdown",
   "metadata": {},
   "source": [
    "$\n",
    "R[x]=\\left\\{a_{0}+a_{1} x+a_{2} x^{2}+\\cdots+a_{n} x^{n}: n \\geq 0 \\text { and } a_{0}, a_{1}, \\ldots, a_{n} \\in R\\right\\}\n",
    "$\n",
    "\n",
    "The degree of a nonzero polynomial is the exponent of the highest power of $x$ that appears. Thus if\n",
    "$\n",
    "\\boldsymbol{a}(x)=a_{0}+a_{1} x+a_{2} x^{2}+\\cdots+a_{n} x^{n}\n",
    "$\n",
    "with $a_{n} \\neq 0,$ then $\\boldsymbol{a}(x)$ has degree $n .$ \n",
    "\n",
    "We denote the degree of $\\boldsymbol{a}$ by $\\operatorname{deg}(\\boldsymbol{a})$ and we call $a_{n}$ the leading coefficient of $\\boldsymbol{a}(x)$. \n",
    "\n",
    "A nonzero polynomial whose leading coefficient is equal to 1 is called a monic polynomial. For example,"
   ]
  },
  {
   "cell_type": "code",
   "execution_count": 28,
   "metadata": {},
   "outputs": [],
   "source": [
    "def poly_gcd(a, b):\n",
    "    if(b.is_zero()):\n",
    "        return a\n",
    "    else:\n",
    "        return poly_gcd(b, a%b)"
   ]
  },
  {
   "cell_type": "code",
   "execution_count": 92,
   "metadata": {},
   "outputs": [],
   "source": [
    "def poly_egcd(a, b):\n",
    "    if(a.is_zero()):\n",
    "        return (b, 0, 1)\n",
    "    else:\n",
    "        gcd, x, y = poly_egcd(a%b, a)\n",
    "        return (gcd, y-(b // a) * x, x)"
   ]
  },
  {
   "cell_type": "code",
   "execution_count": 93,
   "metadata": {},
   "outputs": [],
   "source": [
    "F.<x> = PolynomialRing(GF(13))\n"
   ]
  },
  {
   "cell_type": "code",
   "execution_count": 94,
   "metadata": {},
   "outputs": [],
   "source": [
    "a = x**5 - 1\n",
    "b = x**3 + 2*x - 3"
   ]
  },
  {
   "cell_type": "code",
   "execution_count": 95,
   "metadata": {},
   "outputs": [
    {
     "data": {
      "text/plain": [
       "9*x + 4"
      ]
     },
     "execution_count": 95,
     "metadata": {},
     "output_type": "execute_result"
    }
   ],
   "source": [
    "poly_gcd(a, b)"
   ]
  },
  {
   "cell_type": "code",
   "execution_count": 96,
   "metadata": {},
   "outputs": [],
   "source": [
    "F.<x> = PolynomialRing(GF(2))\n",
    "a = x**5 + 3 * x ** 4 - 5 * x **3 -3 * x **2 + 2 * x + 2\n",
    "b = x**5 + x ** 4 - 2 * x **3 + 4 * x**2 +x + 5"
   ]
  },
  {
   "cell_type": "code",
   "execution_count": 97,
   "metadata": {},
   "outputs": [
    {
     "data": {
      "text/plain": [
       "(x^3 + x^2 + x + 1, x^2 + 1, x^2)"
      ]
     },
     "execution_count": 97,
     "metadata": {},
     "output_type": "execute_result"
    }
   ],
   "source": [
    "poly_egcd(a,b)"
   ]
  },
  {
   "cell_type": "code",
   "execution_count": 85,
   "metadata": {},
   "outputs": [
    {
     "data": {
      "text/plain": [
       "(x^3 + x^2 + x + 1, 1, 1)"
      ]
     },
     "execution_count": 85,
     "metadata": {},
     "output_type": "execute_result"
    }
   ],
   "source": [
    "xgcd(a, b)"
   ]
  },
  {
   "cell_type": "markdown",
   "metadata": {},
   "source": [
    "## Polynomials modulo polynomials haha funny"
   ]
  },
  {
   "cell_type": "markdown",
   "metadata": {},
   "source": [
    "Let $\\mathbb{F}$ be field and let $\\boldsymbol{m} \\in \\mathbb{F}[x]$ be a nonzero polynomial. Then every nonzero congruence class $\\overline{\\boldsymbol{a}} \\in \\mathbb{F}[x] /(\\boldsymbol{m})$ has a unique representative $\\boldsymbol{r}$ satisfying  \n",
    "$\n",
    "\\operatorname{deg} \\boldsymbol{r}<\\operatorname{deg} \\boldsymbol{m} \\quad \\text { and } \\\\ \\boldsymbol{a} \\equiv \\boldsymbol{r}(\\bmod \\boldsymbol{m})\n",
    "$"
   ]
  },
  {
   "cell_type": "markdown",
   "metadata": {},
   "source": [
    "Let $\\mathbb{F}$ be a field and let $a, m ∈ \\mathbb{F}[x]$ be polynomials with $m != 0$. Then $\\overline{a}$ is a unit in the quotient ring $\\mathbb{F}[x]/(m)$ if and only if  \n",
    "$gcd(a, m) = 1$"
   ]
  },
  {
   "cell_type": "code",
   "execution_count": 43,
   "metadata": {},
   "outputs": [],
   "source": [
    "F.<x> = PolynomialRing(GF(2))\n",
    "Fm.<y> = F.quotient(x**3+x+1) "
   ]
  },
  {
   "cell_type": "code",
   "execution_count": 52,
   "metadata": {},
   "outputs": [
    {
     "data": {
      "text/plain": [
       "8"
      ]
     },
     "execution_count": 52,
     "metadata": {},
     "output_type": "execute_result"
    }
   ],
   "source": [
    "len(Fm)"
   ]
  },
  {
   "cell_type": "markdown",
   "metadata": {},
   "source": [
    "Let $\\mathbb{F}_p$ be a finite field.  \n",
    "(a) For every d ≥ 1 there exists an irreducible polynomial $m ∈ \\mathbb{F}_p[x]$ of\n",
    "degree d.  \n",
    "(b) For every d ≥ 1 there exists a finite field with pd elements.  \n",
    "(c) If F and F are finite fields with the same number of elements, then there is a way to match the elements of $\\mathbb{F}$ with the elements of $\\mathbb{F}'$ so that the addition and multiplication tables of $\\mathbb{F}$ and $\\mathbb{F'}$ are the\n",
    "same.\n",
    "\n",
    "(The mathematical terminology is that $\\mathbb{F}$ and $\\mathbb{F'}$ are isomorphic.)\n",
    "$"
   ]
  },
  {
   "cell_type": "code",
   "execution_count": null,
   "metadata": {},
   "outputs": [],
   "source": []
  }
 ],
 "metadata": {
  "kernelspec": {
   "display_name": "Python 3",
   "language": "python",
   "name": "python3"
  },
  "language_info": {
   "codemirror_mode": {
    "name": "ipython",
    "version": 3
   },
   "file_extension": ".py",
   "mimetype": "text/x-python",
   "name": "python",
   "nbconvert_exporter": "python",
   "pygments_lexer": "ipython3",
   "version": "3.7.6"
  }
 },
 "nbformat": 4,
 "nbformat_minor": 2
}
