{
 "cells": [
  {
   "cell_type": "code",
   "execution_count": 17,
   "metadata": {},
   "outputs": [],
   "source": [
    "import numpy as np\n",
    "import matplotlib.pyplot as plt\n",
    "from matplotlib.animation import FuncAnimation\n",
    "from IPython import display"
   ]
  },
  {
   "cell_type": "code",
   "execution_count": 18,
   "metadata": {},
   "outputs": [],
   "source": [
    "def gcd(a, b):\n",
    "    if b == 0:\n",
    "        return a\n",
    "    else:\n",
    "        return gcd(b, a%b)"
   ]
  },
  {
   "cell_type": "markdown",
   "metadata": {},
   "source": [
    "# Elliptic curves"
   ]
  },
  {
   "cell_type": "markdown",
   "metadata": {},
   "source": [
    "Some notes : https://crypto.stanford.edu/pbc/notes/elliptic/"
   ]
  },
  {
   "cell_type": "markdown",
   "metadata": {},
   "source": [
    "## Equation and graphs"
   ]
  },
  {
   "cell_type": "markdown",
   "metadata": {},
   "source": [
    "Elliptic curve equation:  \n",
    "$Y^2 = X^3 + AX + B$  \n",
    "With $4A^3 + 27B^2 \\neq 0$"
   ]
  },
  {
   "cell_type": "markdown",
   "metadata": {},
   "source": [
    "So, how does a curve look?  \n",
    "play around with $a$ and $b$ to see how the curve looks"
   ]
  },
  {
   "cell_type": "code",
   "execution_count": 15,
   "metadata": {},
   "outputs": [],
   "source": [
    "a = -3\n",
    "b = 5"
   ]
  },
  {
   "cell_type": "code",
   "execution_count": 16,
   "metadata": {},
   "outputs": [
    {
     "data": {
      "image/png": "[encoded data removed]",
      "text/plain": [
       "<Figure size 432x288 with 1 Axes>"
      ]
     },
     "metadata": {
      "needs_background": "light"
     },
     "output_type": "display_data"
    }
   ],
   "source": [
    "y, x = np.ogrid[-5:5:100j, -5:5:100j]\n",
    "plt.contour(x.ravel(), y.ravel(), pow(y, 2) - pow(x, 3) - x * a - b, [0])\n",
    "plt.grid()\n",
    "plt.show()"
   ]
  },
  {
   "cell_type": "markdown",
   "metadata": {},
   "source": [
    "here is an animation"
   ]
  },
  {
   "cell_type": "code",
   "execution_count": 17,
   "metadata": {},
   "outputs": [
    {
     "data": {
      "text/html": [
       "<video width=\"432\" height=\"288\" controls autoplay loop>\n",
       "  <source type=\"video/mp4\" src=\"data:video/mp4;base64,AAAAIGZ0eXBNNFYgAAACAE00ViBpc29taXNvMmF2YzEAAAAIZnJlZQAAlURtZGF0AAACoAYF//+c\n",
       "3EXpvebZSLeWLNgg2SPu73gyNjQgLSBjb3JlIDE2MCAtIEguMjY0L01QRUctNCBBVkMgY29kZWMg\n",
       "LSBDb3B5bGVmdCAyMDAzLTIwMjAgLSBodHRwOi8vd3d3LnZpZGVvbGFuLm9yZy94MjY0Lmh0bWwg\n",
       "LSBvcHRpb25zOiBjYWJhYz0xIHJlZj0zIGRlYmxvY2s9MTowOjAgYW5hbHlzZT0weDM6MHgxMTMg\n",
       "bWU9aGV4IHN1Ym1lPTcgcHN5PTEgcHN5X3JkPTEuMDA6MC4wMCBtaXhlZF9yZWY9MSBtZV9yYW5n\n",
       "ZT0xNiBjaHJvbWFfbWU9MSB0cmVsbGlzPTEgOHg4ZGN0PTEgY3FtPTAgZGVhZHpvbmU9MjEsMTEg\n",
       "ZmFzdF9wc2tpcD0xIGNocm9tYV9xcF9vZmZzZXQ9LTIgdGhyZWFkcz02IGxvb2thaGVhZF90aHJl\n",
       "YWRzPTEgc2xpY2VkX3RocmVhZHM9MCBucj0wIGRlY2ltYXRlPTEgaW50ZXJsYWNlZD0wIGJsdXJh\n",
       "eV9jb21wYXQ9MCBjb25zdHJhaW5lZF9pbnRyYT0wIGJmcmFtZXM9MyBiX3B5cmFtaWQ9MiBiX2Fk\n",
       "YXB0PTEgYl9iaWFzPTAgZGlyZWN0PTEgd2VpZ2h0Yj0xIG9wZW5fZ29wPTAgd2VpZ2h0cD0yIGtl\n",
       "eWludD0yNTAga2V5aW50X21pbj0yNSBzY2VuZWN1dD00MCBpbnRyYV9yZWZyZXNoPTAgcmNfbG9v\n",
       "a2FoZWFkPTQwIHJjPWNyZiBtYnRyZWU9MSBjcmY9MjMuMCBxY29tcD0wLjYwIHFwbWluPTAgcXBt\n",
       "YXg9NjkgcXBzdGVwPTQgaXBfcmF0aW89MS40MCBhcT0xOjEuMDAAgAAACIFliIQAL//+9q78yytH\n",
       "C5UuHVl7s1Hy6Ely/YgwfWgAAAMAANVp5QZSk1YjvoAAHPi1wiTT/4AEwz8uoqOgtTIr60pJEGxl\n",
       "880ciNqDj7MiE1vlE/m6/sYrEKrbnYJpJWPV8r6Er9eWlV3s9WQ5XqDJHgbxJu9uxhTCj6E2aEN2\n",
       "RqGgJTICSVtwYGBD+SypVz7mKMBWQx2/ksFqzpDHkNDkIMZfRcBgCYywrgwwfJCpzqeZ7Q5npWKI\n",
       "KRyvfNlavz9iv/HL+Vm0q1xTsFLG7TLtAbi7CCDB0VIHml0ypySj3eiNrDCfePi//7Q28sd9aZo8\n",
       "exHwZjEfA0BhhwA/2ZJadJPC7WjTKUjt9a705jQlNzzF/Leughn58PCiiJQOODjQ8Q2T/C9OtRfb\n",
       "QyElCmvBCsSiukdIt7380B67GPoAShtgJLz8iFv+sA2JjGIGIoSs/jNFHX8p7zXpuikU1VolVBeq\n",
       "jxGLwDk1QltYrRmVSKNlnvuNo+hyyduFIqQn4hX0UuaDmAVBeZ69yTXGjN1jABVoLUNijjrC72QL\n",
       "qoVeNRSh3Y93Jm/2OQzjCgZcGS58imMaX2GD8luLJv1yqBScCRD47VY9yFhJ0/Qs6hC5Pze7WC3z\n",
       "bOKwjIWJvLmFl+1qXy8NDUn89AYt2BpL/7k1PkKKNJCI0jqj5sQW270k/XmIzNtwQsqyGGRk01Y7\n",
       "Sx+hhcAbM0P5c5h0Bpgt4IBUWyNqLSPCgURugjnaEKuKeWN/iiybCJeRdfI5uyyEhSq1MJRPnSSX\n",
       "BHd9JKNl1NdcuWMDfuQNNm3vC6+aYWnfZ6iCYmObeCTswWZjd58XC/xXWQec4Crw293zTLH6K7Bm\n",
       "Pjp0HA8LE37Bz6C2+jHGxTbi8xYPo066ngiMbO19xpnS55pnnffHVCmdcp8FwUFE5ZAY5bf+/8/h\n",
       "y9OYgFpLsWREU5gLWZpsAVivcITL0AV31T0A5PdIijCkZDABn6Kc9TrtBeVyxENFLtGetMiBsgaM\n",
       "h4WlyMJMLQEsVtzKHj2zmlYMF5M53B9GhDpwMdMb2qeuAxQAd0+9Y/PMZTKZolZw4k8BFmgEsNCy\n",
       "cNms4lspynCv4EPDv/ZKrxpsIcNFU0q+/IoGjDHxfOu0atL2vAfvArKW/mpT7yMX6/c4l9qkRv+0\n",
       "+NjJk1Al2JsakvQ5zdsZbKeLcgic063JyW62ahRGxgmPcuteyj8jQyqXN50byLnnh53QQc9i/+01\n",
       "+2vmZwsd6L7V+nAi6CiVky/MqBNN9A0G/B3GlMJKSmDX5Y9do4DWkSKSG392DZdEQJYF0gvqe1gn\n",
       "UmTDxXE/GVZBwzBS6DxEa8zTVFsdT7y1arJmI+Tpu7cGcByN8r7/Bmn8XX4hHzAm5yGqRAR1ETPb\n",
       "MCiUem3F0u2Szfy6pRAIaWMx+7nH33hB8ZplQ93k+JVE6lzmkvy3i4eO/YI4VZfZzECUyTB08TSU\n",
       "L1xSs3tSaWbX8nLr+K+m+OwWroqwa1WH8nSNXp9y21nS55Q9IfIZ/TjbsI2cv0LQjBFlhjwfQDcT\n",
       "caRjmxFgMEOm6pIsKRz59EglNwy4ofDP5tI5FZIvH/71U1DbjjNCx7RZGCUAfM399Olg8J5BEJNx\n",
       "LdbxM5nCDv///4AispIzAMegECA3U1TZ1j0q+lIaJe3vjMOOAFQ0aZGS7QUtLmKfZXQ5opvxHTLn\n",
       "+jujhOq3fZ4DWzyzRYLfOEiZOcXmd3vnbLG8R+bPK9W1VxejL9/0yoMU2hmUAxiWjIKY3Iri+2ro\n",
       "T323GYaj/csW16K+L/uV1pYFraV5MBllbKSkFAfNhT43vSOlF8DN2fw1HO/HbjQNofF2rS+rtD3M\n",
       "ofqHlYOrPJl9HVNX6kdikLom+xDBNV7LMg2WS72E9OU71PN7ZHU/FShaP4pk8Po02QsiZbRf5Kn+\n",
       "2zHuT6kdXh5M+PVcwYSzJLXnVAOZ78lTFENOxJJ+GOSDOk26ws1f7n4Ql4Txwhn4uuGM2BYL/cx4\n",
       "/4gX8dahExke5RJJIvpPxcT0zOnozRhJHUBfMg06kms2IjozljTlN6NbQt0Xzb4ojOBc/qtshGyW\n",
       "Ik1mpzRJA+fyk++ZaPNAqjQzJTa6c0LDcB/7PSpPHz0GfiXzP/3BuKvOutt9vTiHbYIu2j59VKHd\n",
       "zI1Iiml6FFbEZcXXfIFu4P/Lafm0M0GoGk/SPGr7SpjZTSN6QDq3C+BEMT/c4ZnaXpijTLG3sO1O\n",
       "cDjd4h0IusSjsLSzOoQ/O5mZfKREMaPA199aGG/rmCBavLo87ihoT/f9SHozU7sZ6DWBq9FKH3uM\n",
       "ywOuoocrWu3fjABvKfKjeIHTG7XAZaAG/ZT/pUtP3UOTWrkDFg2QuuQJBHLCff/+vaE6EMe9NOX6\n",
       "PwCD3/ZpwFQfcz5eJll6xv2ZuP+3dOHqrTmRtUzPr+7y3K+ABd2dbO9537kvxCl4EGlVcM5jBSQy\n",
       "8dBpqu2lQUlCttBShAnsLlUHT41D3YZ9ma0Hudwr8GPZNKjdp9MjMVuUZHT2NvNjuQQuEcVU5Zu/\n",
       "DeowMZaNZZHfS3mpvT7cnceJJ6PrzPEmP4aF303LlPZnffjNHmztuUPg2FnIp20jQGYSUiDBhR1G\n",
       "j9XyLPm473dfH4b8WwsiLRI9iC4CwjWbYKeRcCMe+x2zhlflTH141E2H+4uDYlSlm3gbnreaMDsE\n",
       "p+fuLttHCOCHGZ1gvw8fCOo4REPKx1iJwBWgs57dsLAd+6nJBbOaXhFDYpDT2J5NtIZxZUhXW0ia\n",
       "dxrZMxz/24CbbXqnuqQ+XjS5M1Z4a3t+d4efJZszrh+ZCAnAk3TKIwFbJwgieVUDXI+6N58Dabcu\n",
       "9Bd1vvMPmNozgA4Nr+0YKXEyGV2EDsP62ISAHiZYHk5tkIY6MkdHnBEXj5Iez9IghGYVtuCugQAA\n",
       "AcZBmiRsQv/+jLAEH0krESQ53XKuoBIzC+jUAeTUCXG7HQu/XSisk/MO/+U/g1byKULzdOV+G32q\n",
       "iPHrZJ9rNGAx/GTHELX6sVmSm5nY8Z8m8YzKsWiq10Ax/cT9T83Hg2BCZfrRijRhKAMFeItY/Y+p\n",
       "zeNXBvTVq9AuZu8L+v7uV0XJnyL1E5b6vMy+j0BJyyU+f00Kfe6Dv7orzK0rNZVB7bKoeeIChKaZ\n",
       "n9f7OaYAuiPothA8kKv7Gv98/KQ8xqf1DmAP4SO5n22pPntguat05qE2beXKCTdUMC9hM5cdWP7C\n",
       "WZ3++9AJi1tSXH1LLfh+sBCyzqvgtzyhUzizJ6gcZEF8U5XhrQibei2K/FebRQiVnXC8mFnoqLPV\n",
       "YyGhZEB2FSYV5RRGPzOOWydZPPSFQgpxUByIG+VXmkZ+DzXjl5XxBry8xgT1TaQzaodOtY6N4YQL\n",
       "8Rh4CNfROML+IbwnYTKNUxq3Y9qjRlcECjxI3KDQ1W4HQUZza5sydaTYpg5n86FmBBqusE4MynlQ\n",
       "Ky/j5ESA/AModro2eqredkwDZe6VwKTWeDOy4jnfOxIsafl/IRiwZQ8jp6vP2qYXrIdLSvPc9ouA\n",
       "AAAAoUGeQniEfwFYQ9G+QqPpVPTOsP0GWhdidU42dAtsxcp2iXR+6DpRtK0v0iKhP+HbRPLalDWz\n",
       "OMwkgBLCINpf4oILDjCaSCRwlmZlQ29qpkOr1S2k45uhPAwcSblxcWwxaXE/5LfWXKNbnARWlg9F\n",
       "U64lObhB2tVzaJxd3jd6hpbOtBw/tlliDKBsnOiKbAzaMU87pFJVxkGvDM3R5d34q46pAAAAZAGe\n",
       "YXRH/wG5wzsThH0OeeFScu0/Xd/QhyWtn+peH5OKW++dBFzP4A+ijq3UTF3DyD9AuGq23O6iLimq\n",
       "FqebtXr4pngyoNDiRT8/0WJ1OtBPZOKSSxzHh//TnsbYrenDIqdIX0AAAABYAZ5jakf/ARX4OMtt\n",
       "GDZBxm+ae+3A6vWfsPSeDM2JGyx2u+gbYbVBIFQnxkHywcAbjqBmzOI/TmT5S0GBJqsMgizUHo0Q\n",
       "DBeimp8WSZET+3IxRn1hz8RLuwAAARpBmmhJqEFomUwIX//+jLAEJTQHjaOAEYo9mc4DvejgKyRK\n",
       "7O+PmxpFOYW0rerF71skV4aEpS04eZE8HkLK8C5hPWmcm9L//VD3+C38mzwd4fU/ZhD5inFxbLNx\n",
       "9+fGK/vttTL0BeQzcSNOHOumkT0MdVHj+wlzR/dY0FBkdEM/js78Q1H9izF/ZncGG2D02qrTPK8O\n",
       "WDtFpu9FBN7SuD7Cnu8ZSoDy/Q/MBK11AeUAtHgqNlZCb25gtLzEyJcHRhMFYUDHZe7+b1diqJxU\n",
       "zJvdULhBoFpF0xmXQJUOAz2D/25bBWKiScnD4Iah1ZWO8epqFYXrEMnWkyRiGEMvVtG/Xx8vk0Ls\n",
       "SJI5cvWOlxc9mkNxdh8fHS6kRPUAAACGQZ6GRREsI/8CqPKgdX9u/V347hajIhrdZbtiihTGxqbf\n",
       "BWkoH2V+ThRaf9VQXNU7IwzVTABvyUAeeZuwVTfMAvSSt+Y5VeTgBdAExYvjQp8aJJ9XFvkwh6c9\n",
       "MgaRtaGD80NR2HHhU+WJmsuymHbsdUIAiYi4W1YQiz2Kn7UG5/LyaZePCWkAAABaAZ6ldEf/BDGI\n",
       "jB/EqBDnsvEJ5IrOnIc86/4IlOe9V4+tQAftABUM7FY9q81r5yufyIeBjD2IjaRIueYx4duAyRSu\n",
       "/snbqdspcDAu8viXyZa7Hzrv9YgDDx1RAAAAcAGep2pH/wQz5BMrryLI0yxbu5ZD4SR1bdfMbt6v\n",
       "ngAH6XacH2IdD1/PD4Ft32vc3VfPj/A/C+UFZWwRIT/sZbiaj2W9gf5GqjEjmm2sSoRSGZQABt6g\n",
       "fWTYuig6QFVZok+Oyk28W1J+11U2yix6i0gAAAEKQZqsSahBbJlMCF///oywBCU2aiUhwEdQegDo\n",
       "kQByJYvZaPic5R4JTaKdOfTH9/G+idg5j6hVZ719a8EH2Demt9XtVniKWaxsmyluALqEUH6gv67C\n",
       "GNirzRmAQPeTu2IcKNeLhsSlZ4sDusVewpJEf2efpthWamIQlRcaHwrjw8WJxIhMz7FZHHy9JAEJ\n",
       "AqitsCa1mTha+LrLMLDZCGnYPWCn4nBjqSdF2tVJavpeAxchO7bdoiSfvJdt5BL8CCwY0azfQ46C\n",
       "U46DZLGlDdTSW+c9AwPERedE7bLxCYafemRL3Ij7O5+4Sre5aw21rk3FspWs/dEx2NFmiJS1j0a4\n",
       "8yAJkS2G4K9SePgAAACGQZ7KRRUsI/8CshPngoAhor3DwXKvXFXPEBcyqq+HL7DfHioLfy147zH+\n",
       "ytNyxvg5JGYaMBQwvxCD+Zd3BftqJy+fd4xQ1B6o+IaCDgfDRkVtLcq5hFazQj+TPYkpZG7PBGOa\n",
       "onAJbm4258/NeMCtkORb1r4fK0S7p1OaP7TmMJxUMfsEpmUAAABXAZ7pdEf/BDGIh9pGssLUxNmO\n",
       "m9iwqNF0toQP/u6xrp2pSqnZoPTzkAJPtWfqEuvQhGE1/ILDDXSvYgZjP9b/23DMGSnd2fHUktNv\n",
       "BDQG+eixXKOprDkgAAAASQGe62pH/wQz5BFFh4buP6olplPcsgI+rkwmoA6H/cgv3oXq+eEORVBE\n",
       "5TNnnYelrHdhckACHt/iauPIdQzETbd+3CyE4BW9BkwAAADrQZrwSahBbJlMCF///oywBCU0B5J2\n",
       "wBEqODG6/HBC/RfxE9klOLnJ2ZT13b38TSTxQUhK52LPwFZV//Kot4IeVixPmxRvSrboEgKilU7R\n",
       "xBDxUKuvveX/+IniSaF6VpJKKvyItUDZVbX0Z+ejLX+5CVPvEk6PziuaButK1359rXAs6fBtkFS1\n",
       "mjVXSS6UdFaSA9lrot8kGlc06WNdKLOp3h/u4qhySEa9F0SMzUwj2anTCtuStgvpPoYeDA17Kplg\n",
       "2iN6JxO9t6gmQy3edpA4irtC+9/Ak/ud05wdjqGH5Nn+mvfrg9zAPFlkcwAAAGxBnw5FFSwj/wKy\n",
       "E8Wg8Jc/w4vnrm9LQqh4r7J3G3IvJRepiT15qNJ5RqpGOAre1QLkNPj54lHxuCV8B16Th+kDoACL\n",
       "Ky5RZK+vfGuR09K86VXjeekDnGqbGi0t4ZNbRKEn7oCG2BvOEcvL6OEAAABRAZ8tdEf/BDGIjDl6\n",
       "RZWV7gSVYYNLrOc5ikvEgbrA5SOUSp3aAD9oAEsqIEfNcFNFaL8oA4zYI2AVj9fMhVJivBa+DMQn\n",
       "5vdfikKVn/I1r+HNAAAAUwGfL2pH/wQz5BNFheR1t23/Wz43mV3xcoBFprw7xx3cNJiIav0AAE6Y\n",
       "AAIXkoMI5sMlPzBUkfB2rc5pJlCnRHRdtQCx40DXZE8NUB7acFzHJRc/AAABAEGbNEmoQWyZTAhf\n",
       "//6MsAyvE5uYgXqlwAjFG+LLVWjJ58NQfQmsFm5yKohN+jeILzo1yvLZf1N768f6lGTGXYSl0hp7\n",
       "atxw+lnpk3Ip3YvGGRlXl76IG6FRQ02coCvirFM47gFAv98tFX/lcN/2t1ysbARlpyPZ81iLrx3i\n",
       "My4ebj/dgmII/hszt1kA2Un65kWfYRgqdl71yA7IThrzEaxjcJx1zjuaLbsZKmrlC3QFGZHrhujE\n",
       "HJ9d/TJ5jl/dFA6250YQdyKWLlSe2ShKG3M57bx5PONzDiXD25XwSKmVaWsO9M30Ks9OKfxFIjLq\n",
       "h21m1NDeF3RdStB8QPPIlIAAAABzQZ9SRRUsI/8CshPtPmLt4ve41AsQSVfnGC3rArap+qt/F95u\n",
       "aAQSq5YtxEH70FKyEftRc6pQIAHEwhV3CmGwQmVd/jCIqyyifzF5CJrKxGM77Ls+NtVyNhKfe6DL\n",
       "vh1lLganVL6v7Sg+GsXW6mmHvh5nwQAAAEcBn3F0R/8EMYiMpwfyKw9gIEcP0Le9/R9fzP36vGb4\n",
       "yUivWzFsr3K/sISFiFpRVHjgW/SXuHgtGNlOvjfo+t6M9ymIQEYD2wAAAE4Bn3NqR/8EM+KSbfQL\n",
       "k19/8PuAZLbdHdABwq56p8KfsD9g7FmbGpyAE0YZK8XHElfWgNLsBxTSd6gDzQsxDl1L7Ztj8XXf\n",
       "2fsiu1bTF1AAAADXQZt4SahBbJlMCFf//jhAD9tH+U3l2ABX8ERqTBts0gbO5R39Xq22JshwysoV\n",
       "20GrpF1bx9x78Z8cw7p51KBuhs8TT+thUVyqV0/8K3qOfLoR48d75JLzfg9YPJC5Vmy0w1+FHdVb\n",
       "QLrd8MK5l+yOn+zn8EuGI7ul6wEeBVyC3vbGUlMkiCYZChF14RBN+x5c7b256ikV7bzx75tyvfKe\n",
       "G3L1E0AFyNVh5iCRl1syRoIkoK+BQOAdJ24tr95EiwUVHI2DCq4tMOLMJrmyueAUBoHlzScbtEEA\n",
       "AABmQZ+WRRUsI/8CshPrZUs8qxfGh8fG+l+vUF36FpzM2HV6FuFAL/V6q9vNHtpaN8XBhsiwb1Kg\n",
       "U3w70W8wZRyT1U+sTVVgmqayxfcHheD/vuZL+HSS6+QL/SgHSdgBBYbqASAvWg2gAAAARgGftXRH\n",
       "/wQxhzxecLmYg1I3eN5rZL5auF1AJSDgRVNBXWFIRT7JV13/JXKerxzwInFpId/oWYTpuKjcbJqc\n",
       "MnuHWp8UOYEAAABHAZ+3akf/BDPkEywcVDopVYRitQqWncHLAfZRfzjmJ0gVzfI/v/H+a1IP7gGK\n",
       "v76kZRVEvN0Ok8D+efj0QRhWRTJFVGXlN6UAAADVQZu7SahBbJlMCFf//jhAEFVqUc57aoAR1rrH\n",
       "QEYy6hmMTzipvv0ZtRYP+8WXgSrf8sH9ZZGRoccsLht8Ff1s0fDXprzKYqj+rHBD+7phcs91G/no\n",
       "R3Hke72dXtmKsaVQCWZZNK1VUGSY6MevaV9ED2R9uYtLAvAB+SQGA0uPFKBb3vSfix12lg6DF47M\n",
       "qDheioJELjsnwbuoB7JbBX9CI0JasJtK0ub7HcZQruiYVVmH7nRydWhh2Ycje2FL4trBJaOG3stJ\n",
       "gNY4TVVD4v2ccVvTFANgAAAAUUGf2UUVLH8CK+ozR4aoJN9e+OMAFCGlzuAP9+CXrwkJFdXa7RYG\n",
       "YxxqcQLAlz0vIBFlo95Z4m+lfWp7zsBM4YQQypjLrjyYmtYx8MmILHApwQAAAEsBn/pqR/8BE9zR\n",
       "a2P4biDxlGvq1qLbURsEavrm2HuEkRRa9SyeFmeOqJxW7c6JKyvEvZg2bKHKJlmi4cWQsVK0Y0pp\n",
       "A5ygia9V3MAAAADvQZv8SahBbJlMCF///oywBEZLyrUtG+oARXcaH5q4RcEHxZ8niCZMV2FIUubt\n",
       "mZIl8rKnIxmre440d15JrzWqt8r1vvaHhkryCEfO6A+bIU3tLrpEuShecLkvJOsIA+9TtWsHEc5R\n",
       "fiYGhzoZ/6e6JEluVpKe3xuxLrbxkz62eltLPgrARgomdNp4W5btYoiTUQ0npIE//Jg9a8XMIgHU\n",
       "UwaZ4wigcc7YzhXQrjDX5YLY07K08v5PODDhwpjuR0AsLj/E1+QeVXaBjp5CAYm3ChnTelbVdavW\n",
       "9sMhE+ioYqc/IOx4Zx+qbvFLdXTYeokAAADRQZofSeEKUmUwIX/+jLAEQDKrcAmu0DYSYpBRNfM0\n",
       "Tz1Gw9d0LgJiKBkeGHQt8qMWik5AQ/nEhcxzf4Txj3dQeB35VAXisXaDRjaY3rt7dtw9YE5LU+6j\n",
       "WswepIl6HVPzw8B9zbVZwDonciJEsl5HmsYRbaSKOoxXYS4b91Bx2DAf1AWUAH8lxRo8Im1iHc8f\n",
       "0CZgmQ2qmDMRneJXNX3y0/3cyPe25smtUGhezu7G30io926MLwNWvTlycSfpcxT7CYjaiDgQJIx/\n",
       "iOc+QIlPb78AAABdQZ49RTRMfwIqDW+AMPCKkjWyOOjX4aoVJ17AK0hUa6pRv+LxI2n3PZbmQQPB\n",
       "LF90AFZHdT6oBOVIIWq69mlbwnnLADYfAHRXQsbsqcLx+KO6t4Z0IMPoGyl2RMm0AAAAVAGeXmpH\n",
       "/wRSSQqIJLE/baV0LB7oBfdDEGoTUEQAmdMqvCBjJXEVtJHGjdqx5300ob2HCijFbLGgKn4m95GS\n",
       "79ihIadlRjJSSX623opc+WF+O+dLuQAAAL5BmkNJqEFomUwIX//+jLAEQUW0Ujbhv4J+KxfG15Tx\n",
       "LI8pu9Go5WACsHUZ8nq4pi/rd5HltLXiWwTQ1rb5oFvkrNlUyrrDnLbEFYVfLEkebyG7lM1JU5dD\n",
       "vO/3d3c0VfzOR+m7nvFWgKEJPn5ahmZE1f2p2zr9LK2Vy627UadREXVo1zcLrr4p1630cnM+aRHA\n",
       "fLtQIko0TJPyW8eWZ6L9oncDa5bI+iXoZ53ueDYgf8XnqO4hwrvH9kktd7RBAAAAZEGeYUURLCP/\n",
       "AWG9refO/e75B0VsRqfx/4zoP6869LQXveUIO/R9G7Op8LBiEbqd3q5pBhLAN/KaCRRIC+juD+a+\n",
       "MPUI2J65n40W5YEO2NTtYU6d3QXHt21gA8Zoy/q5u6kDK4AAAABKAZ6AdEf/Aiodd/3/CZAj1Ige\n",
       "ZxQZ6eNtIwZ6+60qzWL9ML6cCFD6CL4Ww4G8O8zxpzAxz1wKWJwMxsZJpw6KEh5hFkmwJBnM9FUA\n",
       "AAA/AZ6Cakf/ARXP5BfcsBjaoWgEryoDXncIFkaTFDxtzMbkrJenDRnJ9yixRXkawXZp9renJ4sW\n",
       "4N8Q5pZcjJTQAAAAvEGah0moQWyZTAhf//6MsARFNlTkNGqAIPc0UVv1oTeg7xzomVdBllpxQOJs\n",
       "CYmjsThkNQbj/lVSX9azau0Hg1sdL52Vw2jHXpVNf6J55etPJAfsXdmJE1EEyvQkf2R9bb5VqFJT\n",
       "U28iGWLuJrl+xgzw/zCjPhMlTPCdz2Ki4bZdsmt6/nZ47qc8sirfKwzXCHnCASIQDGnXraOx4sGD\n",
       "OGl1YvqUSzAX/FRH6Sam+qXVahm7JaiUehtxwaohAAAAcUGepUUVLCP/AWG8CBZdN8IK3ws/WJU8\n",
       "64eE2lxZunpJlZWQ06FJ/vMABqWZJxRcAKyZIrwXI8TZmSKUBCtyX/gnShJ1mkujoU1lvOyclxON\n",
       "5UfxwDGpTKPQARV5VjDvItVcoauVCO+WHWVS22cVjAanAAAARgGexHRH/wEeF7TY4uFDHMLRn84n\n",
       "8iuRw1+iKbLV/v7uRBfYj12lf5QgaHn1+3bngMDsrxF58vtaQtxMT8KRdnTmys3onvUAAABWAZ7G\n",
       "akf/AR490fMPkMJEaeTJesn0wtu+SpyN/12eGAhRzO8VlQWK0jjNBecDtdmBjcejMqjYbMnL6gAl\n",
       "1L4Emx22zGzYgHoEz9aJV3T2u1QR1yWf2WkAAADDQZrLSahBbJlMCF///oywBEUz+g0X2AEY0iOC\n",
       "R4j0Inf9sasEcps1FT3oGfbHbjmfUgR3vsL1NtppgaoxO5aG/TIHoR4P4Ve17oPTWIvu34eTd7xe\n",
       "CHE3zdHNQ67EgIMOa0A7EfbW+ynWy8pSWBB9Q572z/QeJdWQAZcfn2LTmEXDiSnlayH9SAMC+fcx\n",
       "6a8YbVVlazRW5HWktQGyDh42EmDLf5Hlski1ztw9Rr3aHBQQAcp+vECU13/9ZqlbN1MCBolAAAAA\n",
       "bkGe6UUVLCP/Aqjypc4QpCvThGT/V/le6X7TpgadljwJswSVTAVf3/027H89eyAAD9HHHLQVVixv\n",
       "eG30YZlhyG+gdo3wAMkXToEh9MjEiSeFShA42hyC8i2MI6fdXImYyPbVG3zdUdRC7U6pMYeQAAAA\n",
       "SgGfCHRH/wQxiRVg2ox6KaAupWJlwuBhqhNBTjao5+RCpuwQfdTiW5I1Q+K6JsgVcjiQfPhI2Dfe\n",
       "A7g8liwtk4F6q2nG2ipOWBNxAAAAXQGfCmpH/wQz5GKruojKxjTqJqAen23X9QMLIl60nm/ifrJz\n",
       "8W27LBxa3/dmFoAJ151Y9VQFCW/Z2q2pojjltQYo1Tc+eF4tzsf/om6AGFGtAShOwEzCj+IOhCz2\n",
       "dAAAAKpBmw9JqEFsmUwIX//+jLAERTP6DSM6AHHARGHp28Pt6TT96+MGcQ9Ua1r6wR1i88FZWhgG\n",
       "kLnC9tl+wKb/ElVtzjksZ9eS4A/MYYoxIGoM/OAPjCY2XMiza9a6+rdn3OTqJopOd3/TvWiv9FMx\n",
       "OgLiO8HjgFFP+WmzRdnJ2T92w4vMc1JcqI+NqNfkkIt5NdSBFhhJPkHi37PMSMLs+3qltF/fBw5u\n",
       "EVkdDAAAAHNBny1FFSwj/wKyFCKToH085PkafkH21W7DJA/lD9NrmvVhyn60gGTVrkXQGQI/IAJu\n",
       "798YKRQMfV+4PCoWTOxabTD1R/3DoyyjKYlT4UzwPjJFU112gS0R2JFCcx7qa7GDE9N5Oq1uP4l9\n",
       "7XIZhRrQA4XhAAAARwGfTHRH/wQxiRhpHf1s4xYt95wBgQ3fspfbgZLgHSY0gb/qCJPGCoEt54S8\n",
       "AMXcPEePCEHwFgj5esA6nW0ccLnEMh3dOG7hAAAAWgGfTmpH/wQz5BVvg3VJ0BRm7TVzhJNQR1ga\n",
       "oWL3JWXVxAAg727cN6pJ8J7ohPUaOH22pryPBNN9Iqd92a/V/pXKfMkd71iT14NcxIfnqZgQRxYN\n",
       "TzX1K/KmWQAAAItBm1NJqEFsmUwIX//+jLANlxObmCLxSLXAER6deFcViU55+/gTrxeHN9DnLfdj\n",
       "Cf7HtWmZhHbCb6gND9vucDOH/AUkPlYaj3+Nov2xUX/6TVTEsxUc7fy2XR73fyKE2eSI1zFYbO/n\n",
       "9AHlMp7gTdpQ/Xl6EGuodhJXeI3wgCQ3Y75197bTHYEjDuAQAAAAS0GfcUUVLCP/ArIUIpYcaa6c\n",
       "k79xHxMQ3bYCrdGMhLQpehzYTTkwfQhML/BtlEjCu2GxApZs7iCYyA4+W6iojOshxK7i9AgkQQnF\n",
       "EAAAAFoBn5B0R/8EMYkOINPNAimtEwnHnEjLovNZBmkiX7+oblD59KMgAPz6+5NYeSMd3uIdm5HJ\n",
       "KS+ewHzLozzSjWTRPngEAQYYeAKNxYOdha5cG6ZOgXkiOcAIZEEAAABKAZ+Sakf/BFPgg+FZZqbW\n",
       "t38un7nQE7jrZWFBELQjmnSK44briHgkE+YASC0uSwc1VpDAAJPFE57LN1XqZeh/aq3AZsRn0peU\n",
       "pZAAAACQQZuXSahBbJlMCF///oywBGe56gS2pYBulUovBmjavp2DHiMk396TjGIj5B0cM5b2J4Us\n",
       "pHZPaKUAlSfqg1lzX20xrCEV0NTuTBShuvu204K4Ie55nSAP3lsHvZkJbiFzZwpQH8Mf4s48IK9r\n",
       "aFR++Hqw6XX5c+8xklWusu1cjcDrAmtY6/X43fjefKNJEusgAAAARUGftUUVLCP/AsQTZ+2gfb49\n",
       "/Gtf4v/CKw9umeh8qTPKtd3FLx6UnY9cCYx4y8Q7nIYdhVAFVaEPE518oPbJTl6xxS1jCwAAAD0B\n",
       "n9R0R/8EUX8MZUWuh0nyhZgvPPeYyQtQsUQWWXfTwzeZC52CIvd3ODw+SKtnjAjCdiKEwZBQ4poW\n",
       "P2CYAAAAOQGf1mpH/wRT4IY0sTLBNiHlGauKleK4lYP3ohpmnmLk2Kcu4mco2bfj+RiZx0Qk4YWD\n",
       "WBuliJ6VYQAAAIJBm9tJqEFsmUwIX//+jLAERTP6DSM6AEreOW0W+NqChogV/UECy1bJdnoB4mxm\n",
       "xntM1QB6ZF4ky9UivC58Fzj6K36mJiU+/EzxmMSHhak1/vVnyZyuqXrzlFcAP1qllExOHhmcN9Iz\n",
       "e9eGL0aF3fDs7nDAhhzgs3BmBO8ZoBvqtmL3AAAASkGf+UUVLCP/AsQTZ+MvpnROkkRSrUD0qLct\n",
       "+iQGfJb1dmBq6q1AL0HyCRPdzQUYb3dlZh1fsxt/HMfMGBvJaj3oEgw/O7/erOpgAAAARwGeGHRH\n",
       "/wRRfwxlRa8QQ655rK0d97ai1ycrbq7ARDmY9+gtekAJjPMHF5mbw1vzPg5BqBrXQOMpzIKQ/F/n\n",
       "8tXRb5r/jWrPAAAAQgGeGmpH/wRT4IY0v+K6BUPdX6G6KaVGOpVW/yKOreVYAJdi5sQGdO0Ny11x\n",
       "7f6zOpdEBEpWQxL5UQR4XaqLw9t42AAAAF9Bmh9JqEFsmUwIX//+jLAERTP6Dk82QQV4DRSYxbEE\n",
       "6/PErm1CE77nk4HZI7zdzbISnmAFECyw7icVX5MLgvIvO4OfKKlgz+H0+oTJAwao7wmFANdHw8oS\n",
       "gKMF8VVYDwAAAENBnj1FFSwj/wLEE2fthokWfNjWv9rQjGjUiVePeLyogE2+pktgkZ8GDGcc9hMm\n",
       "+FOO5rJLRqPaq479+jHDyEiFdPrRAAAAQQGeXHRH/wRRfwxlRa7WmR/9j9JLicrwf65O0v73E9O+\n",
       "xe8lLBSGQ8UADtYgJJ2lcjVAC9hjsJwsirRAxR/vpcqgAAAAQQGeXmpH/wRT4IVfbhPRNDWaqP4k\n",
       "X5+xj9WgPLVi7kaaclQAO1hXUAoaAaZAqr6qUzw4xMJRdA5u2VkcE0/2vM+eAAAAZ0GaQ0moQWyZ\n",
       "TAhf//6MsAQ/JX4PpquiOADjdhtQIzj0dQbQU02iSq1YX44Q+TLtPJShWeGvqEvD7mDgkJGMyLc0\n",
       "JQm6KjcaVnVaGJJRjNymta3/VezdruFNB8IUmkeO7GAYiSRJyWkAAABIQZ5hRRUsI/8CxBNn4UZb\n",
       "5M3ihrmF37BJ5OEAEW1NSH3V7vgOI0AVHM1ojaWbFIibL2Ic3poK/GY6Btg24+KmtbFUzaTCTy+i\n",
       "AAAAOQGegHRH/wRRfwxlRa7WmUbZoKdXro94Q3+fYXNAe3zMHCwkRh58rsr5CbJ7dG+go2rZopDB\n",
       "HxKMCQAAADQBnoJqR/8EU+CGNb/hXsk24nwGhsnFiiNaaUlfTnWzjSR3iaRuGU3zE0Dv5kn8FL3t\n",
       "voOAAAAAbEGahUmoQWyZTBRML//+jLAEP01xuTFr49vbPxO1wDYKhXAKpsPnv6LND3LjJ7Q3jZzd\n",
       "zCAA0wx5A4JY5CScURzgUgwZTUTRfx3f2crxKsu0P/nt0en56dREUZqw53Bruv/0X5woctWtLYmM\n",
       "6QAAAD4BnqRqR/8EVPexdbeywwSGQw/z3PCnfCZIG6Lcgt5gM4r/HrLNx+rXZFB+5yBQ0ldyJ/k/\n",
       "BsXtvLArr5FJoQAAAItBmqlJ4QpSZTAhf/6MsARAKYvBADdZZ6r94qdqnzsjsJI37dAEWj1Eo2I9\n",
       "O7SMY7mALWQFZcvmuRkmT9o05d/MA4VhP9hw4XzKZMm5I8DCbJPetR1VQsjGEo6zI6P1uS97Vrxc\n",
       "WEjwnOHcJXbeieUxsLwAJblu9FZ/bmqNGi6eqYMXKiCU5gtzMfXBAAAAQ0Gex0U0TCP/AsPUc8Dc\n",
       "ERX+bGtf7WhXFmClSedjnMhFOrpyzl4iCEUxFP75kWmWUErf7uYTO8GcJEYoA5+viMt4LOEAAAA9\n",
       "AZ7mdEf/BFF/DGVFrtaZH/2P1FfFk3dO+igDHRN0UabsgcDd/X2SHC5csHk9tExHFa6NQUnIpUH/\n",
       "HL6auAAAAD8BnuhqR/8EU+CFX24Tn6k3kfLCdChbO8iQQDV2RCqHtXQyu7dx/bk/Z9z80+OL/2Nq\n",
       "J8+kYyQQk6gF4q0rwWcAAAB8QZrtSahBaJlMCF///oywDZcTnIq4970do7LRvKnzFvr+TQF/SCIQ\n",
       "DnMXtgRrg7gzxvTU+WRU3b0rPNRMdSNWyW2Q8l6CBPB8tTQ/Xji4g64k7keyLSuUJZj0DtDfHdnh\n",
       "zqbpl1Agyqa89QAZFGVGEPFeJ+6yTnXm+fsAlQAAAE1BnwtFESwj/wLEE2gMUdY1B69yOIV8UpQk\n",
       "FVb9M2N5cPOkxe9pyeFvevRhgDVYYfsB0LDF4F8cunvWB/lXnrkVpBsnQAPo24jckSV+mAAAAEoB\n",
       "nyp0R/8EUX8Oa2h90u4Lv+EB8iku5wM6hy4KV7p++hbmcAAnTACDGXbtF7JHvBJ12kR7cLd9INRF\n",
       "vNnDbb5GC8IrKcMwEcymgAAAAEABnyxqR/8EU+CE6765zFhOvw+lz0GQJcYeZEfYNLxWe4gAmDwy\n",
       "CeLB7PO6uL47yAGsobIYGkgTUPyUVj0ylLbBAAAAekGbMUmoQWyZTAhf//6MsARfQjEKpN9vsSx4\n",
       "lrTfondnzojCYdcsux7z66zJW4GRcWU3ThgAFV1dOTs04GZz31tUv/uJizHYScuyR5YDRmlgTHT/\n",
       "mckhnyoHStHPX2Or8iWaay7hr7z/zshzxO7dzv730sSi+Z7l3HxPAAAAQ0GfT0UVLCP/ArIUJa0S\n",
       "0A589KFdYHPPQUhZpjbQrS1dkIlfx26HKeOvwGTiZjKqN4sua7RMdQjuwwESfLc3EZb/OI8AAAA8\n",
       "AZ9udEf/BDGJGGkd/is385hK/DiCvg1pX3KPO6bPH5lqVDC64SzcFiqrUVFnkRvQ51IlXzqKlbL6\n",
       "/mCAAAAAPwGfcGpH/wQz5GHrT2mqZ1EzqX5TrNNc15ZeOSnxzHqc+XMhtBADXdoAa+pbQ83RfMva\n",
       "GO8FfRr02NpJ+6yhpAAAAKVBm3VJqEFsmUwIX//+jLAEZeuFi09AB0NirhKF6hfn7LaqT9WqCSS+\n",
       "ZOEkSzn3LvWlv7n1KH1x5UPSe9H2vZK2rfWb+V39z2E0dhepYyuIqLpnkh1lozM5TpeFU4roBPn4\n",
       "a/ZW8sdliuFwn6uh1xNECZQvnmHaZdp637T8Mll86pkppT7qMG0jZsdgB1JDkfpunlozEQhKiAMq\n",
       "aIgyKUnUADNI+JcAAABKQZ+TRRUsI/8CuvKlzizo+6KDsBmEhTKLabpqnKLATJejoSV/MjiPFZ11\n",
       "QGO/UZV+aTednCvGWNFXkdX/1lVDdER6KlIORPUbTRQAAABDAZ+ydEf/BFGHon7rcQWYlRvT8lR6\n",
       "Hvk4GGZPk/8icmC8xACaMAIMZ6ieUIlvEAsCVpF8Rkxy+7CHR99Sb9zBdLQz+AAAADgBn7RqR/8E\n",
       "U+QS6CLj3XIiWXGIY84EB0YvJC32pU3WJlERxdnpDIexugUmS0b+4OX4yzb+XdqJuQAAALBBm7lJ\n",
       "qEFsmUwIX//+jLAEYCi4MAN+qIgyrrcSNq6b9exR+rqGgxNOjiiMasemF1GkfNLsI7AQGrBIwqZz\n",
       "L12WLQwpJnrTdLE4PTpeL47YOyUHA51EShq95GYXE0iwRXn1wgFO/aWA2cMV/u9roGVWgUJ6wpHS\n",
       "SHXojwlMIU8KvSAhvYtr9at++obn0nfhPg5dKRLfaqxlNTyrAaf+70CCd40JflTgS7ilB1zhMG8j\n",
       "dAAAAEtBn9dFFSwj/wLEFCKT79+8kAviFpkHJL+6htkmHskBtqOT+1Q6Z6gOyvVcgvvmSUUsrp4s\n",
       "RHzfGwJLlRcEHkhBpzHBh9/6sk8lQhMAAABCAZ/2dEf/BFGJFikgUfZO1m/o2pTFxv6ap/p0D9n/\n",
       "rA92bPvxsTDX4ltpxL8gRakVvf+s0AGu9tCvaFWtLCYxIBiBAAAAQAGf+GpH/wRT5GKkIJ17jG5M\n",
       "e/Ntq3IcRDnDnNnzrtHJSS4/GkULDa1YVY8y5iNFcL3k+n8QPwUOlHK/Zg7JH+UAAACNQZv9SahB\n",
       "bJlMCF///oywBGaK2Yli43QKlZxVuijWnCngAagvx3Ix3YN5w31JMTQ9Q2ZuMo24P0ZNUENdkQgE\n",
       "P3MPe10FGnf1XEkLczpgOWuT8WmKl53L0TwBsZLwimHBrb51rkhHKyq2G06BJE5Z7j5N3dkDqsc7\n",
       "vhV/bVytwrn2N8SQEbNWGzH/RiFHAAAASkGeG0UVLCP/AsQUIu+zJNSN2gAfBP0JYFDbU6k0589J\n",
       "udTJdWCcgARiCtN1WQLhxCknVnMGHGKqVVEDyoIR9yRxNPJkXsHwbjeAAAAARAGeOnRH/wRRiRhp\n",
       "ENPSsA7xF4Agucy99ve+e4jaPnwGm8PnwCAB++dl+DF9VNwKXkaBsAKffp5Aa0lsmTcG5il4ItmT\n",
       "AAAARQGePGpH/wRT5GTtEpygFTc50Lbisill2gY3k4aInezckCzYrWNN0AJowhTMwYJ10lRpUfud\n",
       "bFlmJ5mZM9RNhpSyVGchjQAAAKhBmiFJqEFsmUwIX//+jLAEYCkJ0AIxS7ggpWFq5Vcvg2W0Glem\n",
       "L2HPcbq1umUlzhdh0HadycuFCrA/ujZVQ2G/H4OPsRWZPr6VKKq5ApenvKxkcLf///Z68RBpGu/4\n",
       "ViI/+zs1LhxtxXkhf1t6XZf/7T12o+Z0ByzlNjJ3UOkQDrdbcUN3+Z/+1kVWZiN/63h5jlUCgwaH\n",
       "J7lgGpT59bEGZtqWfD6UMzgAAABMQZ5fRRUsI/8CxBQi77NcywfDh0pMRaAqPMk1qy1+th0159ku\n",
       "ytYYh0qWdM0dFVaXX537XFGk6wCHM9dMnWFws2lRxE11d+ZsEMuvvgAAAEQBnn50R/8EUYkYaR0w\n",
       "D2KyeF2EYQZZ7HavLr+RXQCmIV/ZG6AE0ftGEQdqQs+3LXns8f7zl68sJEwcxunXlGFy9HBC8wAA\n",
       "AD0BnmBqR/8EU+Rk7Q9/F6cZmyZOcm2T5EBbkcFSjv6uyM19ttCqjWCVluT5PgK39Zfg4UgUFChN\n",
       "81NR1atQAAAAeUGaZUmoQWyZTAhf//6MsARmR2ApH86AHHkKmwsFHoDvITAzep1JjWyCNMRr4onV\n",
       "nePmR3kag9CgEOGWmIpjWBokkRw+HdY9ykl8AvOocbOijWUysihoZl8D/cBqQaiIp/V8JpMSHngL\n",
       "H4Yqi+zOU2DIETY7bHAW7YEAAABSQZ6DRRUsI/8CxBQiad1vnjrsxVrW845HHGvMxhi5EYiwXF3F\n",
       "yjsWkQqLrPdvT4FUX8d8siJTLXLmQshEdZLOquJ3hzLNUfq89mfA5NVDtBQOngAAAEIBnqJ0R/8E\n",
       "UYkYaR39Y/mpYqIMiAbnr1pPr6h5vheH1t8CmjkGmvX3LYZSRl4S9/LwyMfZRi6uHCcjwBpEbEZK\n",
       "88EAAAA9AZ6kakf/BFPkZO0SkJ9LvolJixrpCRJVtwM+l1sGgvb1zo3pAfkjqCrm+U0+WR5/aITB\n",
       "X1uc1DULKCvXwQAAAJVBmqlJqEFsmUwIV//+OEAROyAOE5xMaK+pZABBSeFfmWDde5VN3cW29z/L\n",
       "1V2Fj0ug2WxRJJjAO0uja8fefBfhTuf0pLQSfdN34o26vFpcAFM5z8xDdBokRcOY98S4gEwXKhPY\n",
       "5sSpfMY0ClMzMKJG3rPlmivadgIVBim6u3zh8GJN30vZ8qxwSdIo98sEfDNjOw98gQAAAE1BnsdF\n",
       "FSwj/wLEFCLvs5PWyM7mWgCBjkgnwC11wY2B7AITdTRQI+YvYRDGXxSTIGCf62hOA+n5liiFbSxw\n",
       "IKMMKjbNGqyVYheamUnRwQAAADYBnuZ0R/8EUYkYaR3+PfICOTq78uP1W0ck7hpe1g37c5K2Trut\n",
       "+I7fFS7yso2UZREc1yIgBPAAAAA5AZ7oakf/BFPkZO0S/4tFZeDgs2UXRAKZEn5yZlHBiGm7OkLK\n",
       "Domo/wPwP+H9S1dddEgQIhWvyYKAAAAAfUGa6kmoQWyZTAhf//6MsASFKxpQHR9oAWkYbT9boKhI\n",
       "dqSg52jGNdOxTlG0KY+rxbtWfIroA9koNo81Xd/8Rz7EVq5pEXttMQCfU+VW6qdyNL6eNxpb60wm\n",
       "epgPWogpE/3afV5Fyn7If6SlC3026t0zXac03gSvjetSDRWtAAAAlUGbDUnhClJlMCF//oywBKEb\n",
       "6Mfbm6y+id0Id2d+7PBi5NL8JSKsHaDCZOoVbfbOM7mSgE6FwbsOqR0NQY7CWJr3x+GB+DguXr/c\n",
       "CRsq8kbA+dGX9+FsvfU7BFZCDhsWH88Mx4tYF3Au01tpcqrcv3nIi5f24n7kHfvtLJsyjCPxGM83\n",
       "wCoYLbl9Aoec6JCk4HUU3H5AAAAAUkGfK0U0TH8EVHecLwTFyrsL3fblcL+F6Vk/c2g1eXp3FgUG\n",
       "N7mArboAhfU3JFAB+hf6jKiDtsbpnGwyrRpZntc8GyyMStNYele2UwVykfoFHDYAAAA/AZ9Makf/\n",
       "BFPkYdKQQvtCWLQ6QH95UYsQd+ijxT+uk5L917AszA5M4jpifKatJHMxXKBpmJ8X7jAKoDTDvR//\n",
       "AAAAeEGbUUmoQWiZTAhf//6MsATAHbtJOI0AHU1RNT0L0AcufLV+mxm021Z/WAlmbicWmEO4tMhQ\n",
       "NW1JQPOfcyaI7sF+MC+EucQ5K6Tv/sz+zx3899QK9JJC5OOLiJQqF1qJ/GoSpnhY15Y2ZT9YNtTI\n",
       "u5DGC0yDQeTj/QAAAE1Bn29FESwj/wLEFCKVqsHCiAvcrxreK9aFXJ7eTngo24kdDChsOX4nSvpP\n",
       "RbNiOYN+hEZZFl1mHCPuhmb7Jwt/23EQ8kD65YJPv3qtYQAAAEEBn450R/8EUYkYaR3+PhwXyYui\n",
       "HRK+bCX+euGLpUV3Qxtwm1NXBTwB085ABMexHFVud8/534PM2tajubZzy4eogAAAAEcBn5BqR/8E\n",
       "U+Rk7RL/hj7JnCFhLiC8SkBMhL/j9Z0H6yZtUIN4zN4TpQ2PbAA+j/eN9IGFFzys7xlFFvPdVC1Q\n",
       "hAzqmrDI4AAAAIRBm5VJqEFsmUwIX//+jLAEZkdBb6ZAA4qv9HRhPnz2sRv/DzNI8QZEqQ17q86p\n",
       "eUX/GIUB7zRCo9O1N94+DJ+SkM4G0EPgC9rTCSTsF1NdRfZIS/Zwyc/69EAbkGCnTjnnKPemJx1L\n",
       "J1l1SegNv9iACgv6xF9QDD2VKO6s8HdZwkO9ojEAAABNQZ+zRRUsI/8CxBQinFteHMRgXGW4SWfj\n",
       "3Jwc4dQyVtqOBVs6FcntgFGJqzTf0IsfoynEIJWjwv8IyG02hf/6gTX7TOJD5tdv2pAQLyAAAABN\n",
       "AZ/SdEf/BFGJGGkd/SnUwApt0cQ+qvF4QdVLAFRYTozogY3DwEAD6P5cOvyV4lXq//OGQq2GUbdw\n",
       "edlCU34LBzz9dfMZGOh950ECkcAAAAA9AZ/Uakf/BFPkZO0S/ksah4MC9vSuIV7ZG6IZpUD9O1IM\n",
       "6Ss3OGCDXAXIOaEZjmXV4Me/ErVgi8iWS8qx9wAAAINBm9dJqEFsmUwUTC///oywBGaRFA3+rRAB\n",
       "HkGHCkboILS8/9bLHV5hOSorU6qBd5XHOtHbGPw7XjjXA7moP+IdXWVIST1B1eO47J47C6O6isUh\n",
       "FGFA3bg8JI+Ud0oUd2jZY6Jqy+BRxU6iv6ZlH5nb3QbvzJ7MyNjzCVHwZhJMjXxmgAAAAD8Bn/Zq\n",
       "R/8Ec+F1k7Riyv/o1AxkJpxiIUdfOcKzomx7wgDpD60/mgsE5ZyRkno43i5ZunYZXBid8TkKdJtI\n",
       "H5EAAACTQZv7SeEKUmUwIX/+jLAEXzM7117x+X4ArYl16R3wYmIc0rgTrFbA2mBJjYroPETcGj+p\n",
       "F9JIJ0fspA0EmWc6QH/sKWrPEu28Ru1O3cPlCitMii36jqs9rXDE9wJqJjkJdjgUySYxv0WvoXan\n",
       "+9dlG0BSOdfG8QGlEjICsjEYO6h28X9mIQnB4j6TMSRxFmaGhg4hAAAAU0GeGUU0TCP/AtYTSFaE\n",
       "DGUzFcerlxf0fpWkZgjNQsNIdM0gRMgoLBbG93wXmKo0fyjc9v5/v8HkvZyabtdS/y9QfQupbwCd\n",
       "Qi8lA4zTM7VV05u2AAAANQGeOHRH/wRxfwxlRa6ln1I8Vt4fAMOR80a1NUkV3nz5n7M0rCZeeY1T\n",
       "bb6aDZC8ZWgmW/vZAAAAOQGeOmpH/wRz4IVfbhO/ESx3zG4WcZlzwd1WpfYIHxN5o9fz+dDV7Npz\n",
       "tAxx4Zj2jLCnGV5/JT69wAAAAI9Bmj9JqEFomUwIX//+jLAEp+hMf75nm561hbdxNKJMx5b0eiYK\n",
       "NXmgx0Be0+eFL6QKmdxXk8AgAXLw9K7bPYOVcIBFznk0l0i4LcX+oLssPOx5CuCTdiNozidPZNJq\n",
       "vNVbycQQaCJ5f5Qn8RQBLwnD1p/+XpCtVmY+OH1GteCu6Lua4Jc+/5FrCfYB2UkxgQAAAFNBnl1F\n",
       "ESwj/wLWE2gMHZ/MxAtcpI2U66+cprleFigl6ZlyAad0JGNs85gO+g1Ewa4OPwrqyur2zJGHXbjz\n",
       "vIaHksaN53YcuPdrSD05b7Nkpv1RMQAAADsBnnx0R/8EcX8OzjONjzAJFcjfE6wIAG6iUW28NpEl\n",
       "LMYrkR8XxpJ9vhTrTkQPZl0g7nL3mSBYsVJn6AAAAD0Bnn5qR/8Ec+CFX24TW0v/He1sa9flZCx2\n",
       "dtRAXJUqftQfUkfpaQSYm/dNi0u8sKBQ5/UzOI9oAqUOt2Z2AAAAkkGaY0moQWyZTAhf//6MsASF\n",
       "zSju4lacE0NFjoqQTVKhhoW3D0LVWvdanahEt3/4nGMzIukzkaEn7//vxa3OC2dxH0ZjPHSao+Dz\n",
       "M+5c24g1Wp2ctCx6iUC/43qgpjwa9ivaFqPpCJIu8g86OzfkQ2EyyLUkMWK8doFL9At7x2FoLXNJ\n",
       "yRYkaVYm3jX7csjA0BitAAAAVkGegUUVLCP/AtYTaAw9TzMNcXJ/0WJvdq/RTGJR7MsPb4CiWXsf\n",
       "xcwAKDNB32VgLdcs8KH76/g+qLMbD05em/tDOy9UXzzP+h88JvZRPJH/EbH91IwoAAAAPQGeoHRH\n",
       "/wRxfw7NqhO6Y/iQHG//iFC1HKBKntWK4I8o4TYT6/lJM5rVTF8C5ffbnNKF7PJywnSJq7wcJsEA\n",
       "AABGAZ6iakf/BHPghmg7atOEXjPI5qAxlZJI5iweQZNzyvTvz0Zlteh0JE1A9DwCEzRzYVM+F8zk\n",
       "/1Io2fDLtLhOHD2L4rwQHAAAAK5BmqZJqEFsmUwIX//+jLAE4BxtJOPU59AF++hv3YWoZXuaDu8/\n",
       "Rem3RUDYNtAxaycQGddeCx4RbpP1HfEgiOXYtDAw7Vm82zZV1sGF9Xp5vNHCx0cNat72tFgfVKdL\n",
       "ixl73uew1SLxamXCX9wGAFmyviVh0XRpFENDp2KG8Nj7oC4cPBMbTmIf/GwSysBxTa4UdPQXpxMZ\n",
       "TS8UA6E6fU9/tR/U/dx9fczRsNPC1NEAAABMQZ7ERRUsfwR097G2hJZUjE0kmEujbSrCNyi+w4tg\n",
       "1Ds5UO3KuWnNokoxAiTc7/Giti2BdDbPTHI0gxiSK+Gfs+i+1wgy36LOAYmioQAAAEcBnuVqR/8E\n",
       "c+CE+4hmr6MdfZkxXBIrbA4wELS+qbxjDBlRvmGDQ/nOqkhQPlNe8anwF2vHFTmLMiSmJ2SVStuV\n",
       "EF8x+TSd3QAAALJBmulJqEFsmUwIX//+jLAFBWlpbstjsEAW2RJmN40b2Dm6IvqUId/LNp5la3yS\n",
       "XIGs005ag364PXN0fhWiPUjXlTI7JnoKkeBf8rn6mGK/7qVEfY5ZNGrygj0NV+ge8kCwY5Fwo8Ki\n",
       "cHQgxyn6LwsiXOJ/kIopEnUH4BAIoTQZBu6KCw4hb48erH99moy8lyxB/5i54D0lMTenZHOjJz5y\n",
       "UC1y8WB7k93Y+5P9MCYLaB2JAAAAV0GfB0UVLH8EdPextgz74RkC2aYXbF/S3yrYNML8hCd7kDZV\n",
       "vrZC5EQyAxcqxcmnFefg8CD5s914I7E5ngcc7okpSWXfFIEIrMvVYhA5sItO0P83t0kSCwAAAEYB\n",
       "nyhqR/8Ec+CGY73XudJ2SbLFKJZMVNlXHfknS96QnAYW/rurPDT/LyFFADO12fE/yjg8Nz2Xu9xa\n",
       "he+FMZ2D3VJAT3eAAAAA6UGbLUmoQWyZTAhf//6MsAUtaWlt4Jn5CAHGcpJ2fvxWv9MyM0h5i3RG\n",
       "trgwy2yLxhWt9y8pBPEpns5nZ/LjHfrVj7llsmGfdCYj+uQI9CPCBtqe3U3wNr4dBMiGajl+KAq8\n",
       "TA5Nvl4niZvwanhmECSeAo920CROrOxiQKvf2GAtaNz39dEbXbez2OTwuGVKCQZ7touKlgsiZ3qW\n",
       "CN15jCaAAHpEOwzWF5TyMAqXQAUBTVqVhm1PWvoW11qURV9WXyvpnf9CQhlBhkNdI3dpywsk7sBA\n",
       "ZUOwU9qETgIVM5zs/ilWK/njjKTvAAAAYEGfS0UVLCP/AtYTaAw9Txq3uArf6fHKwXfAzUObKwsg\n",
       "21yrvOqzH/Zs2SvtbaoBkzwjrvesMC5w+Wun1PSljNwaC3tutYi68HVAwrJcP6Wr/oGlacS6M+Dw\n",
       "3aBVKFeaIAAAAE8Bn2p0R/8EcX8OzaoTu/GCCYT8Ek4P2ai4uwMRKe8xbxHboJ1IVlwjGgHeYrbl\n",
       "I416s6jrmajEZtrI+s/Xpy/PN7rLeep/Hc/Osn9k0J0QAAAATwGfbGpH/wRz4IZjcaJ8vd6cDJs8\n",
       "Z6SpPHJ/5ITqDnYwrT/9Ggwc6chdPB5nmdEf54awOTL+Xzs8MtcvZyP+ZmA9WUtvK449Z2fC5D5B\n",
       "OMEAAAEAQZtxSahBbJlMCFf//jhAFFPo1njcOOWPWCADjgiO/zE/qhNh91RAD4IrLLNPLl+Qmp9h\n",
       "9c08unEAPd6IHMdL4L5zRWKQ3sOgAF7g+L5wxsm3/BEpZ6jmZUbpCOCci2HCiGFYlX7GgzIJ9Q/3\n",
       "6YmG3BnElRCu/RsTH9SFVnHjLzeh4NG28GbyQ0oRDmLiIlppjRrsFcMxf53jHVshKVQoRqNoOGyI\n",
       "IyBpthuIQBtmr5VWMrlOuGV/H/HuSfDVwniJ7xfbER9ove+8y1hRXQDtvMxaCYYL4Hbsu21Hf3De\n",
       "QXZ2DzFfCKBon04HjceZVy3Il/FaIuBS7GZo1FiDK3lJcQAAAHNBn49FFSwj/wLWE2gMHaEIn3Sv\n",
       "HOlq0mpZtPtowyTqhT1Xy6RclMoxQvvydpvT9tbz48HpyXjRFHEWVcAB++Ya0wSue6Zf9ARjH0gl\n",
       "cGBWGKaIc2dCkmIU83fTMhDj9+rCMKC3iFVEzDhuAB+iRi6qFpuRAAAAUwGfrnRH/wRxfw7FU8cz\n",
       "eOs4jBvVfDiD0QzT3QdbJEP7ta3EfjVPxuQQ0SxyKCX9UTNnFZvuFpV2D7BPr/aqxyL8iC5LEaX6\n",
       "QMo4AssdT/Mwf6YwAAAASwGfsGpH/wRz4IZoO2rT8G6F8squlR/pcDXsCiW14SR3E9AHbiPCHYlN\n",
       "HdGP0eCMfIwYNMRAqJJ1KNF3AraaYk61qHtlkFd1utf/YAAAANhBm7NJqEFsmUwUTCv//jhANfwR\n",
       "FIHBnhCe/wAOMwYHS/hYIrLHdnDv46NOETQvUDtY7yhk/8xNABq4+5vS6o1kJC1BOtHwXYBqKjxc\n",
       "raeVLdPamzbAEWhm0fFffo340ImVZ4z+w5d37TBwy3zhomxlbR2+a+V6kyFhuyGMOUslXpStNgUO\n",
       "21f0cn2NO836jSPqjpLNecpTbhFdxrNi/5WyGvGNl5u0DLCvnRSy0Zrxt6l1JpaApGkwUOgIsynI\n",
       "iI9rCHz9x/Iv7ySwoP727CX98HNivGog8VsAAABXAZ/Sakf/BHI/5NFSR3RXOFAkcgAvJJ7uUMCN\n",
       "xvw2GzGoaGzJeKH3MzJjkAc69315Mbo7icgtKX5xP9YeiBKEKExoZrPzhB2043Ny7FTKzQ7zrO0O\n",
       "XVFQAAABmEGb1knhClJlMCFf/jhAFayQz01RcwRFJAM/6EvGGkl2/9/6tSv/YQdhpzR0bOFCqTPv\n",
       "/4BiGi5PGJi6EwZxOb5YYo0lq4I6e5vQEFdL5RGby2EPqQcT4TBFsHB0GYpzAmUFJ9mhKQAtwdW7\n",
       "qXw2kfk8BibsQU1hQSkI7TepMWzvmBzioBiih+XOhWp3KkQg4GPjW+DJdEw39UgbyG2eMRBWj8Di\n",
       "zgRgnt4TI2BsPTtRAxCWVM+0VGksrv8SaHBiQXd2ENa+J9r6issETh6QXcbj2DSfSpPhC3iEEGeG\n",
       "Fws444wWukwit/G341z11FSiegC4XMJMMCRo+UyMI4rrvb/PAS5oCN3PQsLzaDZKZI30dTGzGuX4\n",
       "UD/2Xetc2gq5bEpuSo8iBCySlSHnXZY+LKPeUB1TVEGC7JVJxW/QT+Y693Mm8/6I6Uyrs8df7Han\n",
       "9OR0gDwH/Y0EPC4g8eEU66Bk/IWhCVMEEQ1waNzTyEc6EmB9vZ3nDAQq80bQKs2CwZ5Af08/bRVz\n",
       "1TFpnDq4D9KUURZESX6JUQAAAGFBn/RFNEx/BFR3m+gFJ+zFhUlDne13YbIOClak63txaTd6e4/C\n",
       "C8tmFDT2usPfDFXQvMj+Rlv/rpSOzOyA1v7qO7gvUZCD6gx7bFEDNuMwGOohHpEzIBDZp+J3jUrG\n",
       "soqBAAAAagGeFWpH/wRT5G6P+4zVWhNnewfCGLDHr9Nkc65LwEWmbowpb374froOAATtz8/cBkBG\n",
       "y396pZi4+WE9h8IoVLqRwfebDY/wO0gQ9VbNZBkz5xyj4afNO+thCNMCMh+Zgs/tF9VuKqdERh0A\n",
       "AAEcQZoXSahBaJlMCF///oywBd743MgHeHcW0pR13VgCG0s8QUAEtGh/7zq2AGrSb6Yu2il196/4\n",
       "L6Ow1NIpQ386Rp51U99KuEuMDG9PD+w9khL0SheMlpFlohq2hy5cSetQ0bOR4NM+Dvl0ocG8P9yh\n",
       "73h4LFZggXe2W57N0k9vAkjHR6yK3jPXDb3x1zTHue5jY5+wYSduQadX2RHFzF71h/MMMj9iGIdV\n",
       "3ak9oirMyR557LHw69vxDnKNthuujGKL+GGXtQ65nfT7U/kyAJ+MCq73MRR7VXd2f5VYwYD6VQBK\n",
       "bUX4fyKcaA5m5rQxtM3GfMZq59CmhwnKKZMewEOKX60bDmDapEsMWw79VMFAk6Ld1Gzb4vzdAMiO\n",
       "lpcAAAGNQZo7SeEKUmUwIV/+OEAXGW1ztBEAPi9FbAERQh6kwKffnXy8cm4i4JBv4IRGtFBtMw2L\n",
       "f82sWwYGYXboz3/qp7jHjd3A3TBm5a8upv+j2OGIg8K38DQpTiYvVPb5yQs3cRt1R+aVAnO29WhE\n",
       "8xnxh3bsLyjShYdV5LQbhgWDn/js/epSdoI8M4+Xqij/aRVfwt4TaGyIvVIQNI22V4vBeJ1xxXxN\n",
       "d1z1Xi5dPCzFjvshOyidWH1mBtl/zyhIUSuVyZUnHER9hXYZr2fqhzNy+c/udO0V8U56ffs8ZJJp\n",
       "pGdW32QwRap4gDfYPlW1TvK9Q2p+c9CxV1ESdttQAe+U/wjGwxdJmCFuD4q6hqhNxfvk0Z23I7Zn\n",
       "KRWTU5j98nNuxL0cFP+AAO8gOgeeTDCpOmzq9W+z9M039McXxOsF8dpSoeq5LKn+GZKNPW8L/dz+\n",
       "qmi6wSN1vdhYshqlwyChhrsiP556Nu0/7S8wGG/henUqJ/ZhZPgkhdRjePjbiqlIO/i6v1vrDOkA\n",
       "OxBdgQAAAGlBnllFNEwj/wLD1PUx/6IrFSQg9CrWC/pTVAB0Gg+xRYKvBGDvCl/h9ziX9H9G4zKQ\n",
       "Y2kXt+p8b8OO3WEEbGDGhX8TQr4jVKVJMEQaO4IwUqbx1zwUBVVTBavXFTU0TV1maVtdmctcb8wA\n",
       "AABYAZ54dEf/BFGJKxLLYt3Hwzmh+3S4f0A1KJBTWWDibruwsZeG61sYFizlVveTPCrrmmtMltFb\n",
       "eBgCwv6ALlMhOvyDYQ6p5cOos+bsjAklUDKli2bt1Al6QQAAAFoBnnpqR/8EU+RxxfU7y3tFDcyg\n",
       "zI6XU5gHy9oUr514+pT5mRupO+xfl9NI4TO6ai4lWUkGe+fjKjciC6vxbSbpLRlJlc9+l7dvYDsN\n",
       "PS1R914XWuEQIy9lulwAAADlQZp9SahBaJlMFPC//oywBk5ZAI+MmkPninn9HBZZ1U+3iwA6RTnj\n",
       "dWTiu4guKmQcV74r7MqoYKIWkKf1+Rmo+H+NlwujA4Md9AbCh6aq+LT+PsTZP1QZdyZHlmHGyb6p\n",
       "5fBkV514VZnCu5aDdYkpU8WfrKphwogu7kttZbTFs8o5NUf9R5E/2Ial8cTMMHHNffRJ68kzKsb5\n",
       "/FyZ05c3RsfAWswJ+xbezml+BBUO1HsIHBirKpi0H567zhJzBrw/XnLCUsI/PcKWIgHhPvhdENE8\n",
       "r8hTsSTY1XVYna75/XbCXJed4QAAAFUBnpxqR/8EVPlKNJjWSpQM8cS/0mS8NdeR8Whcd31hVyMv\n",
       "iANds9eBLOEdIg68/AX81Utm1BMs11iDj9dHhg/9tc3O0IrEhkn5ipWSVVCuoNA6FrqBAAAA4UGa\n",
       "n0nhClJlMFLC//6MsAaNUtLRRLM3v9egBF28j0UHcU365sLSOTFJiio3Z6RdJnyct3cM6DcaKiXD\n",
       "A5RIckQspNzBUAcr8dgqTQSufFXd/dqdRpoaVG67450FH6XwOlRzSu5yJ/Tq1CG3Z+nDeu0nq9nc\n",
       "AKf//O2Yc6LvQ4Uja5hh4W8Sd14fV4H1sN2aWBejS1+C2RbXJEBf+EO0ROXXmyRyO850K47xTCaH\n",
       "Y9JmZz9ed48GOhJHf9wUqGw37Vdaus8vSmSEkvjQHSlP/N1gV7Zh/uvEX2vm3A8CbHUJQAAAAFIB\n",
       "nr5qR/8CSitz6T1UjtqVLIAOXHEhbTvHnZ+CXguIyNTn/ov2EHYANtHYrAPDB2QmRFYjCJCYOXKh\n",
       "HVExJI5Gfmvn3L5jD4GLpIE4IGqqovngAAABGUGao0nhDomUwIX//oywBs9S0s9vgg9e21IAiU0k\n",
       "LIOyNw3Gaks2dy2U/ew5+kW3BDwa89L/ayVcUwlHlcvdejmCEksYwc0jf1732ZdZiLE7vJALISJt\n",
       "vvbrN5HDCWScoDzKvb/U2Ysbe6rHXodGIhv72cV4ogt+4qF9MmVBvwWIFaQVxEnvLDuPi7IPE0lQ\n",
       "5AW6EBnYqL7hh/xIItXDPLfMKHjoudYFqcehVhUSTLHxkXnNuZt7FmAHXv/mrqRHowsV7E6GkNVs\n",
       "KWhDmLlyDO04Ek4d02IHXsu/G6zRQcbyglNEPQN1bJAsugKl6qqdtwlKEcdQEDvdkNJRFYuHRD+Q\n",
       "EVIPl1A8guEfG2uLRiGULwD2UWwa3NGnAAAAZEGewUUVPCP/AXQ5pjVJC5DyTgk/eAdCOcFgLiSI\n",
       "/8+tu0WJP8dh0Mv6FYc9oxz9v0pHwscVw1Av2EcE1hBY9j1QnpkjA7XQSB9MpuR3yvp8cUAKMYZh\n",
       "f1JEzWPYeYTpMO3GmmEAAABLAZ7gdEf/Akt/9ae1Fw7hr+Oq+E0xJe6mvo7wL3YQ2AyvBKewm1AB\n",
       "+5VHyJ/pTR3SSRdh28xMjU0yoxt00DmjoK/6Gj5zXhReBvSbAAAARQGe4mpH/wJJfDNM0WFkbO9B\n",
       "nVeBANbYsTI+KjjdbHuPDzfXuMi6tPgYlSOyPiOVl0p/UfzzWRpzg+xRHPJ/Q4jPFdNeugAAARxB\n",
       "mudJqEFomUwIX//+jLAHGzW5iJ51XBQupQmT0z+ri1cw5JsDrohf8tXnKZFF2XaUXmXS1KFHBP9q\n",
       "xiMhWZAQj9ju+Pdp0mjW8N33kIIRvUcHKzjGPe24auSacXeLOizaZCkumJek9XQ1ovnySz3oAGyr\n",
       "FKNH7cqhcTkS5kOKmNEDNMiJ0oamruBMTZlF5Sak3slxzUzGJcu7DVGbULEiD30A7eZ2SruJkrIN\n",
       "Y9ZpzRZICWSH2wBW45X/58ldar8z6KUz30mnTgv/xf3BxMCKgGQNMf6d3M0OkdsRFCcrOAKjoTM1\n",
       "HURC/JluOr6e19K1/vyAwkhJDXIifT4vGwiIBlQhWqEciBCrvgvvnMyx2PBvNEWj2ZEPi80J0QAA\n",
       "AFZBnwVFESwj/wF+viWkLXHGdqv2saKoFfofOU1r0XGmBx43DxMNAMQhF7jdf0me1ToJc1SAd06u\n",
       "W1PRF2Tpt9w6YZujI8L9QYsXtyHekDCyocRqiAv0gQAAAEgBnyR0R/8ElGd+ka2nYJ7Ii4+b2ZdA\n",
       "wxT/JghA1CXtNyd/ypKfSKKhi56qHEBcJ2dhwv5a+tzP09mtXqNYDwiCpweJNxJ6ZiMAAABFAZ8m\n",
       "akf/BJT40fvvIAk23sY9cZjKIGU9YflEfnr3+CUqwHl0mAGigigX+PFWv04Fep+oo2CeIaszJhQm\n",
       "n2OsqEeWqf2JAAABBUGbK0moQWyZTAhf//6MsAducbmHEgieo9wNQMAIxS7qgvxa4EKp8FAdiD2W\n",
       "VQnY6bP3RF/fn96d61sZfZw3p6nxgNt7T35dLSNTrUw2ZMV97RhbDBr1hMYZkuLFCYzlKG7tg2NX\n",
       "xOwWY94AQjAnFevJWj8gxOLw49BOCk8Qb9uJW171r+1sodNPCeHf/oRv5YqCLLQrwdQtPidV5hGN\n",
       "z2yviPmjInLFM0S1bGu7YxNJZrgaj0GsIT+3HL8ZA5BcMvig/7SQT0UtxBkQs+gkZW6wmEeRbtbW\n",
       "LKsqRfczCbfDJy2ths7kllbocAEZHcw2W9T1Kt2qqo9+qW6vKW34iaFgpkGGLAAAAGhBn0lFFSwj\n",
       "/wF+DXzyWgYylX2KR7dkPe2aPT2TqMkpBjN7/VteClNc0EKFXnsLFIfrJJGkGwgA/ipsPWKZmO4d\n",
       "HMHWLVeYDYFapk/+bHtby+opYfMUX/Vniz5ips38aDxmsRAq48v/QAAAAEoBn2h0R/8CWq7uLBcz\n",
       "FQGB21RQvV2j38RXjl8GwFPBAcSf7y6jsjR9t75TCMov4aX/i6fthpS/tSiKQSMiXFxNeZaGy7iw\n",
       "OrumsQAAAE0Bn2pqR/8CWwBkgOAfZ2KpBVUATzGhbhSGMTN5LPxoMjSd03Dio0j86+9ODK61lTHs\n",
       "ZXWj1ctDbetNUNgAaYXCsIWKMaS7cixQtQ6joAAAASBBm29JqEFsmUwIX//+jLAEpWBrDXRltc5w\n",
       "QBEVOm7dwdX/6S8w/A1bKOUfnwb1Sv7OSP/bwVFVTAOCWe1ddvC6WUBDolZUXQdwB983A9BKXXdB\n",
       "79q9TXJYFvxNrp6DUMX9SGSePb+nDwRsEam9OUF6jwMgqSUpkMz1HcGGqWUZ7zs44mCeS7XA/yYj\n",
       "dLu/x86ZMR2RyxXH6RD6TU0bGAjZuFeZVcjP3xYbK5RohcI2luZQxsU59A5QWvFoAPT2p7IBrJkH\n",
       "ktgqa5BkB27h4/0d8ziKp04RZtsO4MJHIV6DWk7SidtSYhpcx5N2wSwyvwRx83WEE0PhSfVoglmh\n",
       "ctqb8JT9mF0ImqunaTXPnN2ZLJC5SYXxR6HGj4dcKuLCylwAAABmQZ+NRRUsI/8C3vKlzv4z2TNI\n",
       "6qi69GISeTuMAEoFUYLqS1hCeBkiJ3jIjDvZrXVLsU9rytqECBkIsFNzkSkEQDhOW3fIU4zIRFjp\n",
       "h2QGS0ThL75WRp+z9FIcYbFdTrXgAStaBJenAAAARQGfrHRH/wSRiJAe/zsjl3TyUcrOg8Bcy04a\n",
       "ADS6yodwlYwo4q3Pgy8Ku8m6qLNQmfqdoofDJdfKO5XFVTxgfNNxxTeWTQAAAEkBn65qR/8Ek+Ri\n",
       "m5rIh+MRkUaboYfnlLELYxe0dzIt97K2GI1awsCAEhzMDYfBRJEt52cqVFLb3+ZSNktL8/il+V9y\n",
       "S0rgbmLpAAABP0Gbs0moQWyZTAhf//6MsASlYGsQ9sAcFMbiaBLyxlr4E89/nCB9vzpSqS7hI5hK\n",
       "3pLzv8DZLR1yveG6OX4oCrxMDasH0NTYOjReMGOM0QxTmLXEn7+jBzea+CUh1AbPzkev5gv0KcTA\n",
       "TFdROBOGVSajVTcYomYBCsozFIjcG5XPKzZWkaOtdo/zUuqzFuB/sAKBrlyHJ/jtqu5ok/My5vnd\n",
       "l8rmX+/YPj5xTyDT/AE/MRUmP5p2K8Sey9GYnDUWXerCMDCiVsp67ykThPG/FzbTlJSuKTNMB83F\n",
       "T9//EVJM4e9SuBp+h2kKj22PPQT2C+yEjb5egHjZvY66qgONPilG0s8/S8N2C4lnSMjVtECo586z\n",
       "G1Uv1WJxHXdvFPP7yt9Tqw4D9g8ba07c+/2t0nD9gRpYloTm2Th8djpl/GYAAABmQZ/RRRUsI/8C\n",
       "6BQiinnPXQev6Xi3+xpQbBj7GcpWXIJgqVeYIy+2wknDRjGgzaDINlMm1oRwwqea07VxbIZdYqAI\n",
       "9js+VkSUnKjrPkq7R0OGyLwZKAzjJ6sXWB++gQ1u6ePikNGAAAAARgGf8HRH/wSRiIxtP655LYqq\n",
       "/BPLNXrsQtc22d78AI9S8FNqn+/SIldy1n4fuQh/xBQtDobCkU3BcFlg3HjPYKx9r0xS8Y0AAABA\n",
       "AZ/yakf/BJPkZFJ33oU5s81WkfG480WtRJf+Ixz9Yj20Er5XK3DWrwjxADssJCZPIN4ZbeoRMFUO\n",
       "SFZBDtXzdAAAAQJBm/dJqEFsmUwIX//+jLAEpTG29Q1wAI7lVBkpHvwLQLxiW1GMGeuk/OhwryRT\n",
       "pP3LNrdrY/UELNAUWarTuQt3PcLPPy0kJksvxMxf/8Qz/3zpLBrxlfVMn0haMSizp8mtrKPh12/W\n",
       "ppYzCVUj1oQEc+bwfGvv3MbYWebvlkUqOeHpoWK7KkZ42itAzaFclO/XzEjXzE/ktY55OxSoJ6XC\n",
       "hOrOXlckcCNXyY8nS+rqrAhAbA0lCB6ftDNwEYhDyJsjc63tOKjyC3P+BkDljmeo2pPBOvdpxAkA\n",
       "lk8V1nZJRuB13/3sU4ULDJcCWpRVQPob6395hRUW7DW9V4Pcot/UfmMAAABhQZ4VRRUsI/8C6BQi\n",
       "4SEx8K5H4GwGwitv92AZXFrlMioXUoZGmR1C8fHK57W+75crw3qIFFsfz9wcj9Hiu7Mg1sFGR130\n",
       "8OVACWiCvWgFyECVdBEfw6Va1nYcsDJT1XTwEQAAAEQBnjR0R/8EkYkWIQ8vZNODBzgL7fxROL+c\n",
       "1J57J4/cIUtOy3HLLIE2PO97/yaMtIzKY7HFanip7j7vlOq4bCKZMro1UAAAAEYBnjZqR/8Ek+Ri\n",
       "xKfR4Det9g3ihNNyaCIpFj36TIDpQ4GGzD0O7PkRzGt3AjPV9bZ5I01iUoSOTyG4wSF9tUAzNs7k\n",
       "GaLBAAAA0EGaOUmoQWyZTBRML//+jLAEpTpi0xABGxBTGPsnJZYWe9rkSKcwTY/n0w1Xmp7IeF0T\n",
       "lcfiPysACW6iE0e58/om43e3crcVjXTUVCdLFxeLObTxmxc7u3XdBF2zCkWayAcdEBgrEdLsdxHE\n",
       "G0kt0DOykrJAmWCBKgzwymme0oD1vw3gVjBaFoUqKW1waZ55gA9czon6FtF5wJgM2UMLyvACCYlQ\n",
       "Cul+1sZDTpDbFvpmAEm+w+stGibcF7Xc3tuIn3pGMm67DR574YdLIm5fSWEAAABFAZ5Yakf/BLT3\n",
       "sa8fZ4fO6lmQlv+S0xjNmMVTfEWAeZgKcoTh4lywfgfYM0YPo+pUeLbsaswYTn4mTq1wFFtmJjkr\n",
       "+YsKAAABBUGaXUnhClJlMCF//oywBKaK6y5GnLVObetXsgC8F4u6NgGVtn3wrJkfDRp1MUdzWZpk\n",
       "CYe2RyvxLRa0R80u7kqW7K3WP0HfmG6PpYK/i1BNYyM3SblN1qEV/U0FvlTo/vld/FvKHT45zQBr\n",
       "9xcDQ80IO/lkPBJZHrBqqJ+CJQ7PXAPVKRiDe5XhozdOomK+eTMX8eQs1h17OpcULOd4W2JOpwFT\n",
       "SfknB1/GsFNh+iI6hzrtoBTpGsVfMjAcjhsVQIk0MqZBIVoI4sPF20yfjpK3Tvxxl1YrAON78Gdm\n",
       "wL5nF019NChv+tI5c6HfJuqw1i0WdByosBuoHB8OOHXSSbzplnlf4QAAAFVBnntFNEwj/wLn1PNW\n",
       "YhwB8uVBO4huQMereKMb3YIrLhqutZ/AeazatNiOkBXa9BS6doJO1DbClRgWOn8s5zi1CxuHSoV2\n",
       "OAiU/kQ7FGhkeW034heWAAAAQgGemnRH/wSRiRY4Y5Gjhg0hHlvQED03Hu/y3exUlE3zNe9CveiG\n",
       "ZA8/+EYdy+pfmYGVvdBmT32+NFffSI0Iq9zfqwAAADkBnpxqR/8Ek+Rk7EL/8kSA+PVDTvPOUHjc\n",
       "Z8jdUxqnEWC7UBgfqZPB1oWCgR+dEzR5KhdVw/HOHDEAAADoQZqBSahBaJlMCF///oywBKAkkxCw\n",
       "I/Evbad3h+6OKwAq0Vph996l1/zyOCSiItAYJE99zasKrjoucR53/Ixf5P0+FRJIm6mxMptnK7TY\n",
       "zLBniWYTNxJCHdf7MWCHKd9x0FWmMuUux/N42Z1cCMhmK/4/bdAtOawsBK8QoVihEzGUQneuhnuN\n",
       "pbwBccY9NjOLQNhHOICiLFVktm4f7S9sXtY39JJeJekhZvpkZ/hqJ12A+TR5eVVO55jtiJdnCkMG\n",
       "mIu2A2gMTBRgAYkroi4LPfcEU3zyvcXNAHzwe6q6BElxw9k3ILrwmAAAAFJBnr9FESwj/wLoFCK5\n",
       "EfYYVyP0f3miV63XC5B9TYCHvp0NM59ZRUOPvIqwWF9RlKEBj+Smk+swCJ8aK4TwvVC5xfFHo8gs\n",
       "u1EAJh4SzuL/afBPAAAAQAGe3nRH/wSRiRYNGX6aocCC2X4vFGS+WBg8Qv2+hxJIkUDKFS/eSVLX\n",
       "nlbPPTg7T8bpnDJg8VERiYAXHaSgnIkAAAA/AZ7Aakf/BJPkYfsc6trSFVYQb9gr+NTvkZX8Zdth\n",
       "fhIUml/YbL5SDyKWWQut8izZ7GJI74qfrZfF4LJjwIMmAAAAuUGaxUmoQWyZTAhX//44QBHMdwvB\n",
       "M5yIeyURCIRBZ8sVZ0vl6AI7XQV2pBgHVFeP3+8R6aU5gCAnc82/m+hEK1Skd2mUrYEV/ZfTz2Ds\n",
       "lZmVj17ZeQySbLpX9wOX1RemfPo/R8AXX+CarPU+xJ39egxXN1L+jNYvQpUavAdLymj7OLTBwI33\n",
       "bCxbOckQFldPH/q33/cKDCU6C0scdygBMWti786/CQV2sLIL+y46M1+4XCvF/ubavhL5AAAAVUGe\n",
       "40UVLCP/AugUImpu9Ob9lE80Au6dPltf2X+FSQTsFJM+aHzJcSX48pH7GmZKZxNg9zwCFC7u070f\n",
       "P0JcGDrVxbcgQGua+FIUO8oiyGQNdO0s0jgAAAA+AZ8CdEf/BJGJGWIAHSyW5ZEXNZqpd47seOs+\n",
       "L+lXdEI1P6zmFqSXvE5QR71/6q5Q9pnN4d8Bc3ji4i/ArYEAAAA5AZ8Eakf/BJPkZOxDAK3CK6ek\n",
       "V+onvGarO04olFH+/T6ZezSwH19v8HYps0W+DP/3ebO09PaUYgcxAAAAvUGbB0moQWyZTBRML//+\n",
       "jLAEpTpiuhuOQJOHoARjXhh1EvWOnUmN5YhyULLZG3YDAPOdMOphAHuGeSHiDaAZObDBY2oq0UL5\n",
       "hWpILiGkG74osDAldOVKT5xVzAPwUUa3fLoSpTJ7UA7UX2ZieeUwVlzdR3LJQ0SV3djdq3eeMkxy\n",
       "3przsO2UI3h9PQ0QskQNZsD/IAMqZmkOg12E8ZPVYLJRNcg9CQSsrdpSlgYMiKdRaKv3I/Ty64Jr\n",
       "qG2d4QAAAD8BnyZqR/8ElPlDcZcuYI7s9UgHB4Kb1vidOgZqsoqq0MfmACFWrM9OcDioHCuvtjNP\n",
       "4LaZt4Ckqdfz9/S2otkAAADaQZsrSeEKUmUwIX/+jLAEoQchxZgAnO+2OtGoOlS0l+Jq6r5c298B\n",
       "LBM4FPAGQ9fQdkmnrBhKJIqTaQ2XnzEqQdO0v/c8se8a8DpvVYew6S48EqRma0LfrpfM4YagS51z\n",
       "OFDpnZrqWxSqHqyiLlcH4vtDTGCrf/ywqCclIISzfzkOZN8Rt2Jge3f1S3IQAqIQNcsa1Eb/eqdQ\n",
       "Ck/ApURt2YRRtLMtLX4QNbnHrmwLv2ZztGf6ckKcFFOZPPxFdIEUkRvQIL2ZNzJOmwzPqpKzQEvc\n",
       "oQR8pvlFsv8AAABTQZ9JRTRMI/8C59TzXQG7gEFIwG+h65/DQBOF3OFOTdJTmcmcs9AjWewkvbUW\n",
       "1keExVrIr0B2cNBMiTmrQCsEP1EzmsGI3W++IpDhSPeyDBUe7FgAAAA+AZ9odEf/BJGJFjhjkeJu\n",
       "2mhF4x4UMRacw8RFyD911U1uygjmXzExrr0uZyTG4hxVs51pzhWUZHVC/XxWW7MAAAA3AZ9qakf/\n",
       "BJPkY2DDRE6r8WqSbrcQbb89cXXJq4Wjlg/5A11dDPhUmBIMYJFMVD5stvDvmzh8wAAAAQBBm29J\n",
       "qEFomUwIX//+jLAEwCHHIAhOJ5UVnsLVAvJcye7OhTLOdMskPfTmf8CGwqbhxfrWEMUwQNAWXo+m\n",
       "mKt/EDca1k93DXUZob0DDvHic4+2Tm/+H13g++TPk3upxqKIEquvJPDGwtFVXGPeu4gfouFbGoph\n",
       "kg9gn+oja5tLH5r/YE90MpINfVfbDLe9g6p6GK9f1ciF3oRHSYScCuLin3nmtdZYYhgoCI1w74J2\n",
       "lZByb2XuYqYTgmPRu/SnBTv96GF7+27cmsscL66B+JCDo0rAPNZyjgRjjl6QMDOyx8lGpV5XCqQA\n",
       "N2Kd7FhGLF5d4pE1u53GLkYKdlmeVKGAAAAAUUGfjUURLCP/Av13LnFnJp799kwwLICQuuLkkd7A\n",
       "PUHtmIQRP6Tn9v6Og9rjUdCg5fdDQCodEiWGC9urlhpVj2UbPVgQ4LkYNfbrOYUhc0+kgQAAADYB\n",
       "n6x0R/8EkYkvhMoFa+kZJzbI9xjqW7M6CkD68gsueGbVlf8Ef1q8mCA5abwsqAl8iDqGE5EAAAA9\n",
       "AZ+uakf/BJPkYrU7keVInRLLj9sP/TCoi8ST9mBT60LtNwQIblO3s8qbC5M4OFvIBA/eHS+Ktb/2\n",
       "c5QZMQAAAPhBm7FJqEFsmUwUTC///oywBMWF2QJNogAJ1ZAIfSDCLqKlwCjkpdytYPmf6C0gJXBw\n",
       "bXiXzw0oTEPHj19h7aR/xvR2X2oxXLVsfOqspF+yO0X6XmIGoHrBAPh6NCckArwjzTjSzccJbzrn\n",
       "yiFR3DnHjxAWjuMyEML+C2qUPKFcvtc92NZPcVLOHoTuKs7uaiDV0SX9qsicEgN4K5Zl9IR2/g7i\n",
       "ZXkqTvF2F8dqWCOuaS8/K3K7SfIPcy3/RGJYk8FS3YhTvSpCSCLKY4AeMoAPU6aRoMP5O0VBeXLg\n",
       "BYQyy1IpR8Tdh+I/HwnKV2Gy1zoUAAAq4Dl/cAAAAD0Bn9BqR/8EtPexthFaxl2NaK5lDIlWRnSC\n",
       "wzXbNGuMfr9InJX5bC0KV6iF3f2HSHHL9B6vDbzYjGOdMU5YAAABAUGb1UnhClJlMCF//oywBMAh\n",
       "xyAC/iC5bh0VWNM8hZ2wtjz/oFtprtqNO/9/7JvinkEAXUcCc/JBLYcqpG3ah0TJA7pgS8uxWZKb\n",
       "mdx2QPiLfOGRT5329LVjd10P/K2xYnhalzJc7jermZAq6tE1dhHNo8pU7/BzgFZpe01tPCoFYnDV\n",
       "h/3kZpiHEH338Q3D/aVeoc8QBroqZlz/1RjREKdDg3N21G+pqXklXSPgDqAmhV7CxfXxlDSWtSbE\n",
       "Rcu6PYKR1wJ8AK0Ix4dAw16g8x8iHfGPNd3pQAq989a+TBJQHL5Hb2yHeMK+Sgpq3Mo5wXfUvQHw\n",
       "c6Y9HFByiojlw5yBAAAAYUGf80U0TCP/AufU9N8xjsnJ0gB9C6qwB3a9PllLolsUc8TfsNxp4eIK\n",
       "fUaBv1btw4sRmo+Tum/hIsMaznbUQkY4MS2vJAYDlMQFFC/8e7oL7e/GGUdABDAH2aXbckENUTEA\n",
       "AAAzAZ4SdEf/BJGJLm1Pf9AZ7ayRtrPleN3nmFW7g/3EusjlOoK0pV8LKGCvCJWvz/uq96EoAAAA\n",
       "NAGeFGpH/wST5HCbevHOAY97FIlkVagGevT5kwmdIX+HanvnOpp0SxyCS7AfEpMmE589IOkAAAD2\n",
       "QZoZSahBaJlMCF///oywBMAhxyACJ55f48CxQYpINv+mOo37i10k/CZXEHjE6rFtCLU6fz7aRdTs\n",
       "alIyKst0djvZf4FVAzNPmp7pUy7B/+4BdfOk0nXrG3SK8FqeY0PLn9P1X187wjeEFYUPmbq8mJsK\n",
       "XZCFQJ5cu1xmNZ2DlH7qP/gesHWyTMogdO26ummZHtRJMr8LBwt9aFmGj1+C+Tb0Pq5KoU2xH/DT\n",
       "ZjlNRXbKW1tAYcbwpIJKvuiowDYsrD4NEeoPgNPXTm1LCZArFnIR+YxGkG8JNU7AzuRm9sXsB0pV\n",
       "jCYDEAxBBmy9HhGkmigzoFCAAAAAV0GeN0URLCP/AugUJO5Knln86Kt5uWblkUfbmF3CPYx4a+E4\n",
       "m1pxBgdcnrbbM3pcUIovOmKUcK0S/e0vsHcEpmngDgelOVoph1BHDsW0AGvULWD9+AS1UQAAADIB\n",
       "nlZ0R/8EkYksde7n+TFvFRSabjXEPAh9ix7QMO8gCWqWqmTn/EmxC73g44ZJxENegQAAACwBnlhq\n",
       "R/8Ek+Rwm5bW4cdg0AqkswREF2K24fZdxd9nqZzf0RgOtgFx/WLmtwAAAPRBml1JqEFsmUwIX//+\n",
       "jLAEwpZyiACNWHp1UwCDdzG2HelGZWGMOKq1hc3E3N+E1bPCwZRu2GnYwkqIRTYlHL6SN65ne6of\n",
       "dfTW/az96d/+EfVgsURRiSxrBZGhGkSIE2h3J+4JoTDo5iVCJB2ljyO5Wv0JMWkBA6o+qUvc4YWt\n",
       "SZONpmbk9fx1cJLM9uI+/x76R1yAf207v0h9n2T3DNUMJSEI16B7ySZ8ndWmqKt5ZBZq4/QHmZtv\n",
       "a4nEYR70/aAs8Q6HfJuoZcLNwz61/2BLV1l9KC0vQtyr1u0sLYMS4RiEobwv6Fgk/NutSHeZwovA\n",
       "91p1AAAAVkGee0UVLCP/AugUJO5KnnQfXSHvTo7gxj1+Io13n1CKwdxLXdzadIwvZlOUyGN58vms\n",
       "aqPINApNWGH6VnAaBLXyz0eo3mxrD6dtoAP20H2Yp/PP+xNqAAAALwGemnRH/wSRiS4Rwpvbl1jV\n",
       "Kbl1K7Q7FrGIau9NtHFhAOpeIHiXQ9obfEjkwLQhAAAANQGenGpH/wST5G1ZL9lBtrH0dzXIN8ok\n",
       "cfDx4PVnxJyr8pOpn1FYIfQ4XhzHpYoFRU/LZ37BAAABBkGagUmoQWyZTAhf//6MsATFMcRwGAEV\n",
       "DwRqsnz3q/11MEJ4ezKIW+FhFeyTGrMwFb1uza0SJohfqTrXJr4j+GtrRrQsNlJHoq6t6rfY4vr+\n",
       "I0QacaiuSIJKcM8RDAZUzUeOm1vhBp5410VP9Pe1QHPOvXoFeTrIA//rvDN0qDFrNdZCP5LmdoIk\n",
       "prBLeWG5QX/BGl2rMO7pqh9dwNL0cGQVWfpWu7wkeNMfWWg3rKw2Se/OjnVx57syrvmhpXBYvffC\n",
       "XQzm7f/mnlI/tXYJPDbcB+2zbS7H7FaPY66vLJX9Pr1BsJZsOAf3rtBLb3EbPQUN8KHncKO0lHPF\n",
       "eicXvlVvShAwIwgAAABQQZ6/RRUsI/8C6BQk4qTNdgVQHsXVHQPHCyNXzgqLNj3Wy5wPSl1okFaZ\n",
       "CEuQ7NbtAINokGzaC/MVWlw/8/DwAsRBe4sKHZvKgAk07Ho7/XgAAAAvAZ7edEf/BJGJLhHZ6zF+\n",
       "8ZQWFqKTGZIlJ4xgYwqN/slblpcTO6wlORBt4hn3pCEAAAAsAZ7Aakf/BJPkcJzqqItEwrrkniwk\n",
       "xIYltE+1NLmXAnvi8BvqzbRZ9t4Lc+AAAAEBQZrFSahBbJlMCF///oywBL8oHrxNTMAF0b/qreFI\n",
       "RzD1Rs3NhhzHB8wjwVzlz7jlm4YMhFuaCKhfws2PgkfkkTbn29avNAE2ukZF3yn/99BBADVE7xEn\n",
       "M2+xY38iiw2hi/VGm7pLmupPZU7j3vOkV8BXvv7GjaTyo8lmkG57eYCtGur5X/4UUTrm+yHUtIDI\n",
       "EoiDLSB1kFPRrun1JS/+YH1Gu0z6dkRJPU37DFPX5t9ZHmIRGPnijdAplV+Ssi+Yg7NSxT+1RRYQ\n",
       "Gvb+PwmbMUHPK4gcWqIolzpxQaEUuhjMaKmYppC9bUOO3PvhsFVYUgUa+SeNwn/1RV0jvpp0XFMA\n",
       "AABLQZ7jRRUsI/8C6BQlbTLJQAR02q/PcJuHgsJagy6gEK/cpGfkUxBY0na2VGNxDjwAZ5lrCJNX\n",
       "WAt4g4uhv71q5sYAPGUHnTN8ZGvAAAAAKgGfAnRH/wSRiS4RwTfkw71KV38tJt8vxJIl2GkRhiMJ\n",
       "k1iusNjOHXjqwQAAAC0BnwRqR/8Ek+RyhDeeBN8Hgk31CyCUp9Y/zneSts4sOhMykhTOuvn4L6V1\n",
       "8oMAAADmQZsJSahBbJlMCF///oywBMAhjDT5pMAxJQI5/TQAajupUqmKDJ7uW/6agKFYYK2R8n7O\n",
       "MYjOjGC51p7SI0Rxpv21yhIFgzAf6utnsYjDoaGiXnUcEvQp0xFhxXCVYzYo6qeis98tJfmulJ94\n",
       "TIv7qH1X++l0KTinJQyHptacAalWh/1r2Sd7hBKjN/nOmOITINBJ73IGZhsHzguKyazufeXVkh9y\n",
       "n3bULmIU7N779N/1KOO0xNOcIYiQEgpkYKe2k7SB3bG9bsVrqKC45SYPq6x/D4rAENrncNuQfAce\n",
       "8H+ehVQXLoEAAABSQZ8nRRUsI/8C6BQk4qStOvKUAIlfJjMiDOojlP+LVKoPwQx1xzcuUkY2bND2\n",
       "4+XV8s2I/cMGNCT5+1M4psWEVs383ogzhdLgAlof+BdrL2cMQQAAAC0Bn0Z0R/8EkYkvPo7rJfW4\n",
       "BJsEds5nxMvpRhcAOWmAO2uy0gDkXTdA74t6lcAAAAAqAZ9Iakf/BJPkcJzqqKL1hFonB6wotkT2\n",
       "G5NUV6uN1RH7l/YoNtHeLaiAAAAA+UGbTUmoQWyZTAhf//6MsATBnd9WYAJtVhbUL4qVbHfpgWK/\n",
       "SEUqdgFAUfYKqRGBy3vYBwasc/mWsCJhP1wOQFA+hwq/tvLj7xeqqoCro8bekwBY6sAGGO6BbeFA\n",
       "2AbNTZ6AfP87DCBltkNLbdd1uuIgxPOg7lU/4R9n1D7DtEJ3B+kflF4ReOCEMMzEuRDMJYW6vijq\n",
       "Ts4qUa8GOKbWS/Dk9vd2NwZtIwE9ViSkcBHtgfCDqw/rWiSwDzffDNr9MD04Mka45u/SJoH3l24D\n",
       "VnSQ9xD62msq+iUDE8IxJAIszmkJHld5yOKjSUz89gHyxJfD0A3h6vlsZQAAAEZBn2tFFSwj/wLo\n",
       "FCVtTIIfh4JaW7Qwh3ZbEXFLKrnXiYttzAjUxCQG42J11rHtiLbCQA1qSkj4fiVS/k1momv9LqjL\n",
       "O8MmAAAAMAGfinRH/wTUcewNRJC7pwT8SrC2z1Sa5K/cVViDzaZ+a/ToqbOO6MLcxIpazudJgAAA\n",
       "AC0Bn4xqR/8E1PrziH4IY9cpoD64D/NNF8PE3/7JHCW4VQVZvZc7EoXCB18H7sEAAACwQZuRSahB\n",
       "bJlMCF///oywBMUxxLX6MAK9YtUWpCd4xClDPRVZMMH++lg/vPU/+wHjpFME7bGlrtf37RaXUxZX\n",
       "nQd3BOZ1YoyBQGRraSSCnk7kzWq4UdzW9jNKV1W//XizzBsTE/x7TLWLU2t2CUxQR9AHm7QbtwKz\n",
       "P9vQB54bDdVQ0IVW0G2rYbWFcKnP6v29wITyvtpvvHrNeqn2Tddho9QHaiTYl/HNPknvLjQu+ZEA\n",
       "AAA/QZ+vRRUsI/8DE24xZOp6bxrHewItl1ioyl0W0mlYo4Jsamt8SCO/ALyxuSxYcY1w2gWQwhpJ\n",
       "YuDipvKMZOBTAAAAKQGfznRH/wTRj7hQPHWLo5MaM2ac3mGDkHS2ZocKsAHzKmdfGmUQhDKAAAAA\n",
       "KQGf0GpH/wTT6IQf82mklnzD/shMIphlkF1gbKrqOu9g242Adp8KG1uAAAAA7kGb1UmoQWyZTAhf\n",
       "//6MsATjvzipwnE6ABurE36TLQ6uVemP4Y5LFuDz3oBhrlJys1LdLFuGFDN4f7rK+aDXsTRFtJHh\n",
       "khPCOpJY3BSvls+5ux+Mx8TnMUs/th6TsQGB7wmew08BTeZ+jO/sLMgioMskhKed68nY5CIel0Xn\n",
       "D+94LtQ6YNb4hc5mxr8oV2gBeB/0rWKh6DuXdDRwZ16cP09eWjZryvSVDeZZXRbMjoeyzwP/G99j\n",
       "HAfQxehxIKPfOqU41f03Jwv9Sas8g50rxqMH7s6GviZkN7Op0t90FU4MITencZiHJodDpB/DDZ8A\n",
       "AABBQZ/zRRUsI/8DE7oiyfuAY4FYo9VC1Mkr9EgEmL0VYCLBSt1M4/Lyb1HFyF/YpU4igiYgYydO\n",
       "6/23ZVmSz+sl82UAAAArAZ4SdEf/BNGPuF8XA0h/G3yhAdovArcl0EOK/Ht3lqWn2/p0ZMVh5HUE\n",
       "JAAAACsBnhRqR/8E0+iEJewTxc7rwP1Yu/pPs1lx/70EB9mV+ueCwCf15EXoZagxAAAA3kGaGUmo\n",
       "QWyZTAhf//6MsBMef1dho45ACD7o3GM9+Oq3YL4KYzCFyto/d3cjo5+TF1nQAy9SNYYEd4Hxsa+F\n",
       "mcTXpua4flDdfgkXX9oyJ0lr02CklVW81MGca1xssGM6HKh22qX1yXbwrLsvLCiSPrZ08Am33rdi\n",
       "ANmt7P9QnnrfxdBS0moMIBj+Vo1LgFdWLtYXKIO9CITDzga/kHWfXY8SpvL0sW7nwM8LN1c/ohbK\n",
       "AdEs+vyplepG2la1NuKYDAQp4NAixAEZBoPvwbiKdYy9pFlL4s1p9+FMkw6vgAAAAENBnjdFFSwj\n",
       "/wMSC3oxQ9CNsadnRWVNn9lM5R1BpqMzy3ibRP/kClxYJUHlGnXgu5RUY2u73C3IW7G96Ddk/MI2\n",
       "RODJAAAALAGeVnRH/wTRj7hfEbhNKb8rNlQysa5RVZt0v3/w74ICvgkM8OApqD9W3q2BAAAALQGe\n",
       "WGpH/wST5HKEQl0zQJ2K8YnEk6zPMpGG/ZWjA9rzmRLjR8z9gL2mx+zZfAAACX9liIIADv/+906/\n",
       "AptFl2oDklcK9sqkJlm5UmsB8qYAAAMAABGwbnyXDXmr0iQAAK9b30j9M/5gEuGQXtFulopvbzDZ\n",
       "dsdGg/Nmi6R051mliCSL4IdCuv/Wyh9ZlAIsTLQF0h3d178vhTxGlquCT3dxAS1fbZ69UpQx5y0w\n",
       "TxehC6paBFYlWtmBsv4ayDZ7kwrU1Gqv4Wf0vLy1Ok2Yr2Saee727LeHDhp0qNBn1mFc2BSo2JtV\n",
       "xWY+7iFFlCiRoX8Vqs7e823sxdwBElEkBcSKlCt0ceYBlt/yJMfnVbA/MTmRkAzf+qK1n16NUYid\n",
       "z+sqm+a+pjVxIpRoWEtQUc7Q+vr8WrAlS808E1Allf4+wFfD/9NdDaMDtEnexa881+YswoKCNaYm\n",
       "s444vn20ynB6fIFtj7atiO8U6vUV73rK/35g0P8sawKX195veLcfutBcafJx5+pmbLt2B5HVtfsB\n",
       "qKU/RL79X0V7FL8ht43+e2UXUL6triQHvXRVWW8AnUr7EZE3Tx6BvVjTTadMQJp76zn2HNPhI2O7\n",
       "7CEwai/JAGMgyGBesnXyBeuj2CGfy8ztKAZyaS7M7WB6uWx5ZJWOtziUN89WjhKydgNSc6cS/9ta\n",
       "qxkh0LwVbxNUr7Q7J9GwU8Xu+XBampwAqWyE5OVmWKkTg3yTsp/Qz+6irLm/Q/eHSmk4sOAEscOA\n",
       "hv2AvAUK0ajmLXej4HbjgQZ5qv3zDXP+ex1tppcBYB/nAS2QweJgDwx/uxoov0CmVicgBE5vn9Gu\n",
       "9BhaAQVYcNj5PUPnwebjQvSJqwfyOWp4x7LL0r5Tcvg0htREoj46vo/WxOaHm2bH9ltrRKx2KXOb\n",
       "5mJ9fMTGl1KA/L/4YMApbxCnkCY6M7TanfZj2+f+cQfZPVLunh2YJn20TvU48mOz17wzbsxxnAo9\n",
       "8G0Z6/K4b7VBVLBmHLulmZDUOc6RpC9S+SrgV24DPiT4BQX/3vp3YcP5plD8uRahDshzqexugNIl\n",
       "xzpmOYDqc5QxgKODHzzCsBSMbqaKsCKdpFCmrjfccZnWj9FHQINjlJ8oA07Tv5y36f+iGC9//Ruz\n",
       "Qm/PXlvVKREBLpv0xY4JfqzQOZiYQlCA10qB5jNDT75gpAz8LFoD38JoGlETWR4otxfjUXYjnxZo\n",
       "HBuugY3mZGIqr38M+Ecvx6bBG4eiGRQCo1PFx363xi1kcSFts7jLTL2q99dvSci4jpcbZxJ7RSIi\n",
       "aKepmIQmMwMZmjjufJlY2Be/b0qsrAJAaFDwEtweb7GVZfHAAtcnI2OTCn2f6zVd8hTA9y+Ty3/q\n",
       "nVwxU1yTMjF/p0g6TqlEDkQtu1lq37CO9Ea3R3DdQAm2DsA3E0XLnH0UEhBawej1uyl+aQJOt3Er\n",
       "qewq7xu4gCS6YRO0vmkf4MmWX1Nj5FGtWAeywjY42MMrrve8qX7lJfROXa9jMuVmlq0kjdnRveII\n",
       "t3j9bZY+8XvmZ6QPc648JlN4zCdbspqGUrpWhLNA7ISYiRZV7lJm/6wovqa/aSglCfXsBgm/KQyD\n",
       "hJVAAgQDH4W6aU5EPlWlxkp/JGdXomrLMIROSMkmg11H+t/J8H1F8NU1M56Mpw8NwzkJgKKLI2ke\n",
       "SBSG4G3IxiAbUtp8bGjNWtH47f/9KtZ7YlmRqu7AFByFgoBbjzCp+ndzFJX9BEBVfq3A5GZVnjFM\n",
       "LmmrhQW8JYzSIwbIC5n/PfNbSyc6U6n/yiPgOVhAPvYKYnpDA8r/RsyqoFaoPt4FVV4oXxSRYB9Y\n",
       "aEjkgq7pXuanVtQAI1TxiGuW1QDjHZov0XEjuhBShTr4rgFzK9ROv0U31xLhFzYz6gfNA7GBQ9FJ\n",
       "sZtY1D2Y+7kgG/vTokoQ9B70Gn+yzcgAHxgCLa52NcyoLLPZjOxnv2O/KLzCFkEQpWdo9w+AYsN0\n",
       "WlBl64JfyTmad8D9kbRmIaWKjL31riqG2eMDXBnBM5k0C37H/hh0GpIgO0M5DwwIQDHBEn+U7hQ2\n",
       "fE2GYc9AkSceVUHhiSI68agrVj1Ofnoiw0ALO4KnEH7cEBfTyBi3FEBltamMz8P+GBNrwyyMAstu\n",
       "jXLpYVhBSwD/3eP9qYy1hD433tzaXVVOG1pV+jFZPxaC3Q6AEXSPlzhEVgUqgPj6F33KkToboGx/\n",
       "rEhUg1aMShg4etKq0ef9JsBhx+zE1FwLSr8JFsxmdWo3aTfIVTJId+jYPQjMqbWwTcpOjVsCEgFq\n",
       "xMf7qZOTI9cDGBAkYuDTf/IMfMwNxng5ns6reQ16PHyUNmn/Pkb6tv6Eu/ipZI0L/DS5EChrhOKL\n",
       "AVUt5IZCCPjnhg1eyh/fwgokfyxCpNTF+dqt85Yw+WiTM4KiNiXvPLJIZDR+0LK+q1mww+BVCzsM\n",
       "+xrP4DfCyr7qkwuqODPM5Z/yqje0Gqdra5S8wouWW2R+FzYuG5nRSzteZ9XTHGy/d7BhTOGjrhid\n",
       "YAKtbcqRCSFWoaiVnBYGdyZ7eZXgTi9hoMhi28LNdXvComDaxQSMSdTHwFJOZu9BTepjX5lYLrJZ\n",
       "1T+29EPn8c61g4bBLkmmmkOYuD+ptKaVDT1jPO9TWQWAZ+PFKnKPQMXrTFRcf0v5N3WxX9OR86uK\n",
       "dQyiOMj84KnhnJTQpiz1cjFtFc36ZDbLzacATKGeerNWwPOcL6xHV/4y7sqAnSN7T6Yj6ncKImke\n",
       "ZMMsX1amsEsABuqZgpD4XR5n+33C+L9cDN7F8c6vdZrpoBg3RMlvPF+Zcssc+zt7Ui1B1nl6LFZ3\n",
       "PesoUP4p71mpuOHXpPAgiDfdY0SyF7KpY48o0UqYwzoY+0oCpvApGTmoV4HNpDQbstZ+maVqNWc7\n",
       "Xy700fK56nUibCvyEvxaWQN9pH3NMzB8r7N2DOWbTPZkINrCr63jt4J75sgF4K4t868MEeMZLKKu\n",
       "fKolifsjk26mZ6OvzOCgsX3X5kbbxgV8gBqY+6p2EYb06Z16a1zZE68pXTgcsLo0BgFE5ba+b29i\n",
       "tJgWoqBYOkZGCDS0zSbwloGyWgsTuRyUH2fFa3OZJmVYNDmQLgcbqcv5rlHr1iQdiPYU3XsSEZ4l\n",
       "o6H015eECmBjjdGxPRwaMXCA9rMOLZO67Wo4qnWhmawyJ47VrZPTmN4iHoKbdefQ5jMzoPJGgMsL\n",
       "OYu/67AcN1VrBmnE0e1yZmoInT1FpYvfjow20VC2bWYwSKXEuIp0IYWLZzZom3pSXaP00WrN+L4+\n",
       "18Y1kXyGF5gr3dp/81uFViHzAxScfhIQ8CzhAAABM0GaJGxC//6MsATgj45ACATifxa8+/Rfq0GR\n",
       "Jv962YEaB8TmS3i0yK9C7C1rYDY5MHN8pQ5/ste/b6nlu85Z185isjYOTe9z+AIxmy82XkyKBrb5\n",
       "y0v4P6M08wpMKgdq4Juc3wcn0Jdc3zmycWs+ArgeMFwxsRBbX98BANE6BLbA9gCrNB+nO89ymXmY\n",
       "HVaTq/LO0YhfBVvLF5C0ePMhDKV2+G3T2atGPWQZwNWQhpUQDE/axSX66yJx0tzikikXh+nrTSxC\n",
       "gt5buBsMBhF2z/Z5EZyd+ZJHl3Mj54rPq2ptVb6rNHQSe3zKNZBLxpG9mti7hxSapFswUtZ4+v7u\n",
       "Jlf953ojoi8FYbfIS+8ogmyNzish6YozyZIf85LVEBCZrJ/vSLzweBgFzf68Snb8qKIv5uwAAABM\n",
       "QZ5CeI//BNRpyOVNNCwE8M1pydL4x6Lf+ztKyybg9TZjKB2/CNOxLUbPvRlZWYa3zQ1Qk9F8wbzE\n",
       "Ed1BXt9SEfI9+JVGbdlad7kI6QAAAEABnmF0R/8CfBWm+0kJ2xaMhszxOppVCSYOd/NZGB2wNh26\n",
       "mwNJVsF3N2G9qXh+JGmujpZBtgcorvkyWMZ2Q1UFAAAAOgGeY2pH/wTT5GRSXoqXuWUIdREnbLhI\n",
       "8cBCFTQee4xI+sAzouC3njHwQucMZVvIZHR/REmv/zqmLeAAAACrQZpoSahBaJlMCF///oywEx5/\n",
       "V1+ykrsQAXBA1yp1LFJP6uVCbDcultgp6F3T1AGwQ7TBTnTRTKytE9y2unuK2lHKw9W31PAe0/oS\n",
       "9fzLaUZzFvqxB8nlZlLxaea4PPwOFRv6NB/AWeCmMBn+p8s/Q+ha0d0oTkmmww3q06TV6UdbOA5B\n",
       "jbZp2lRe1quXhj2B9MptM9feXmleST8QAfpkBlKqzkgr77g7ycUdAAAATkGehkURLCP/AxO5IHqj\n",
       "nJ9wf1iq0tlUIt8YlCCKzVxPBBJB5VIBGNkYuxJnk5bPLMyP2UWc8bplt9Ppi1jzv2zdzLfAaegf\n",
       "ahTEfxkDswAAADcBnqV0R/8E0YkYZ0JY42o25H7wexZ/F0IbycC3OUeX9OODp3Vz3DdDGjlj7tQA\n",
       "25YS2qO2tBbwAAAAMgGep2pH/wJ7AL28+xBcigpynuOevqi3aWnLrSD4QVJeVULWVBWsLuQ9BiGD\n",
       "abhRcQuZAAAAnkGarEmoQWyZTAhf//6MsATgJOI4BMMPD68ONurS5y8W3ck8sqmIIRouYN4uok94\n",
       "5PrdfsnX2tyfhnftbjrYYJds8LuOhoytkxK0TAO1BsQA73iOqEttUyVaFjBNNJAx80SIkvNAKBUm\n",
       "e59zBpMax6R1cu49UUOUPe0yddkJTPPRJwsFXHd7Oa2r+bfS6vdJ8Yq0dh4pLKv2R5Oy1lw4AAAA\n",
       "SEGeykUVLCP/AxO5IEhdjnXjocv1RO09turYJ2XYblE+HNfwivpUdGlliMGkrwHxkAkHKMY57szb\n",
       "zix89hr1OTLNYJLzyOwDtwAAADMBnul0R/8CeI3Bf6Gzp8srzbU0QBC/YW5z7jPR+TJJVfswJG0r\n",
       "YvSWZ2wxYcF+3RdgpYEAAAAsAZ7rakf/BNPkYvonBpeDdhboS/fZLQR1UUnwRH3gzHVwpMPC7SVC\n",
       "iCSwTkEAAAC5QZrwSahBbJlMCF///oywBOAh9cACPKE8GWGiiAISQcjtkRKVelW53uas1F3Njdfu\n",
       "BwrFKjOkLe/Kf8L3NRRiX6toUAd4yIVPvgW8/O+9bxrZwSpjFQE330V0IIBv5rLvVQSK3wj5zeQs\n",
       "KKaJ017o+aQeFXkO+q67nQySJwInQkbX1omLMaCeod1ihbRMGHCaJhpKBmxEmLXJpETl+2dLPq2Y\n",
       "ZTDnr3pBwWVEalaucj+FdcZdNgfzqRMAAABBQZ8ORRUsI/8DE7kgI4BGSCWGvb8Qs9lBhNfzWCgY\n",
       "JWCTWMUOuhv40xgcAmi4iQX/1WOumppGnjXovpCgVN18DogAAAAvAZ8tdEf/BPReEFNoonvQ7iEW\n",
       "4R4sFpI4CRyJAc/7mxVhXtluEGbVIBslbs6aiLgAAAA8AZ8vakf/BPT38YNxF144cK2glBAnXH2q\n",
       "U9ftR70wCdsJOxq+gpq2G1NPN0sxnH+JpHHzGv5FDBkTvDphAAAApUGbNEmoQWyZTAhf//6MsATg\n",
       "JTjMAIwY5xlyTdmfCd/12w++HNK8/zerZsO0F/7C04h1IT3DYUiqszdRm1sDo60GOAUH3+anEzI6\n",
       "o/BlNHzt3LzpatpQQ5sElI6iJoMLTfXoIxk9Kh9S4j//mHArGrMPKUoDrFPnsOvlxIzOKxYcdS5e\n",
       "E2JvW6nNjgL11CtGYX0Y80VuoWkqpEpTD/7Lk7XmLMoTwAAAAEBBn1JFFSwj/wMTuSBIXY6DrDac\n",
       "x0T3MqyiFe3647HDbHn9AL2lNfeKbmrs+dkE9DNEeRRvbBTgU/yA5uYL+8BAAAAANAGfcXRH/wTR\n",
       "iRi5xeT2XqTd3sojoHlfsQjrGUMRFUId7LFmNPJsQVcrH/6+lcE+Z+pnBJ0AAAAsAZ9zakf/BNPk\n",
       "YvonBpBJjOcsX2hV53Mpy9ylHnSQaCD8M8eiF2w7FSSwgxsAAACiQZt4SahBbJlMCF///oywBOFE\n",
       "CPzQBEnqV1iFJmLt8Ckz2Y7l0Cbn+2/xtu2PC/nWaI2uorwXcPFvo5uTW2PM2n+Y+fnP23ihTH3l\n",
       "9g15NblUssehqbmDE218ntfRkWOrYf399QW6U8tNJ4bYKB2CJ2RBRfKQoLGLqp2yVkl5+lY+hYm3\n",
       "sO+InEuwtPenOPmw+y3tavMi4sXLlLG8f/8eVS9TAAAAPUGflkUVLCP/AxO5IHqjnKJ6X5RoDPb5\n",
       "pGymWtfdOlUVcE1DEk1wBgNiAqCL2PyrS4y1hMyG5YFzX9IgTcAAAAAwAZ+1dEf/BNGJFpWCeErZ\n",
       "8zfgzgmUUxEZznzY7WOL9/BBv6nbATpw0vKbKkaO7CqgAAAAMAGft2pH/wTT5GTsQwVUNzohc19q\n",
       "RCRbHK5LH/Jg9IQ5cBrktBkghCjb234Pwnge8QAAAKdBm7xJqEFsmUwIX//+jLATHn9Xsmuf2+be\n",
       "R+xlbC5r+v+Z8GGsKDt1FZfCrgLf+tIDZgrE4NGnKJwoftkRYh4o9WMcaI0eXD+Uh4zjn+dLkVFg\n",
       "BbnKBQ00i7w+t042HAVmXQUqJqaH+3UuKFfa5lQLUHIGOPk2rgBzparmqA9CnMYl3Cf1+HoqRF74\n",
       "bLUgdRIDmnVO28JZAefwV/BuW7fp/m/Sc51HRAAAAEZBn9pFFSwj/wMSBOYaYkew2Az6TSDL7gTt\n",
       "tFYfO8oL+L/Gxu4B3VEMgE7n6RE1FVIhIChaedJwQWaqzSWC+S6zZK+dMAbkAAAALQGf+XRH/wTR\n",
       "iRY4Y5GloMj9Ib9pypOmXuu2Q7CONpqehsIaegVaQ6YM2U4NSQAAAC8Bn/tqR/8CeLjWGDNaStaE\n",
       "UWYDt6eal2o913RoZtH1o8E7JKTaKOP+rcF7jChMwAAAAKlBm+BJqEFsmUwIX//+jLAFBdmQBm+p\n",
       "QmTseM+t19HGapyQ/PiLJ78CKLbMrtLGXX0QMcweTXzcmmmP3WAqcQdJ0fudUpzOXgybWzbSC8tu\n",
       "fXkyJwiRStbC7XbZKcDRzmPGShQTLjYgai6GbuJGEWFajQRIu1LVF+nJZp9nZleBVHEOKStX+rdq\n",
       "e7usrfDb7iZQiuUdNueshSIVdnoQR4MkciAnquXaeMqpAAAAPkGeHkUVLCP/AZyYMmQjHz56KC+n\n",
       "QS1i3TKB+9KyXMPK+6TD4qAN9Dlu2uqeEXEiesVqPbQYUjQlY+120CHhAAAALgGePXRH/wJ2vlV1\n",
       "ZvixiWw1z3mvaA2ny8jS0vDJH7nJ5ZIO0IkXONkQBySKhHwAAAAtAZ4/akf/Ancyl0F5KnRYYQ7l\n",
       "xhhXEfpQCyKs4VWFZWCkuZbIsCZR29ri7BLxAAAAbEGaJEmoQWyZTAhf//6MsAUGiYTKPCS/M3yw\n",
       "JpMdp20JugBYUxmTKX1MjToVWeaq9B7bOtkqtOWtz80y25tSdw+wUwhoXD4lLdnO91Ds3DSGD+U7\n",
       "yOo5vzVnnh74SA2zG/zFy29uN0WtyJnwugAAAExBnkJFFSwj/wGcjexs4JgrWnVogryJysCI7fM6\n",
       "qjrJb1bXpeKRpBk9NND2Z8WA3YR26MJEnVB4NcCFV7WnCyvafA010xLMA66pgClhAAAAKgGeYXRH\n",
       "/wJ7fuPkCeUAV+lGLehAb+Aag2lVpVARGFVOld5XgETKlxDMgQAAACkBnmNqR/8CfHLA5On4c7FS\n",
       "g0r/+8+SGo7SBfryTxzUemA4QDYEnFeCXgAAAGdBmmhJqEFsmUwIV//+OEATROpevwfZ9LSrMT/X\n",
       "Z/kEf0CeeJEmLBGVeotuNYRXzpzA4ADjfnHg4WAUSm2X80+4CY98iNwgj9lPy8ZusHWwg3oiOoac\n",
       "iQt40E31rWrdz6DJExwX4htsAAAAOEGehkUVLCP/AZyN7/j2AKGmdoL7fARXn0AWiu26XtuyN9uC\n",
       "hNkpDzgZF7nlg6RnprgCUBtFxALrAAAAKgGepXRH/wKMF04bXObW1ZXzrMqz8k8GFpseUaL3H8Rg\n",
       "8o2tD/lDToaHrAAAACwBnqdqR/8CewEKwTHTKd0N/zTSaOHbw9LMvuYRIjbjjs/fShqyvidXRnwh\n",
       "YQAAAHBBmqxJqEFsmUwIV//+OEATVzSSN2kMMf5Xv9dP9IknqAG1YA7zJECPZpirAbpKm+F0VtzT\n",
       "PLNvoJIm/rNyaMFdLxlxPQJWoAegk0d0v2zTFaRlIwEOlETjgiV+O3I6/hct4+r05MrO/binrwbB\n",
       "EpNoAAAARUGeykUVLCP/AZyN5NmGzT08dqRy4GK7UA7B7mAebSun7e0eAxdx44Ci+Y41wOkAasVg\n",
       "YvhNL1KYTZQhqI/gvMeFmigDHwAAACkBnul0R/8Ce3/1uOK6iGKgAcjJcbxHDLQS64LynMAPTw6P\n",
       "SHOEeKGIuQAAACgBnutqR/8CjjZncQtar+PYq3nVP436xJs7vw5nbmQkFwMWvo5d3Ai5AAAAQkGa\n",
       "8EmoQWyZTAhH//3hAEtVqclxjoqZ86U3MkoOJ+NcqeywQiFaVs72yeHK9ns+RRhl/xPMA16ZDp5s\n",
       "YJsHkmdzVwAAADJBnw5FFSwj/wGcup209NbTlh2hi5CxWmtYS5cfZ2nYEaZ8fhAoF3FSqie4kvHA\n",
       "tU7KEAAAACEBny10R/8BUIW8qQsM47Xbpi8X+Skt234nWo333cxlQ1IAAAAkAZ8vakf/AUgbNbMj\n",
       "hGjJtQnM1WAhSyF85l9MBLWL/rjY0gf5AAAAIkGbMUmoQWyZTAj//IQAlkfavRxL6iAurJrmHgGX\n",
       "0E/ANaAAABEVbW9vdgAAAGxtdmhkAAAAAAAAAAAAAAAAAAAD6AAAE3QAAQAAAQAAAAAAAAAAAAAA\n",
       "AAEAAAAAAAAAAAAAAAAAAAABAAAAAAAAAAAAAAAAAABAAAAAAAAAAAAAAAAAAAAAAAAAAAAAAAAA\n",
       "AAAAAAAAAgAAED90cmFrAAAAXHRraGQAAAADAAAAAAAAAAAAAAABAAAAAAAAE3QAAAAAAAAAAAAA\n",
       "AAAAAAAAAAEAAAAAAAAAAAAAAAAAAAABAAAAAAAAAAAAAAAAAABAAAAAAbAAAAEgAAAAAAAkZWR0\n",
       "cwAAABxlbHN0AAAAAAAAAAEAABN0AAABTAABAAAAAA+3bWRpYQAAACBtZGhkAAAAAAAAAAAAAAAA\n",
       "AAAnEAAAwohVxAAAAAAALWhkbHIAAAAAAAAAAHZpZGUAAAAAAAAAAAAAAABWaWRlb0hhbmRsZXIA\n",
       "AAAPYm1pbmYAAAAUdm1oZAAAAAEAAAAAAAAAAAAAACRkaW5mAAAAHGRyZWYAAAAAAAAAAQAAAAx1\n",
       "cmwgAAAAAQAADyJzdGJsAAAAtnN0c2QAAAAAAAAAAQAAAKZhdmMxAAAAAAAAAAEAAAAAAAAAAAAA\n",
       "AAAAAAAAAbABIABIAAAASAAAAAAAAAABAAAAAAAAAAAAAAAAAAAAAAAAAAAAAAAAAAAAAAAAAAAA\n",
       "GP//AAAANGF2Y0MBZAAe/+EAF2dkAB6s2UGwloQAAAMBTAAAnEA8WLZYAQAGaOvjyyLA/fj4AAAA\n",
       "ABx1dWlka2hA8l8kT8W6OaUbzwMj8wAAAAAAAAAYc3R0cwAAAAAAAAABAAABLAAAAKYAAAAYc3Rz\n",
       "cwAAAAAAAAACAAAAAQAAAPsAAAlAY3R0cwAAAAAAAAEmAAAAAQAAAUwAAAABAAADPgAAAAEAAAFM\n",
       "AAAAAQAAAAAAAAABAAAApgAAAAEAAAM+AAAAAQAAAUwAAAABAAAAAAAAAAEAAACmAAAAAQAAAz4A\n",
       "AAABAAABTAAAAAEAAAAAAAAAAQAAAKYAAAABAAADPgAAAAEAAAFMAAAAAQAAAAAAAAABAAAApgAA\n",
       "AAEAAAM+AAAAAQAAAUwAAAABAAAAAAAAAAEAAACmAAAAAQAAAz4AAAABAAABTAAAAAEAAAAAAAAA\n",
       "AQAAAKYAAAABAAACmAAAAAIAAACmAAAAAQAAAUwAAAABAAACmAAAAAIAAACmAAAAAQAAAz4AAAAB\n",
       "AAABTAAAAAEAAAAAAAAAAQAAAKYAAAABAAADPgAAAAEAAAFMAAAAAQAAAAAAAAABAAAApgAAAAEA\n",
       "AAM+AAAAAQAAAUwAAAABAAAAAAAAAAEAAACmAAAAAQAAAz4AAAABAAABTAAAAAEAAAAAAAAAAQAA\n",
       "AKYAAAABAAADPgAAAAEAAAFMAAAAAQAAAAAAAAABAAAApgAAAAEAAAM+AAAAAQAAAUwAAAABAAAA\n",
       "AAAAAAEAAACmAAAAAQAAAz4AAAABAAABTAAAAAEAAAAAAAAAAQAAAKYAAAABAAADPgAAAAEAAAFM\n",
       "AAAAAQAAAAAAAAABAAAApgAAAAEAAAM+AAAAAQAAAUwAAAABAAAAAAAAAAEAAACmAAAAAQAAAfIA\n",
       "AAABAAAApgAAAAEAAAM+AAAAAQAAAUwAAAABAAAAAAAAAAEAAACmAAAAAQAAAz4AAAABAAABTAAA\n",
       "AAEAAAAAAAAAAQAAAKYAAAABAAADPgAAAAEAAAFMAAAAAQAAAAAAAAABAAAApgAAAAEAAAM+AAAA\n",
       "AQAAAUwAAAABAAAAAAAAAAEAAACmAAAAAQAAAz4AAAABAAABTAAAAAEAAAAAAAAAAQAAAKYAAAAB\n",
       "AAADPgAAAAEAAAFMAAAAAQAAAAAAAAABAAAApgAAAAEAAAM+AAAAAQAAAUwAAAABAAAAAAAAAAEA\n",
       "AACmAAAAAQAAAz4AAAABAAABTAAAAAEAAAAAAAAAAQAAAKYAAAABAAADPgAAAAEAAAFMAAAAAQAA\n",
       "AAAAAAABAAAApgAAAAEAAAFMAAAAAQAAApgAAAACAAAApgAAAAEAAAM+AAAAAQAAAUwAAAABAAAA\n",
       "AAAAAAEAAACmAAAAAQAAAz4AAAABAAABTAAAAAEAAAAAAAAAAQAAAKYAAAABAAAB8gAAAAEAAACm\n",
       "AAAAAQAAAz4AAAABAAABTAAAAAEAAAAAAAAAAQAAAKYAAAABAAADPgAAAAEAAAFMAAAAAQAAAAAA\n",
       "AAABAAAApgAAAAEAAAM+AAAAAQAAAUwAAAABAAAAAAAAAAEAAACmAAAAAQAAApgAAAACAAAApgAA\n",
       "AAEAAAKYAAAAAgAAAKYAAAABAAADPgAAAAEAAAFMAAAAAQAAAAAAAAABAAAApgAAAAEAAAM+AAAA\n",
       "AQAAAUwAAAABAAAAAAAAAAEAAACmAAAAAQAAAfIAAAABAAAApgAAAAEAAAKYAAAAAgAAAKYAAAAB\n",
       "AAABTAAAAAEAAAM+AAAAAQAAAUwAAAABAAAAAAAAAAEAAACmAAAAAQAAAfIAAAABAAAApgAAAAEA\n",
       "AAHyAAAAAQAAAKYAAAABAAADPgAAAAEAAAFMAAAAAQAAAAAAAAABAAAApgAAAAEAAAM+AAAAAQAA\n",
       "AUwAAAABAAAAAAAAAAEAAACmAAAAAQAAAz4AAAABAAABTAAAAAEAAAAAAAAAAQAAAKYAAAABAAAD\n",
       "PgAAAAEAAAFMAAAAAQAAAAAAAAABAAAApgAAAAEAAAM+AAAAAQAAAUwAAAABAAAAAAAAAAEAAACm\n",
       "AAAAAQAAAz4AAAABAAABTAAAAAEAAAAAAAAAAQAAAKYAAAABAAAB8gAAAAEAAACmAAAAAQAAAz4A\n",
       "AAABAAABTAAAAAEAAAAAAAAAAQAAAKYAAAABAAADPgAAAAEAAAFMAAAAAQAAAAAAAAABAAAApgAA\n",
       "AAEAAAM+AAAAAQAAAUwAAAABAAAAAAAAAAEAAACmAAAAAQAAAfIAAAABAAAApgAAAAEAAAM+AAAA\n",
       "AQAAAUwAAAABAAAAAAAAAAEAAACmAAAAAQAAAz4AAAABAAABTAAAAAEAAAAAAAAAAQAAAKYAAAAB\n",
       "AAAB8gAAAAEAAACmAAAAAQAAAz4AAAABAAABTAAAAAEAAAAAAAAAAQAAAKYAAAABAAADPgAAAAEA\n",
       "AAFMAAAAAQAAAAAAAAABAAAApgAAAAEAAAM+AAAAAQAAAUwAAAABAAAAAAAAAAEAAACmAAAAAQAA\n",
       "Az4AAAABAAABTAAAAAEAAAAAAAAAAQAAAKYAAAABAAADPgAAAAEAAAFMAAAAAQAAAAAAAAABAAAA\n",
       "pgAAAAEAAAM+AAAAAQAAAUwAAAABAAAAAAAAAAEAAACmAAAAAQAAAz4AAAABAAABTAAAAAEAAAAA\n",
       "AAAAAQAAAKYAAAABAAADPgAAAAEAAAFMAAAAAQAAAAAAAAABAAAApgAAAAEAAAM+AAAAAQAAAUwA\n",
       "AAABAAAAAAAAAAEAAACmAAAAAQAAAz4AAAABAAABTAAAAAEAAAAAAAAAAQAAAKYAAAABAAABTAAA\n",
       "AAEAAAM+AAAAAQAAAUwAAAABAAAAAAAAAAEAAACmAAAAAQAAAz4AAAABAAABTAAAAAEAAAAAAAAA\n",
       "AQAAAKYAAAABAAADPgAAAAEAAAFMAAAAAQAAAAAAAAABAAAApgAAAAEAAAM+AAAAAQAAAUwAAAAB\n",
       "AAAAAAAAAAEAAACmAAAAAQAAAz4AAAABAAABTAAAAAEAAAAAAAAAAQAAAKYAAAABAAADPgAAAAEA\n",
       "AAFMAAAAAQAAAAAAAAABAAAApgAAAAEAAAM+AAAAAQAAAUwAAAABAAAAAAAAAAEAAACmAAAAAQAA\n",
       "Az4AAAABAAABTAAAAAEAAAAAAAAAAQAAAKYAAAABAAADPgAAAAEAAAFMAAAAAQAAAAAAAAABAAAA\n",
       "pgAAAAEAAAM+AAAAAQAAAUwAAAABAAAAAAAAAAEAAACmAAAAAQAAAz4AAAABAAABTAAAAAEAAAAA\n",
       "AAAAAQAAAKYAAAABAAADPgAAAAEAAAFMAAAAAQAAAAAAAAABAAAApgAAAAEAAAFMAAAAHHN0c2MA\n",
       "AAAAAAAAAQAAAAEAAAEsAAAAAQAABMRzdHN6AAAAAAAAAAAAAAEsAAALKQAAAcoAAAClAAAAaAAA\n",
       "AFwAAAEeAAAAigAAAF4AAAB0AAABDgAAAIoAAABbAAAATQAAAO8AAABwAAAAVQAAAFcAAAEEAAAA\n",
       "dwAAAEsAAABSAAAA2wAAAGoAAABKAAAASwAAANkAAABVAAAATwAAAPMAAADVAAAAYQAAAFgAAADC\n",
       "AAAAaAAAAE4AAABDAAAAwAAAAHUAAABKAAAAWgAAAMcAAAByAAAATgAAAGEAAACuAAAAdwAAAEsA\n",
       "AABeAAAAjwAAAE8AAABeAAAATgAAAJQAAABJAAAAQQAAAD0AAACGAAAATgAAAEsAAABGAAAAYwAA\n",
       "AEcAAABFAAAARQAAAGsAAABMAAAAPQAAADgAAABwAAAAQgAAAI8AAABHAAAAQQAAAEMAAACAAAAA\n",
       "UQAAAE4AAABEAAAAfgAAAEcAAABAAAAAQwAAAKkAAABOAAAARwAAADwAAAC0AAAATwAAAEYAAABE\n",
       "AAAAkQAAAE4AAABIAAAASQAAAKwAAABQAAAASAAAAEEAAAB9AAAAVgAAAEYAAABBAAAAmQAAAFEA\n",
       "AAA6AAAAPQAAAIEAAACZAAAAVgAAAEMAAAB8AAAAUQAAAEUAAABLAAAAiAAAAFEAAABRAAAAQQAA\n",
       "AIcAAABDAAAAlwAAAFcAAAA5AAAAPQAAAJMAAABXAAAAPwAAAEEAAACWAAAAWgAAAEEAAABKAAAA\n",
       "sgAAAFAAAABLAAAAtgAAAFsAAABKAAAA7QAAAGQAAABTAAAAUwAAAQQAAAB3AAAAVwAAAE8AAADc\n",
       "AAAAWwAAAZwAAABlAAAAbgAAASAAAAGRAAAAbQAAAFwAAABeAAAA6QAAAFkAAADlAAAAVgAAAR0A\n",
       "AABoAAAATwAAAEkAAAEgAAAAWgAAAEwAAABJAAABCQAAAGwAAABOAAAAUQAAASQAAABqAAAASQAA\n",
       "AE0AAAFDAAAAagAAAEoAAABEAAABBgAAAGUAAABIAAAASgAAANQAAABJAAABCQAAAFkAAABGAAAA\n",
       "PQAAAOwAAABWAAAARAAAAEMAAAC9AAAAWQAAAEIAAAA9AAAAwQAAAEMAAADeAAAAVwAAAEIAAAA7\n",
       "AAABBAAAAFUAAAA6AAAAQQAAAPwAAABBAAABBQAAAGUAAAA3AAAAOAAAAPoAAABbAAAANgAAADAA\n",
       "AAD4AAAAWgAAADMAAAA5AAABCgAAAFQAAAAzAAAAMAAAAQUAAABPAAAALgAAADEAAADqAAAAVgAA\n",
       "ADEAAAAuAAAA/QAAAEoAAAA0AAAAMQAAALQAAABDAAAALQAAAC0AAADyAAAARQAAAC8AAAAvAAAA\n",
       "4gAAAEcAAAAwAAAAMQAACYMAAAE3AAAAUAAAAEQAAAA+AAAArwAAAFIAAAA7AAAANgAAAKIAAABM\n",
       "AAAANwAAADAAAAC9AAAARQAAADMAAABAAAAAqQAAAEQAAAA4AAAAMAAAAKYAAABBAAAANAAAADQA\n",
       "AACrAAAASgAAADEAAAAzAAAArQAAAEIAAAAyAAAAMQAAAHAAAABQAAAALgAAAC0AAABrAAAAPAAA\n",
       "AC4AAAAwAAAAdAAAAEkAAAAtAAAALAAAAEYAAAA2AAAAJQAAACgAAAAmAAAAFHN0Y28AAAAAAAAA\n",
       "AQAAADAAAABidWR0YQAAAFptZXRhAAAAAAAAACFoZGxyAAAAAAAAAABtZGlyYXBwbAAAAAAAAAAA\n",
       "AAAAAC1pbHN0AAAAJal0b28AAAAdZGF0YQAAAAEAAAAATGF2ZjU4LjQ1LjEwMA==\n",
       "\">\n",
       "  Your browser does not support the video tag.\n",
       "</video>"
      ],
      "text/plain": [
       "<IPython.core.display.HTML object>"
      ]
     },
     "metadata": {},
     "output_type": "display_data"
    }
   ],
   "source": [
    "y, x = np.ogrid[-5:5:100j, -5:5:100j]\n",
    "#play with the limits of a and b\n",
    "a = np.linspace(-10, 10, 300) \n",
    "b = np.linspace(-10, 10, 300)\n",
    "\n",
    "fig = plt.figure()\n",
    "#get the line\n",
    "lines = plt.plot([])\n",
    "line = lines[0]\n",
    "\n",
    "#other setup\n",
    "plt.xlim(-5, 5)\n",
    "plt.ylim(-5, 5)\n",
    "\n",
    "#animate functions\n",
    "def animate(frame):\n",
    "    fig.clear()\n",
    "    plt.contour(x.ravel(), y.ravel(), pow(y, 2) - pow(x, 3) - x * a[frame] - b[frame], [0])\n",
    "\n",
    "#call this to animate \n",
    "anim = FuncAnimation(fig, animate, frames =300, interval = 16.6)\n",
    "video = anim.to_html5_video()\n",
    "html = display.HTML(video)\n",
    "display.display(html) #draws the display\n",
    "plt.close()"
   ]
  },
  {
   "cell_type": "markdown",
   "metadata": {},
   "source": [
    "take a desmos example too"
   ]
  },
  {
   "cell_type": "markdown",
   "metadata": {},
   "source": [
    "https://www.desmos.com/calculator/ialhd71we3"
   ]
  },
  {
   "cell_type": "markdown",
   "metadata": {},
   "source": [
    "## Addition"
   ]
  },
  {
   "cell_type": "markdown",
   "metadata": {},
   "source": [
    "Let $E$ be an elliptic curve. Let $P$,$Q$ $\\in E$  \n",
    "Then $E \\cap L = \\{P, Q, R\\};$  \n",
    "If$ \\ R=(a, b) => P+Q=R' = -R = (a, -b)$  \n",
    "$P-P = O$, $O$ is a point on every vertical line and acts as the 0 in this addition\n",
    "\n",
    "for a visualisation of $O$: \n",
    "https://www.youtube.com/watch?v=Hk0Fr-k7wmQ&list=PLN9KZDpNfsHMd7d7PX87JGesGY_Qzyb3V&index=7\n"
   ]
  },
  {
   "cell_type": "code",
   "execution_count": 18,
   "metadata": {},
   "outputs": [
    {
     "data": {
      "text/plain": [
       "True"
      ]
     },
     "execution_count": 18,
     "metadata": {},
     "output_type": "execute_result"
    }
   ],
   "source": [
    "(1, 2) == (1, 2)"
   ]
  },
  {
   "cell_type": "code",
   "execution_count": 19,
   "metadata": {},
   "outputs": [],
   "source": [
    "def elliptic_sum(P1, P2):\n",
    "    '''Let a point P = (x, y); let O = (0, np.inf)'''\n",
    "    x_1, y_1= P1\n",
    "    x_2, y_2 = P2\n",
    "    if(y_1 == np.inf):\n",
    "        return P2\n",
    "    elif(y_2 == np.inf):\n",
    "        return P1\n",
    "    elif(x_1 == x_2 and y_1 == -y_2):\n",
    "        return (0, np.inf) #this is O\n",
    "    else:\n",
    "        lam = (y_2 - y_1)/(x_2 - x_1) if P1 != P2 else (3*(x_1**2) + a) / (2*y_1)\n",
    "        x_3 = lam**2 - x_1 - x_2\n",
    "        y_3 = lam*(x_1 - x_3) - y_1\n",
    "        return (x_3, y_3)\n",
    "                                                         "
   ]
  },
  {
   "cell_type": "markdown",
   "metadata": {},
   "source": [
    "Example"
   ]
  },
  {
   "cell_type": "code",
   "execution_count": 20,
   "metadata": {},
   "outputs": [],
   "source": [
    "a = -3\n",
    "b = 5\n",
    "y, x = np.ogrid[-5:5:100j, -5:5:100j]\n",
    "z = pow(y, 2) - pow(x, 3) - x * a - b\n",
    "\n"
   ]
  },
  {
   "cell_type": "code",
   "execution_count": 21,
   "metadata": {},
   "outputs": [
    {
     "data": {
      "text/plain": [
       "<matplotlib.contour.QuadContourSet at 0x5c6f339308>"
      ]
     },
     "execution_count": 21,
     "metadata": {},
     "output_type": "execute_result"
    },
    {
     "data": {
      "image/png": "[encoded data removed]",
      "text/plain": [
       "<Figure size 432x288 with 1 Axes>"
      ]
     },
     "metadata": {
      "needs_background": "light"
     },
     "output_type": "display_data"
    }
   ],
   "source": [
    "plt.contour(x.ravel(), y.ravel(), pow(y, 2) - pow(x, 3) - x * a - b, [0])"
   ]
  },
  {
   "cell_type": "code",
   "execution_count": 22,
   "metadata": {},
   "outputs": [],
   "source": [
    "P1 = (-2.1, pow(pow(-2.1, 3) + -2.1*a + b, .5))\n",
    "P2 = (.2, pow(pow(.2, 3) + .2*a + b, .5))\n",
    "P3 = elliptic_sum(P1, P2)\n",
    "P3_temp = (P3[0], -P3[1])"
   ]
  },
  {
   "cell_type": "code",
   "execution_count": 23,
   "metadata": {},
   "outputs": [
    {
     "data": {
      "text/plain": [
       "((-2.1, 1.427935572776307),\n",
       " (0.2, 2.099523755521713),\n",
       " (1.985260999471319, -2.620810794809187),\n",
       " (1.985260999471319, 2.620810794809187))"
      ]
     },
     "execution_count": 23,
     "metadata": {},
     "output_type": "execute_result"
    }
   ],
   "source": [
    "P1, P2, P3, P3_temp"
   ]
  },
  {
   "cell_type": "code",
   "execution_count": 24,
   "metadata": {},
   "outputs": [
    {
     "data": {
      "text/plain": [
       "<matplotlib.contour.QuadContourSet at 0x5c6cf08e48>"
      ]
     },
     "execution_count": 24,
     "metadata": {},
     "output_type": "execute_result"
    },
    {
     "data": {
      "image/png": "[encoded data removed]",
      "text/plain": [
       "<Figure size 432x288 with 1 Axes>"
      ]
     },
     "metadata": {
      "needs_background": "light"
     },
     "output_type": "display_data"
    }
   ],
   "source": [
    "#plot the points\n",
    "plt.plot(*P1, 'ro')\n",
    "plt.annotate('P1', xy=P1, xytext=(-5, 5), textcoords='offset points')\n",
    "plt.plot(*P2, 'ro')\n",
    "plt.annotate('P2', xy=P2, xytext=(-5, 5), textcoords='offset points')\n",
    "plt.plot(*P3, 'ro')\n",
    "plt.annotate('P1+P2', xy=P3, xytext=(-5, 5), textcoords='offset points')\n",
    "plt.plot(*P3_temp, 'ro')\n",
    "\n",
    "#plot the lines\n",
    "plt.plot([P1[0], P3_temp[0]], [P1[1], P3_temp[1]],)\n",
    "plt.plot([P3[0], P3_temp[0]], [P3[1], P3_temp[1]],)\n",
    "#plot the curve\n",
    "plt.grid()\n",
    "plt.contour(x.ravel(), y.ravel(), pow(y, 2) - pow(x, 3) - x * a - b, [0])"
   ]
  },
  {
   "cell_type": "markdown",
   "metadata": {},
   "source": [
    "# Classes"
   ]
  },
  {
   "cell_type": "markdown",
   "metadata": {},
   "source": [
    "Before we continue let's make some classes"
   ]
  },
  {
   "cell_type": "code",
   "execution_count": 76,
   "metadata": {},
   "outputs": [],
   "source": [
    "class Point(object):\n",
    "    ''' \n",
    "    a point on a curve\n",
    "    we consider the ideal to be (np.inf, np.inf)\n",
    "    '''\n",
    "    def __init__(self, curve, x, y):\n",
    "        self.curve = curve #the elliptic curve containing the point\n",
    "        self.x, self.y = x, y\n",
    "        \n",
    "        if not curve.test_point(x, y):\n",
    "            raise Exception(\"The point %s is not on the given curve %s\" %(self, curve))\n",
    "    \n",
    "    def __neg__(self):\n",
    "        return Point(self.curve, self.x, -self.y)\n",
    "    \n",
    "    def __eq__(self, other):\n",
    "        if(self.curve == other.curve and self.x == other.x and self.y == other.y):\n",
    "            return True\n",
    "        else:\n",
    "            return False\n",
    "        \n",
    "    def __add__(self, other):\n",
    "        if(self.x == np.inf or self.y == np.inf):\n",
    "            return other\n",
    "        elif(other.x == np.inf or other.y == np.inf):\n",
    "            return self\n",
    "        elif(self.x == other.x and self.y == -other.y):\n",
    "            return Point(self.curve, np.inf, np.inf)\n",
    "        else:\n",
    "            lam = (other.y - self.y)/ (other.x - self.x) if self!=other else (3*(self.x ** 2) + self.curve.a) / (2*self.y)\n",
    "            x_3 = lam**2 - self.x - other.x\n",
    "            y_3 = lam*(self.x - x_3) - self.y\n",
    "        \n",
    "        return Point(self.curve, x_3, y_3)\n",
    "    \n",
    "    def __sub__(self, other):\n",
    "        return self + - other\n",
    "            \n",
    "    def __str__(self):\n",
    "        return (\"(%s, %s)\" % (self.x, self.y))\n",
    "    \n",
    "    def __mul__(self, n):\n",
    "        if not isinstance(n, int):\n",
    "            raise Exception (\"can't scale if n isnt integer\")\n",
    "        else:\n",
    "            if n<0:\n",
    "                return -self * -n\n",
    "            if n == 0:\n",
    "                return Point(self.curve, np.inf, np.inf)\n",
    "            else:\n",
    "                Q = self\n",
    "                R = self if n & 1 == 1 else Point(self.curve, np.inf, np.inf)\n",
    "                \n",
    "                i = 2\n",
    "                while i<=n:\n",
    "                    Q = Q + Q\n",
    "                    if n & i == i:\n",
    "                        R = Q + R\n",
    "                    i = i << 1\n",
    "        return R\n",
    "    def __rmul__(self, n):\n",
    "        return self * n\n",
    "                    \n",
    "                \n",
    "        \n",
    "    \n",
    "        \n",
    "    "
   ]
  },
  {
   "cell_type": "code",
   "execution_count": 77,
   "metadata": {},
   "outputs": [],
   "source": [
    "class EllipticCurve(object):\n",
    "    def __init__(self, a, b):\n",
    "        '''\n",
    "        input a and b for the y^2 = x^3 + ax + b form\n",
    "       \n",
    "        '''\n",
    "        \n",
    "        self.a = a\n",
    "        self.b = b\n",
    "        \n",
    "        self.discriminant = 4 * pow(a, 3) + 27 * pow(b, 2)\n",
    "        if not self.is_smooth():\n",
    "            raise Exception(\"the curve %s is not smooth!\" % self)\n",
    "        \n",
    "    def is_smooth(self):\n",
    "        return self.discriminant!=0\n",
    "    def test_point(self, x, y):\n",
    "        return pow(y, 2) == pow(x, 3) + self.a * x + self.b\n",
    "    def __str__(self):\n",
    "        return ('y^2 = x^3 + %Gx + %G' %(self.a, self.b))\n",
    "    def __eq__(self, other):\n",
    "        return (self.a, self.b) == (other.a, other.b)"
   ]
  },
  {
   "cell_type": "code",
   "execution_count": 78,
   "metadata": {},
   "outputs": [],
   "source": [
    "c = EllipticCurve(a = 1, b = 2)\n",
    "b = Point(c, 1, 2)\n",
    "a = Point(c, 1, 2)"
   ]
  },
  {
   "cell_type": "code",
   "execution_count": 79,
   "metadata": {},
   "outputs": [
    {
     "name": "stdout",
     "output_type": "stream",
     "text": [
      "(-1.0, 0.0)\n"
     ]
    }
   ],
   "source": [
    "print(10 * a)"
   ]
  },
  {
   "cell_type": "code",
   "execution_count": null,
   "metadata": {},
   "outputs": [],
   "source": [
    "\n"
   ]
  },
  {
   "cell_type": "code",
   "execution_count": 80,
   "metadata": {},
   "outputs": [
    {
     "data": {
      "text/plain": [
       "<__main__.Point at 0x5c6fefa6c8>"
      ]
     },
     "execution_count": 80,
     "metadata": {},
     "output_type": "execute_result"
    }
   ],
   "source": [
    "a - b"
   ]
  },
  {
   "cell_type": "code",
   "execution_count": 30,
   "metadata": {},
   "outputs": [],
   "source": [
    "#EllipticCurve(0, 0)"
   ]
  },
  {
   "cell_type": "markdown",
   "metadata": {},
   "source": [
    "# Elliptic curves over finite fields"
   ]
  },
  {
   "cell_type": "markdown",
   "metadata": {},
   "source": [
    "Let $p \\geq 3 \\ $Then $ E: \\ Y^2 = X^3 + AX + B $ where$ A,B \\ \\in \\  \\mathbb{F}_p$"
   ]
  },
  {
   "cell_type": "code",
   "execution_count": 16,
   "metadata": {},
   "outputs": [],
   "source": [
    "from Crypto.Util.number import inverse"
   ]
  },
  {
   "cell_type": "markdown",
   "metadata": {},
   "source": [
    "## Redefine the classes with mod p in mind "
   ]
  },
  {
   "cell_type": "code",
   "execution_count": 11,
   "metadata": {},
   "outputs": [],
   "source": [
    "def modular_sqrt(a, p):\n",
    "\n",
    "    def legendre_symbol(a, p):\n",
    "        \"\"\" Compute the Legendre symbol a|p using\n",
    "            Euler's criterion. p is a prime, a is\n",
    "            relatively prime to p (if p divides\n",
    "            a, then a|p = 0)\n",
    "            Returns 1 if a has a square root modulo\n",
    "            p, -1 otherwise.\n",
    "        \"\"\"\n",
    "        ls = pow(a, (p - 1) // 2, p)\n",
    "        return -1 if ls == p - 1 else ls\n",
    "\n",
    "    \"\"\" Find a quadratic residue (mod p) of 'a'. p\n",
    "        must be an odd prime.\n",
    "        Solve the congruence of the form:\n",
    "            x^2 = a (mod p)\n",
    "        And returns x. Note that p - x is also a root.\n",
    "        0 is returned is no square root exists for\n",
    "        these a and p.\n",
    "        The Tonelli-Shanks algorithm is used (except\n",
    "        for some simple cases in which the solution\n",
    "        is known from an identity). This algorithm\n",
    "        runs in polynomial time (unless the\n",
    "        generalized Riemann hypothesis is false).\n",
    "    \"\"\"\n",
    "    # Simple cases\n",
    "    #\n",
    "    if legendre_symbol(a, p) != 1:\n",
    "        return 0\n",
    "    elif a == 0:\n",
    "        return 0\n",
    "    elif p == 2:\n",
    "        return p\n",
    "    elif p % 4 == 3:\n",
    "        return pow(a, (p + 1) // 4, p)\n",
    "\n",
    "    # Partition p-1 to s * 2^e for an odd s (i.e.\n",
    "    # reduce all the powers of 2 from p-1)\n",
    "    #\n",
    "    s = p - 1\n",
    "    e = 0\n",
    "    while s % 2 == 0:\n",
    "        s //= 2\n",
    "        e += 1\n",
    "\n",
    "    # Find some 'n' with a legendre symbol n|p = -1.\n",
    "    # Shouldn't take long.\n",
    "    #\n",
    "    n = 2\n",
    "    while legendre_symbol(n, p) != -1:\n",
    "        n += 1\n",
    "\n",
    "    # Here be dragons!\n",
    "    # Read the paper \"Square roots from 1; 24, 51,\n",
    "    # 10 to Dan Shanks\" by Ezra Brown for more\n",
    "    # information\n",
    "    #\n",
    "\n",
    "    # x is a guess of the square root that gets better\n",
    "    # with each iteration.\n",
    "    # b is the \"fudge factor\" - by how much we're off\n",
    "    # with the guess. The invariant x^2 = ab (mod p)\n",
    "    # is maintained throughout the loop.\n",
    "    # g is used for successive powers of n to update\n",
    "    # both a and b\n",
    "    # r is the exponent - decreases with each update\n",
    "    #\n",
    "    x = pow(a, (s + 1) // 2, p)\n",
    "    b = pow(a, s, p)\n",
    "    g = pow(n, s, p)\n",
    "    r = e\n",
    "\n",
    "    while True:\n",
    "        t = b\n",
    "        m = 0\n",
    "        for m in range(r):\n",
    "            if t == 1:\n",
    "                break\n",
    "            t = pow(t, 2, p)\n",
    "\n",
    "        if m == 0:\n",
    "            return x\n",
    "\n",
    "        gs = pow(g, 2 ** (r - m - 1), p)\n",
    "        g = (gs * gs) % p\n",
    "        x = (x * gs) % p\n",
    "        b = (b * g) % p\n",
    "        r = m"
   ]
  },
  {
   "cell_type": "code",
   "execution_count": 12,
   "metadata": {},
   "outputs": [],
   "source": [
    "class EllipticCurveFp(object):\n",
    "    def __init__(self, a, b, p):\n",
    "        '''\n",
    "        input a and b for the y^2 = x^3 + ax + b form\n",
    "       \n",
    "        '''\n",
    "        self.a = a % p\n",
    "        self.b = b % p \n",
    "        self.p = p\n",
    "        \n",
    "        self.discriminant = -16*(4 * pow(a, 3, p) + 27 * pow(b, 2, p)) % p\n",
    "        if not self.is_smooth():\n",
    "            raise Exception(\"the curve %s is not smooth!\" % self)\n",
    "        \n",
    "    def is_smooth(self):\n",
    "        return self.discriminant!=0\n",
    "    \n",
    "    def test_point(self, x, y):\n",
    "        return pow(y, 2, self.p) == ((pow(x, 3, self.p) + self.a * x + self.b ) % self.p)\n",
    "    \n",
    "    def get_all_points(self):\n",
    "        '''gets points WITHOUT the ideal. The ideal is coded as (np.inf, np.inf)'''\n",
    "        all_points = list()\n",
    "        all_points.append(PointFp(self, 0, 1, 0))\n",
    "        for x in range(self.p):\n",
    "            y_sq =  (pow(x, 3, self.p) + self.a * x + self.b ) % self.p\n",
    "            y = modular_sqrt(y_sq, self.p)\n",
    "            if  y != 0: #0 is when no root exists\n",
    "                all_points.append(PointFp(self, x, y))\n",
    "                all_points.append(PointFp(self, x, self.p-y))\n",
    "        return all_points\n",
    "        \n",
    "    def __str__(self):\n",
    "        return ('y^2 = x^3 + %Gx + %G mod %G' %(self.a, self.b, self.p))\n",
    "    def __eq__(self, other):\n",
    "        return (self.a, self.b, self.p) == (other.a, other.b, other.p)"
   ]
  },
  {
   "cell_type": "code",
   "execution_count": 13,
   "metadata": {},
   "outputs": [],
   "source": [
    "class PointFp(object):\n",
    "    ''' \n",
    "    a point on a curve\n",
    "    for any point that is not the ideal z = 1\n",
    "    we consider the ideal to have x = 0, y = 1, z = 0\n",
    "    '''\n",
    "    def __init__(self, curve, x, y, z = 1):\n",
    "        if z == 1:\n",
    "            self.curve = curve #the elliptic curve containing the point\n",
    "            self.x, self.y = x % curve.p, y % curve.p\n",
    "            self.z = z\n",
    "            if not curve.test_point(self.x, self.y):\n",
    "                raise Exception(\"The point %s is not on the given curve %s\" %(self, curve))\n",
    "        else:\n",
    "            self.x, self.y, self.z = x, y, z\n",
    "            self.curve = curve\n",
    "\n",
    "\n",
    "    def __neg__(self):\n",
    "        return PointFp(self.curve, self.x, -self.y % self.curve.p)\n",
    "    \n",
    "    def __eq__(self, other):\n",
    "        if(self.curve == other.curve and self.x == other.x and self.y == other.y):\n",
    "            return True\n",
    "        else:\n",
    "            return False\n",
    "        \n",
    "    def __add__(self, other):\n",
    "        if(self.z!=1):\n",
    "            return other\n",
    "        elif(other.z!=1):\n",
    "            return self\n",
    "        elif(self.x == other.x and self.y == -other.y % self.curve.p):\n",
    "            return PointFp(self.curve, 0, 1, 0)\n",
    "        else:\n",
    "            #doubling\n",
    "            if self == other:\n",
    "                num = (3*pow(self.x, 2) + self.curve.a)\n",
    "                denom = (2*self.y)\n",
    "                gcd_temp = gcd(denom, self.curve.p)\n",
    "                if gcd_temp !=1:\n",
    "                    return PointFp(self.curve, 0, 0, denom)\n",
    "                else:\n",
    "                    lam = num * inverse(denom, self.curve.p)\n",
    "            else :\n",
    "                num = (self.y - other.y)\n",
    "                denom = (self.x - other.x)\n",
    "                gcd_temp = gcd(denom, self.curve.p)\n",
    "                if gcd_temp !=1:\n",
    "                    return PointFp(self.curve, 0, 0, denom)\n",
    "                else:\n",
    "                    lam =  num * inverse(denom, self.curve.p)\n",
    "            x_3 = (lam**2 - self.x - other.x) % self.curve.p\n",
    "            y_3 = (lam*(self.x - x_3) - self.y) % self.curve.p\n",
    "            return PointFp(self.curve, x_3, y_3)\n",
    "    \n",
    "    def __sub__(self, other):\n",
    "        return self + - other\n",
    "            \n",
    "    def __str__(self):\n",
    "        return (\"(%s, %s, %s)\" % (self.x, self.y, self.z))\n",
    "    \n",
    "    def __mul__(self, n):\n",
    "        n = n % self.curve.p\n",
    "        if not isinstance(n, int):\n",
    "            raise Exception (\"can't scale if n isnt integer\")\n",
    "        else:\n",
    "            if n == 0:\n",
    "                return PointFp(self.curve, 0, 1, 0)\n",
    "            else:\n",
    "                Q = self\n",
    "                R = self if n & 1 == 1 else PointFp(self.curve, 0, 1, 0)\n",
    "                i = 2\n",
    "                while i<=n:\n",
    "                    Q = Q + Q\n",
    "                    if n & i == i:\n",
    "                        R = Q + R\n",
    "                    i = i << 1 \n",
    "        return R \n",
    "    def __rmul__(self, n):\n",
    "        return self * n \n",
    "    \n",
    "    def __hash__(self):\n",
    "        return hash(str(self))\n"
   ]
  },
  {
   "cell_type": "code",
   "execution_count": 54,
   "metadata": {},
   "outputs": [],
   "source": [
    "curve = EllipticCurveFp(3, 8, 13)"
   ]
  },
  {
   "cell_type": "code",
   "execution_count": 55,
   "metadata": {},
   "outputs": [],
   "source": [
    "set_13  = curve.get_all_points()"
   ]
  },
  {
   "cell_type": "code",
   "execution_count": 61,
   "metadata": {},
   "outputs": [
    {
     "data": {
      "image/png": "[encoded data removed]",
      "text/plain": [
       "<Figure size 432x288 with 1 Axes>"
      ]
     },
     "metadata": {
      "needs_background": "light"
     },
     "output_type": "display_data"
    }
   ],
   "source": [
    "x = [elem.x for elem in set_13 if elem.z == 1]\n",
    "y = [elem.y for elem in set_13 if elem.z == 1]\n",
    "P1 = set_13[1]\n",
    "P2 = set_13[3]\n",
    "P3 = P1 + P2\n",
    "P3_temp = -P3\n",
    "plt.grid()\n",
    "plt.scatter(x, y)\n",
    "\n",
    "#plt.plot(*P1, 'ro')\n",
    "plt.annotate('P1', xy=(P1.x, P1.y), xytext=(-5, 5), textcoords='offset points')\n",
    "#plt.plot(*P2, 'ro')\n",
    "plt.annotate('P2', xy=(P2.x, P2.y), xytext=(-5, 5), textcoords='offset points')\n",
    "#plt.plot(*P3, 'ro')\n",
    "plt.annotate('P1+P2', xy=(P3.x, P3.y), xytext=(-5, 5), textcoords='offset points')\n",
    "plt.show()\n",
    "\n"
   ]
  },
  {
   "cell_type": "markdown",
   "metadata": {},
   "source": [
    "check this notebook for plots, i'm way too lazy to do this  \n",
    "basically the line that goes through P1 and P2 wraps arround until it hits a point. Reflect that point to get P1 + P2\n",
    "https://github.com/fangpenlin/elliptic-curve-explained/blob/master/elliptic-curve-on-finite-field.ipynb"
   ]
  },
  {
   "cell_type": "code",
   "execution_count": 62,
   "metadata": {},
   "outputs": [
    {
     "data": {
      "text/plain": [
       "[(1, 8), (1, 5), (2, 3), (2, 10), (9, 7), (9, 6), (12, 11), (12, 2)]"
      ]
     },
     "execution_count": 62,
     "metadata": {},
     "output_type": "execute_result"
    }
   ],
   "source": [
    "list(zip(x, y))"
   ]
  },
  {
   "cell_type": "code",
   "execution_count": 63,
   "metadata": {},
   "outputs": [
    {
     "name": "stdout",
     "output_type": "stream",
     "text": [
      "(1, 8, 1)\n",
      "(1, 5, 1)\n"
     ]
    },
    {
     "data": {
      "text/plain": [
       "(None, None)"
      ]
     },
     "execution_count": 63,
     "metadata": {},
     "output_type": "execute_result"
    }
   ],
   "source": [
    "print(set_13[0] + set_13[1]), print(set_13[0] + set_13[2])"
   ]
  },
  {
   "cell_type": "code",
   "execution_count": 64,
   "metadata": {},
   "outputs": [
    {
     "data": {
      "text/plain": [
       "9"
      ]
     },
     "execution_count": 64,
     "metadata": {},
     "output_type": "execute_result"
    }
   ],
   "source": [
    "len(set_13)"
   ]
  },
  {
   "cell_type": "code",
   "execution_count": 65,
   "metadata": {},
   "outputs": [
    {
     "name": "stdout",
     "output_type": "stream",
     "text": [
      "0 (0, 1, 0)\n",
      "1 (1, 8, 1)\n",
      "2 (2, 3, 1)\n",
      "3 (9, 6, 1)\n",
      "4 (12, 11, 1)\n",
      "5 (12, 2, 1)\n",
      "6 (9, 7, 1)\n",
      "7 (2, 10, 1)\n",
      "8 (1, 5, 1)\n",
      "9 (0, 1, 0)\n",
      "10 (1, 8, 1)\n",
      "11 (2, 3, 1)\n",
      "12 (9, 6, 1)\n",
      "13 (0, 1, 0)\n",
      "14 (1, 8, 1)\n",
      "15 (2, 3, 1)\n",
      "16 (9, 6, 1)\n",
      "17 (12, 11, 1)\n",
      "18 (12, 2, 1)\n",
      "19 (9, 7, 1)\n",
      "20 (2, 10, 1)\n",
      "21 (1, 5, 1)\n",
      "22 (0, 1, 0)\n",
      "23 (1, 8, 1)\n",
      "24 (2, 3, 1)\n",
      "25 (9, 6, 1)\n"
     ]
    }
   ],
   "source": [
    "for i in range(26):\n",
    "    print(i, i * set_13[1])"
   ]
  },
  {
   "cell_type": "code",
   "execution_count": 34,
   "metadata": {},
   "outputs": [],
   "source": [
    "a = 64186688762130075872648727143532923412208390610536286437268423112\n",
    "b = 32579945572763798990069104934898692239152360555014084068553395172709029894\n",
    "p = 4368590184733545720227961182704359358435747188309319510520316493183539079703"
   ]
  },
  {
   "cell_type": "code",
   "execution_count": 35,
   "metadata": {},
   "outputs": [
    {
     "ename": "Exception",
     "evalue": "the curve y^2 = x^3 + 6.41867E+64x + 3.25799E+73 mod 4.36859E+75 is not smooth!",
     "output_type": "error",
     "traceback": [
      "\u001b[1;31m---------------------------------------------------------------------------\u001b[0m",
      "\u001b[1;31mException\u001b[0m                                 Traceback (most recent call last)",
      "\u001b[1;32m<ipython-input-35-cc7aec21bf35>\u001b[0m in \u001b[0;36m<module>\u001b[1;34m\u001b[0m\n\u001b[1;32m----> 1\u001b[1;33m \u001b[0mEllipticCurveFp\u001b[0m\u001b[1;33m(\u001b[0m\u001b[0ma\u001b[0m\u001b[1;33m,\u001b[0m \u001b[0mb\u001b[0m\u001b[1;33m,\u001b[0m \u001b[0mp\u001b[0m\u001b[1;33m)\u001b[0m\u001b[1;33m\u001b[0m\u001b[1;33m\u001b[0m\u001b[0m\n\u001b[0m",
      "\u001b[1;32m<ipython-input-12-6ab2986edece>\u001b[0m in \u001b[0;36m__init__\u001b[1;34m(self, a, b, p)\u001b[0m\n\u001b[0;32m     11\u001b[0m         \u001b[0mself\u001b[0m\u001b[1;33m.\u001b[0m\u001b[0mdiscriminant\u001b[0m \u001b[1;33m=\u001b[0m \u001b[1;33m-\u001b[0m\u001b[1;36m16\u001b[0m\u001b[1;33m*\u001b[0m\u001b[1;33m(\u001b[0m\u001b[1;36m4\u001b[0m \u001b[1;33m*\u001b[0m \u001b[0mpow\u001b[0m\u001b[1;33m(\u001b[0m\u001b[0ma\u001b[0m\u001b[1;33m,\u001b[0m \u001b[1;36m3\u001b[0m\u001b[1;33m,\u001b[0m \u001b[0mp\u001b[0m\u001b[1;33m)\u001b[0m \u001b[1;33m+\u001b[0m \u001b[1;36m27\u001b[0m \u001b[1;33m*\u001b[0m \u001b[0mpow\u001b[0m\u001b[1;33m(\u001b[0m\u001b[0mb\u001b[0m\u001b[1;33m,\u001b[0m \u001b[1;36m2\u001b[0m\u001b[1;33m,\u001b[0m \u001b[0mp\u001b[0m\u001b[1;33m)\u001b[0m\u001b[1;33m)\u001b[0m \u001b[1;33m%\u001b[0m \u001b[0mp\u001b[0m\u001b[1;33m\u001b[0m\u001b[1;33m\u001b[0m\u001b[0m\n\u001b[0;32m     12\u001b[0m         \u001b[1;32mif\u001b[0m \u001b[1;32mnot\u001b[0m \u001b[0mself\u001b[0m\u001b[1;33m.\u001b[0m\u001b[0mis_smooth\u001b[0m\u001b[1;33m(\u001b[0m\u001b[1;33m)\u001b[0m\u001b[1;33m:\u001b[0m\u001b[1;33m\u001b[0m\u001b[1;33m\u001b[0m\u001b[0m\n\u001b[1;32m---> 13\u001b[1;33m             \u001b[1;32mraise\u001b[0m \u001b[0mException\u001b[0m\u001b[1;33m(\u001b[0m\u001b[1;34m\"the curve %s is not smooth!\"\u001b[0m \u001b[1;33m%\u001b[0m \u001b[0mself\u001b[0m\u001b[1;33m)\u001b[0m\u001b[1;33m\u001b[0m\u001b[1;33m\u001b[0m\u001b[0m\n\u001b[0m\u001b[0;32m     14\u001b[0m \u001b[1;33m\u001b[0m\u001b[0m\n\u001b[0;32m     15\u001b[0m     \u001b[1;32mdef\u001b[0m \u001b[0mis_smooth\u001b[0m\u001b[1;33m(\u001b[0m\u001b[0mself\u001b[0m\u001b[1;33m)\u001b[0m\u001b[1;33m:\u001b[0m\u001b[1;33m\u001b[0m\u001b[1;33m\u001b[0m\u001b[0m\n",
      "\u001b[1;31mException\u001b[0m: the curve y^2 = x^3 + 6.41867E+64x + 3.25799E+73 mod 4.36859E+75 is not smooth!"
     ]
    }
   ],
   "source": [
    "EllipticCurveFp(a, b, p)"
   ]
  },
  {
   "cell_type": "markdown",
   "metadata": {},
   "source": [
    "# Elliptic Curve Discrete Logarithm Problem ( ECDLP)"
   ]
  },
  {
   "cell_type": "markdown",
   "metadata": {},
   "source": [
    "Let $E$ be an elliptic curve over the finite field $\\mathbb{F}_p$ and let $P$ and $Q$ be points in $E(\\mathbb{F}_p)$.  \n",
    "\n",
    "The **Elliptic Curve Discrete Logarithm Problem**(ECDLP) is the problem of finding an integer $n$ such that $Q=nP$.  \n",
    "By analogy with the discrete logarithm problem for $\\mathbb{F}^*_p$, we denote this integer $n$ by\n",
    "\n",
    "$n= \\log_P(Q)$\n",
    "\n",
    "and we call $n$ the elliptic discrete logarithm of $Q$ with respect to $P$"
   ]
  },
  {
   "cell_type": "code",
   "execution_count": 66,
   "metadata": {},
   "outputs": [],
   "source": [
    "#example\n",
    "E_73= EllipticCurveFp(8, 7, 73)"
   ]
  },
  {
   "cell_type": "code",
   "execution_count": null,
   "metadata": {},
   "outputs": [],
   "source": []
  },
  {
   "cell_type": "code",
   "execution_count": 67,
   "metadata": {},
   "outputs": [],
   "source": [
    "P = PointFp(E_73, 32, 53)\n",
    "Q = PointFp(E_73, 39, 17)"
   ]
  },
  {
   "cell_type": "code",
   "execution_count": 69,
   "metadata": {},
   "outputs": [
    {
     "data": {
      "text/plain": [
       "True"
      ]
     },
     "execution_count": 69,
     "metadata": {},
     "output_type": "execute_result"
    }
   ],
   "source": [
    "11 * P == Q"
   ]
  },
  {
   "cell_type": "code",
   "execution_count": 70,
   "metadata": {},
   "outputs": [],
   "source": [
    "points_E_73 = E_73.get_all_points()"
   ]
  },
  {
   "cell_type": "code",
   "execution_count": 71,
   "metadata": {},
   "outputs": [
    {
     "data": {
      "text/plain": [
       "81"
      ]
     },
     "execution_count": 71,
     "metadata": {},
     "output_type": "execute_result"
    }
   ],
   "source": [
    "len(points_E_73)"
   ]
  },
  {
   "cell_type": "markdown",
   "metadata": {},
   "source": [
    "# Elliptic DH Key exchange"
   ]
  },
  {
   "cell_type": "markdown",
   "metadata": {},
   "source": [
    "Public parameters:  \n",
    "* large prime $p, E(\\mathbb{F}_p), P \\in E(\\mathbb{F}_p)$\n",
    "\n",
    "Private computations:  \n",
    "* A : choose secret $n_A => Q_A = n_A * P $  \n",
    "* B : choose secret $n_B => Q_B = n_B * P $\n",
    "\n",
    "Exchange $Q_A, Q_B$\n",
    "\n",
    "Shared secret: \n",
    "* $n_A Q_B = n_A n_B P = n_B Q_A $"
   ]
  },
  {
   "cell_type": "code",
   "execution_count": 72,
   "metadata": {},
   "outputs": [],
   "source": [
    "#public parameters\n",
    "p = 3851\n",
    "E = EllipticCurveFp(324, 1287, p)\n",
    "P = PointFp(E, 920, 303)"
   ]
  },
  {
   "cell_type": "code",
   "execution_count": 73,
   "metadata": {},
   "outputs": [],
   "source": [
    "#Private\n",
    "n_A = 1194\n",
    "n_B = 1759\n",
    "Q_A = n_A * P\n",
    "Q_B = n_B * P"
   ]
  },
  {
   "cell_type": "code",
   "execution_count": 74,
   "metadata": {},
   "outputs": [
    {
     "data": {
      "text/plain": [
       "True"
      ]
     },
     "execution_count": 74,
     "metadata": {},
     "output_type": "execute_result"
    }
   ],
   "source": [
    "#shared secret\n",
    "n_A * Q_B == n_B * Q_A"
   ]
  },
  {
   "cell_type": "markdown",
   "metadata": {},
   "source": [
    "# Elliptic Elgamal"
   ]
  },
  {
   "cell_type": "markdown",
   "metadata": {},
   "source": [
    "Public parameters:  \n",
    "* large prime $p, E(\\mathbb{F}_p), P \\in E(\\mathbb{F}_p)$\n",
    "\n",
    "Key creation:\n",
    "* Choose $n_A$\n",
    "* Compute $Q_A = n_A * P \\in E(\\mathbb{F}_P)$\n",
    "* Publish $Q_A$\n",
    "\n",
    "Encryption\n",
    "* Choose plaintext $M \\in E(\\mathbb{F}_p)$\n",
    "* Choose random element k\n",
    "* $C_1 = kP \\in E(\\mathbb{F}_p)$\n",
    "* $C_2 = M + kQ_a \\in E(\\mathbb{F}_p)$\n",
    "* send $(C_1, C_2)$\n",
    "\n",
    "Decryption\n",
    "* $M = C_2 - n_AC_1 \\in E(\\mathbb{F}_p)$"
   ]
  },
  {
   "cell_type": "markdown",
   "metadata": {},
   "source": [
    "Disadvantages -> 4-1 message expansion ( C1, C2 -> x and y for each), we have a limited number of points and coords"
   ]
  },
  {
   "cell_type": "markdown",
   "metadata": {},
   "source": [
    "# Elliptic curves signatures"
   ]
  },
  {
   "attachments": {
    "image.png": {
     "image/png": "[encoded data removed]"
    }
   },
   "cell_type": "markdown",
   "metadata": {},
   "source": [
    "![image.png](attachment:image.png)"
   ]
  },
  {
   "cell_type": "markdown",
   "metadata": {},
   "source": [
    "Similar to the basic one  \n",
    "Verification step:  \n",
    "$v_1 G + v_2V = ds^{-1}_2G + s_1 s^{-1}_2 (sG) = (d + ss_1)s^{-1}_2 G = (e s_2)s^{-1}_2 G = eG \\in E(\\mathbb{F}_p)$\n",
    "\n",
    "Hence:  \n",
    "$x(v_1G + v_2V) mod \\ q = x(eG) mod \\ q = s_1$\n",
    "\n",
    "\n"
   ]
  },
  {
   "cell_type": "code",
   "execution_count": null,
   "metadata": {},
   "outputs": [],
   "source": []
  },
  {
   "cell_type": "markdown",
   "metadata": {},
   "source": [
    "# Lenstra's EC Factorization ALgorithm"
   ]
  },
  {
   "cell_type": "markdown",
   "metadata": {},
   "source": [
    "we work on EC modulo non-prime $N$"
   ]
  },
  {
   "cell_type": "code",
   "execution_count": 6,
   "metadata": {},
   "outputs": [],
   "source": [
    "import random"
   ]
  },
  {
   "cell_type": "code",
   "execution_count": 7,
   "metadata": {},
   "outputs": [
    {
     "data": {
      "text/plain": [
       "15"
      ]
     },
     "execution_count": 7,
     "metadata": {},
     "output_type": "execute_result"
    }
   ],
   "source": [
    "random.randint(0, 100)"
   ]
  },
  {
   "cell_type": "code",
   "execution_count": 20,
   "metadata": {},
   "outputs": [],
   "source": [
    "n = 6887"
   ]
  },
  {
   "cell_type": "code",
   "execution_count": 21,
   "metadata": {},
   "outputs": [],
   "source": [
    "def LenstraFactorizationEC(N):\n",
    "    #select random values A, x_p, y_p\n",
    "    while True:\n",
    "        A = random.randint(0, max(10, N-1//10))\n",
    "        x_p = random.randint(0, N-1)\n",
    "        y_p = random.randint(0, N-1)\n",
    "        #     A = 14\n",
    "        #     x_p = 1512\n",
    "        #     y_p = 3166\n",
    "\n",
    "        #compute B \n",
    "        B = (pow(y_p, 2, N) - pow(x_p, 3, N) - A * x_p) % N\n",
    "\n",
    "        #set the elliptic curve and the point\n",
    "        E = EllipticCurveFp(A, B, N)\n",
    "        P = PointFp(E, x_p, y_p)\n",
    "        j = 2\n",
    "        while True: #or to a specific bound\n",
    "            Q = j * P\n",
    "            #print('Q = ', Q)\n",
    "            if Q.z != 1 and Q.z!=0:\n",
    "                #we found the denominator that can't be inverted\n",
    "                d = Q.z\n",
    "                gcd_temp = gcd(d, N)\n",
    "                if gcd_temp < N:\n",
    "                    return gcd_temp\n",
    "                else: \n",
    "                    break #if it fails choose another curve\n",
    "            P = Q\n",
    "            j+=1\n",
    "        \n",
    "    "
   ]
  },
  {
   "cell_type": "code",
   "execution_count": 29,
   "metadata": {},
   "outputs": [
    {
     "name": "stdout",
     "output_type": "stream",
     "text": [
      "97\n",
      "137\n",
      "238639\n"
     ]
    }
   ],
   "source": [
    "print(LenstraFactorizationEC(n))\n",
    "print(LenstraFactorizationEC(26167))\n",
    "print(LenstraFactorizationEC(28102844557))\n",
    "#print(LenstraFactorizationEC(4368590184733545720227961182704359358435747188309319510520316493183539079703 - 1))"
   ]
  },
  {
   "cell_type": "markdown",
   "metadata": {},
   "source": [
    "# Elliptic curves over $\\mathbb{F}_2$ and over $\\mathbb{F}_{2^k}$"
   ]
  },
  {
   "cell_type": "markdown",
   "metadata": {},
   "source": [
    "Reminder:\n",
    "    \n",
    "let $p$ be a prime number => $\\exists !$ a finite field $\\mathbb{F}_{p^k}$\n",
    "\n",
    "Ex: $S = \\{f | f(x) = \\sum^{n-1}_{i=0} a_i * x^i ; a_i \\in \\mathbb{Z}_p \\} => |Z| = p^n$\n",
    "\n",
    "Let $m \\in \\mathbb{F}[x]$ be a irreductible polynomial => $\\mathbb{F}[x]/m $ is a finite field\n",
    "\n",
    "All finite fields of a given order(size) are isomoprphic\n",
    "\n",
    "https://engineering.purdue.edu/kak/compsec/NewLectures/Lecture7.pdf"
   ]
  },
  {
   "cell_type": "markdown",
   "metadata": {},
   "source": [
    "## Generalized Weierstrass equation"
   ]
  },
  {
   "cell_type": "markdown",
   "metadata": {},
   "source": [
    "$E : Y^2 + a_1XY + a_3Y = X^3 + a_2X^2 + a_4X + a_6$ with the point $O$\n",
    "\n",
    "$\\Delta = −b_2^2b_8−8b^3_4−27b^2_6+9b_2b_4b_6$ where  \n",
    "\n",
    "$ b_2=a_1^2+4a_2; \\\\\n",
    "b_4=2a_4+a_1a_3;  \\\\\n",
    "b_6=a_3^2+4a_6;   \\\\\n",
    "b_8=a_1^2a_6+4a_2a_6−a_1a_3a_4+a_2a_3^2−a_4^2$\n"
   ]
  },
  {
   "cell_type": "markdown",
   "metadata": {},
   "source": [
    "Reflection: $(x, y) \\to (x, -y-a_1x-a_3)$  \n",
    "\n",
    "Addition:  \n",
    "$x(P1+P2) = \\lambda^2 - a_1\\lambda - a_2 - x_1 - x_2$  \n",
    "$x(2P) = \\frac{x^4 - b_4x^2 - 2b_6x - b_8}{4x_3 + b_2x^2 + 4b_4x + b_6} $"
   ]
  },
  {
   "cell_type": "code",
   "execution_count": 3,
   "metadata": {},
   "outputs": [],
   "source": [
    "# to be implemented if you want to "
   ]
  },
  {
   "cell_type": "markdown",
   "metadata": {},
   "source": [
    "**Frobenius map**  \n",
    "$\\tau : \\mathbb{F}_{p^k} \\to \\mathbb{F}_{p^k}, \\ \\ \\alpha \\to \\alpha^p$\n",
    "\n",
    "Proprieties:\n",
    "* $\\tau(\\alpha + \\beta )= \\tau(\\alpha) + \\tau(\\beta)$\n",
    "* $\\tau(\\alpha * \\beta) = \\tau(\\alpha) * \\tau(\\beta) $\n",
    "\n",
    "If $P = (x, y)$ and we define $\\tau(P) = (\\tau(x), \\tau(y))$ then \n",
    "* $\\tau(P) \\in E(\\mathbb{F}_{p^k})$\n",
    "* $\\tau(P + Q) = \\tau(P) + \\tau(Q) $\n",
    "\n"
   ]
  },
  {
   "cell_type": "markdown",
   "metadata": {},
   "source": [
    "**Theorem**  \n",
    "Let $E$ be an elliptic curve over $\\mathbb{F}_p$ and let  \n",
    "$t = p + 1 − |E(\\mathbb{F}_p)|$  \n",
    "Notice that Hasse’s theorem says that $|t| ≤ 2\\sqrt{p}$.  \n",
    "\n",
    "* Let $\\alpha$ and $\\beta$ be the complex roots of the quadratic polynomial $Z^2 − tZ + p$.  \n",
    "Then $|α|=|β|=\\sqrt{p}$, and for every $k≥1$ we have $|E(\\mathbb{F}_{p^k})|=p^k + 1 − αk − βk$.  \n",
    "\n",
    "* Let $τ:E(\\mathbb{F}_{p^k})→E(\\mathbb{F}_{p^k}), \\ (x, y) → (x^p,y^p)$ ,be the Frobenius map.  \n",
    "Then for every point $Q ∈ E(\\mathbb{F}_{p^k})$ we have $τ^2(Q) − t·τ(Q) + p·Q = O$ ,where $τ^2(Q)$ denotes the compositionτ$(τ(Q))$."
   ]
  },
  {
   "cell_type": "markdown",
   "metadata": {},
   "source": [
    "*Koblitz curve*   \n",
    "$E_a = Y^2 + XY = X^3 + aX^2 + 1$ over $\\mathbb{F}_2$; $\\Delta = 1$\n",
    "\n"
   ]
  },
  {
   "cell_type": "markdown",
   "metadata": {},
   "source": [
    "*Efficiency*  \n",
    "from theabove theorem we get:  \n",
    "$τ^2(P) + τ(P) + 2P = O $ for all $P∈E(\\mathbb{F}_{p^k})$. \n",
    "\n",
    "The idea now is to write an arbitrary integer $n$ as a sum of powers of $τ$ , subject to the assumption that $τ^2=−2 − τ$.  Say we have written $n$ as $n=v_0+v_1τ+v_2τ^2+ ··· + v_lτ^l $ with $v_i∈\\{−1,0,1\\}$ .\n",
    "\n",
    "Then we can compute $nP$ efficiently using the formula  \n",
    "$nP = (v_0 + v_1τ + v_2τ^2 +···+ v_lτ^l)P = v_0 P +v_1τ(P) + v_2τ^2(P) +···+ v_lτ^l(P)$.\n",
    "\n",
    "which takes less time because its easier to compute $\\tau^i(P)$ than $2^i(P)$ "
   ]
  },
  {
   "cell_type": "markdown",
   "metadata": {},
   "source": [
    "# pairings, Weil pairings, Tate pairings, MOV algorithm"
   ]
  },
  {
   "cell_type": "markdown",
   "metadata": {},
   "source": [
    "# Menezes–Vanstone variant of Elgamal"
   ]
  },
  {
   "cell_type": "code",
   "execution_count": null,
   "metadata": {},
   "outputs": [],
   "source": []
  }
 ],
 "metadata": {
  "kernelspec": {
   "display_name": "Python 3",
   "language": "python",
   "name": "python3"
  },
  "language_info": {
   "codemirror_mode": {
    "name": "ipython",
    "version": 3
   },
   "file_extension": ".py",
   "mimetype": "text/x-python",
   "name": "python",
   "nbconvert_exporter": "python",
   "pygments_lexer": "ipython3",
   "version": "3.7.6"
  }
 },
 "nbformat": 4,
 "nbformat_minor": 4
}
