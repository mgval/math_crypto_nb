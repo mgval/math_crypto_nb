{
 "cells": [
  {
   "cell_type": "markdown",
   "metadata": {},
   "source": [
    "# Convolutional polynomial rings"
   ]
  },
  {
   "cell_type": "markdown",
   "metadata": {},
   "source": [
    "**Definitions** \n",
    "\n",
    "* Ring of convolution polynomials  \n",
    "$R = \\frac{\\mathbb{Z}[x]}{(x^N-1)}$\n",
    "\n",
    "* Ring of convolution polynomials modulo q  \n",
    "$R_q = \\frac{(\\mathbb{Z}/q\\mathbb{Z})[x]}{(x^N-1)}$\n",
    "\n",
    "* every elem of the ring has the form $0+a_1x+a_2x^2+···+a_{N−1}x^{N−1}$ with coeffs in its specific group"
   ]
  },
  {
   "cell_type": "markdown",
   "metadata": {},
   "source": [
    "*Intuition*  \n",
    "When we write mod $x^N-1$ we are simply requiring x^N to equal 1. So any time x^N appears, we replace it by 1.\n",
    "\n",
    "*Notation:*  \n",
    "We identify a polynomial with its coefficients $(a_0,a_1,a_2,...,a_{N−1})∈\\mathbb{Z}^N$"
   ]
  },
  {
   "cell_type": "markdown",
   "metadata": {},
   "source": [
    "*Addition*\n",
    "$a(x)+b(x) = (a_0+b_0,a_1+b_1,a_2+b_2,...,a_{N−1}+b_{N−1})$\n",
    "\n",
    "*Product* -> convolution  \n",
    "$a(x) * b(x)=c(x)$ with $c_k= ∑_{i+j≡k(modN)}a_ib_{k−i}$"
   ]
  },
  {
   "cell_type": "code",
   "execution_count": 284,
   "metadata": {},
   "outputs": [],
   "source": [
    "#example"
   ]
  },
  {
   "cell_type": "code",
   "execution_count": 285,
   "metadata": {},
   "outputs": [
    {
     "name": "stdout",
     "output_type": "stream",
     "text": [
      "-x^4 + 4*x^3 - 2*x + 1\n",
      "2*x^4 + 5*x^3 - 2*x^2 + 4*x + 3\n"
     ]
    }
   ],
   "source": [
    "N = 5\n",
    "#create the polynomial integer ring\n",
    "Zx.<x> = ZZ[]\n",
    "#create the quotient ring -> not worth the hassle, we'll just use the convolution with 1\n",
    "#R.<x> = F.quotient(y^N-1) \n",
    "\n",
    "#a = 1 - 2*x + 4*x**3 - x**4\n",
    "a = Zx([1, -2, 0, 4, -1])\n",
    "#b = 3 + 4*x - 2*x**2 + 5*x**3 + 2*x**4\n",
    "b = Zx([3, 4, -2, 5, 2])\n",
    "print(a)\n",
    "print(b)"
   ]
  },
  {
   "cell_type": "code",
   "execution_count": 286,
   "metadata": {},
   "outputs": [
    {
     "name": "stdout",
     "output_type": "stream",
     "text": [
      "-2*x^8 + 3*x^7 + 22*x^6 - 16*x^5 + 5*x^4 + 21*x^3 - 10*x^2 - 2*x + 3\n"
     ]
    }
   ],
   "source": [
    "c = a * b\n",
    "print(c)"
   ]
  },
  {
   "cell_type": "code",
   "execution_count": 287,
   "metadata": {},
   "outputs": [
    {
     "data": {
      "text/plain": [
       "5*x^4 + 19*x^3 - 7*x^2 + 20*x - 13"
      ]
     },
     "execution_count": 287,
     "metadata": {},
     "output_type": "execute_result"
    }
   ],
   "source": [
    "#Cool but we want the coefficients modulo x^n-1\n",
    "c % (x^N-1)"
   ]
  },
  {
   "cell_type": "code",
   "execution_count": 288,
   "metadata": {},
   "outputs": [
    {
     "data": {
      "text/plain": [
       "5*x^4 + 8*x^3 - 7*x^2 + 9*x + 9"
      ]
     },
     "execution_count": 288,
     "metadata": {},
     "output_type": "execute_result"
    }
   ],
   "source": [
    "#lets reduce the coefficients to modulo 11\n",
    "q = 11\n",
    "(c % (x^N-1)) % 11"
   ]
  },
  {
   "cell_type": "code",
   "execution_count": 289,
   "metadata": {},
   "outputs": [
    {
     "name": "stdout",
     "output_type": "stream",
     "text": [
      "5*x^4 + 8*x^3 - 7*x^2 + 9*x + 9\n",
      "5*x^4 + 8*x^3 + 4*x^2 + 9*x + 9\n"
     ]
    }
   ],
   "source": [
    "#Lets define some functions that make this easy for us\n",
    "def modulo(f, q):\n",
    "    return Zx(list(coeff % q for coeff in f.list()))\n",
    "\n",
    "def convolution(f, g, N, m = None):\n",
    "    if m is None:\n",
    "        return f*g % (x^N-1)\n",
    "    else:\n",
    "        return modulo(f*g % (x^N-1), m)\n",
    "\n",
    "#the sage modulo leaks the sign of the coeffs so we defined our modulo\n",
    "print((c % (x^N-1)) % 11)\n",
    "print(modulo((c % (x^N-1)), 11))\n",
    "#we use convolution with 1 to reduce in the ring R\n"
   ]
  },
  {
   "cell_type": "code",
   "execution_count": 290,
   "metadata": {},
   "outputs": [
    {
     "name": "stdout",
     "output_type": "stream",
     "text": [
      "5*x^4 + 19*x^3 - 7*x^2 + 20*x - 13\n",
      "5*x^4 + 8*x^3 + 4*x^2 + 9*x + 9\n"
     ]
    }
   ],
   "source": [
    "c = convolution(a, b, N)\n",
    "print(c)\n",
    "c = convolution(a, b, N, q)\n",
    "print(c)"
   ]
  },
  {
   "cell_type": "markdown",
   "metadata": {},
   "source": [
    "**Definition**\n",
    "Let $a(x)∈R_q$. The **center-lift** of $a(x)$ to $R$ is the unique polynomial $a′(x)∈R$ satisfying  \n",
    "$a'(x)\\mod q =a(x)$  \n",
    "whose coefficients are chosen in the interval $\\frac{−q}{2}<a'_i≤\\frac{q}{2}$."
   ]
  },
  {
   "cell_type": "code",
   "execution_count": 291,
   "metadata": {},
   "outputs": [],
   "source": [
    "#Example\n",
    "N = 5\n",
    "q = 7\n",
    "Zx.<x> = ZZ[]"
   ]
  },
  {
   "cell_type": "code",
   "execution_count": 292,
   "metadata": {},
   "outputs": [
    {
     "name": "stdout",
     "output_type": "stream",
     "text": [
      "4*x^4 + 2*x^3 - 6*x^2 + 3*x + 5\n",
      "4*x^4 + 2*x^3 + x^2 + 3*x + 5\n"
     ]
    }
   ],
   "source": [
    "a = 5 + 3*x - 6*x**2 + 2*x**3 + 4*x**4\n",
    "print(a % 7)\n",
    "print(modulo(a, 7))"
   ]
  },
  {
   "cell_type": "code",
   "execution_count": 293,
   "metadata": {},
   "outputs": [],
   "source": [
    "def center_lift(f, q):\n",
    "    return Zx(list((coeff + q//2) % q - q//2 for coeff in f.list()))"
   ]
  },
  {
   "cell_type": "code",
   "execution_count": 294,
   "metadata": {},
   "outputs": [
    {
     "name": "stdout",
     "output_type": "stream",
     "text": [
      "-3*x^4 + 2*x^3 + x^2 + 3*x - 2\n"
     ]
    }
   ],
   "source": [
    "a_lift = center_lift(modulo(a, q), q)\n",
    "print(a_lift)"
   ]
  },
  {
   "cell_type": "code",
   "execution_count": 295,
   "metadata": {},
   "outputs": [
    {
     "data": {
      "text/plain": [
       "True"
      ]
     },
     "execution_count": 295,
     "metadata": {},
     "output_type": "execute_result"
    }
   ],
   "source": [
    "modulo(a_lift, q) == modulo(a, q)"
   ]
  },
  {
   "cell_type": "markdown",
   "metadata": {},
   "source": [
    "**Prop**  \n",
    "Let $q$ be prime. Then $a(x)∈R_q$ has a multiplicative inverse <=> \n",
    "$\\gcd(a(x),x^N−1)=1$ in $(\\mathbb{Z}/q\\mathbb{Z})[x]$.\n",
    "\n",
    "If is true, then the inverse $a(x)^{−1}∈R_q$ can be computed using the extended Euclidean algorithm to find polynomials\n",
    "$u(x),v(x)∈(\\mathbb{Z}/q\\mathbb{Z})[x]$ satisfying   \n",
    "$a(x)u(x)+(x^N−1)v(x)=1$\n",
    "\n",
    "Then $a(x)^{−1}=u(x)$ in $R_q$"
   ]
  },
  {
   "cell_type": "code",
   "execution_count": 296,
   "metadata": {},
   "outputs": [],
   "source": [
    "#Example\n",
    "N = 5\n",
    "q = 2\n",
    "Zx.<x> = ZZ[]"
   ]
  },
  {
   "cell_type": "code",
   "execution_count": 297,
   "metadata": {},
   "outputs": [
    {
     "data": {
      "text/plain": [
       "1"
      ]
     },
     "execution_count": 297,
     "metadata": {},
     "output_type": "execute_result"
    }
   ],
   "source": [
    "a = 1+x+x**4\n",
    "a = convolution(a, Zx(1), N, q)\n",
    "b = x^N-1\n",
    "gcd(a, b)"
   ]
  },
  {
   "cell_type": "code",
   "execution_count": 298,
   "metadata": {},
   "outputs": [
    {
     "data": {
      "text/plain": [
       "x^3 + x^2 + 1"
      ]
     },
     "execution_count": 298,
     "metadata": {},
     "output_type": "execute_result"
    }
   ],
   "source": [
    "_, a_inv, _ = xgcd(a, b)\n",
    "convolution(a_inv, 1, N, q)"
   ]
  },
  {
   "cell_type": "code",
   "execution_count": 299,
   "metadata": {},
   "outputs": [
    {
     "data": {
      "text/plain": [
       "1"
      ]
     },
     "execution_count": 299,
     "metadata": {},
     "output_type": "execute_result"
    }
   ],
   "source": [
    "convolution(a_inv * a, 1, N, q)"
   ]
  },
  {
   "cell_type": "markdown",
   "metadata": {},
   "source": [
    "# NTRU "
   ]
  },
  {
   "cell_type": "markdown",
   "metadata": {},
   "source": [
    "## NTRU Encrypt"
   ]
  },
  {
   "cell_type": "markdown",
   "metadata": {},
   "source": [
    "We need to define one more thing  \n",
    "**Definition**\n",
    "\n",
    "for any $d_1, d_2$ let $\\mathcal{T}(d_1, d_2) = \\Bigg\\{ a(x) \\in R \\ \\Bigg|\\ \n",
    "\\begin{align*}\n",
    "&a(x) \\text{ has } d_1 \\text{ coeff } = 1 \\\\\n",
    "&a(x) \\text{ has } d_2 \\text{ coeff } = -1 \\\\\n",
    "&a(x) \\text{ has the rest of coeff } = 0 \\\\\n",
    "\\end{align*} \\Bigg\\} $ = **Ternary polynomial**"
   ]
  },
  {
   "cell_type": "code",
   "execution_count": 300,
   "metadata": {},
   "outputs": [],
   "source": [
    "#lets implement it\n",
    "def randompoly_d(d1, d2, n):\n",
    "    assert(d1 + d2 <=n)\n",
    "    coeff_list = d1 * [1] + d2 * [-1] + (n-d1-d2) * [0]\n",
    "    coeff_list = sample(coeff_list, len(coeff_list))\n",
    "    return Zx(coeff_list)"
   ]
  },
  {
   "cell_type": "code",
   "execution_count": 301,
   "metadata": {},
   "outputs": [
    {
     "data": {
      "text/plain": [
       "-x^2 + x - 1"
      ]
     },
     "execution_count": 301,
     "metadata": {},
     "output_type": "execute_result"
    }
   ],
   "source": [
    "randompoly_d(1, 2, 4)"
   ]
  },
  {
   "cell_type": "markdown",
   "metadata": {},
   "source": [
    "Let  \n",
    "$R = \\frac{(\\mathbb{Z})[x]}{(x^N-1)}$\n",
    "$R_q = \\frac{(\\mathbb{Z}/q\\mathbb{Z})[x]}{(x^N-1)}$\n",
    "$R_p = \\frac{(\\mathbb{Z}/p\\mathbb{Z})[x]}{(x^N-1)}$\n",
    "\n"
   ]
  },
  {
   "cell_type": "markdown",
   "metadata": {},
   "source": [
    "Public:\n",
    "* Choose public parameters $(N,p,q,d)$ \n",
    "* $N, p$ = prime, $\\gcd(p, q)=\\gcd(N,q) = 1$\n",
    "* $q>(6d+1)p$ <- **Important**\n",
    "\n",
    "Key creation (Alice):\n",
    "* Choose private $f \\in \\mathcal{T}(d+1, d) \\text{ s.t } \\ \\exists \\ f^{-1} \\in R_q, R_p$\n",
    "* Choose private $g \\in \\mathcal{T}(d, d)$\n",
    "* $F_q = f^{-1}$ in $R_q$\n",
    "* $F_p = f^{-1}$ in $R_p$\n",
    "* return $h = F_q * g \\in R_q$ \n",
    "\n",
    "Encryption (Bob):\n",
    "* choose plaintext $m \\in R_p$ with $m_i \\in (-\\frac p 2 , \\frac p 2)$ =>  \n",
    "=> the plaintext $m$ is a polynomial in $R$ that is the center lift of a polynomial in $R_p$\n",
    "* choose $r \\in \\mathcal{T}(d, d)$\n",
    "* return $e = p\\cdot r*h+m \\mod q$\n",
    "\n",
    "Decryption (Alice):\n",
    "* $a \\equiv f * e \\equiv p \\cdot g*r+f*m \\mod q$\n",
    "* Center lift $a\\in R$\n",
    "* $m \\equiv F_q * a \\mod p$\n",
    "\n"
   ]
  },
  {
   "cell_type": "markdown",
   "metadata": {},
   "source": [
    "Proof:  \n",
    "The polynomials $g(x)$and $r(x)$ are in $\\mathcal{T}(d, d)$, so if, in the convolution product $g(x)*r(x)$, all of their 1’s match up and all of their−1’s match up, the largest possible coefficient of $g(x)*r(x)$ is 2d.  \n",
    "Similarly, $f(x)∈T(d+1,d)$ and the coefficients of $m(x)$ are between $-\\frac p 2$ and $\\frac p 2$, so the largest possible coefficient of $f(x)*m(x)$ is $(2d+1)\\frac p 2$.  \n",
    "So even if the largest coefficient of $g(x)*r(x)$ happens to coincide with the largest coefficient of $r(x)*m(x)$,the largest coefficient of $f*e$ has magnitude at most  \n",
    "$p\\cdot2d+(2d+1)\\cdot \\frac p 2 = (3d+12)\\cdot p< \\frac q 2$ (initial setting)  \n",
    "Therefore $a = f * e \\equiv p \\cdot g*r+f*m$, is an equality in general, not just mod $q$.  \n",
    "From here we go down mod $p$ and find $F_p(x) * a(x) \\equiv m(x) \\ \\text{mod} \\ p$"
   ]
  },
  {
   "cell_type": "code",
   "execution_count": 302,
   "metadata": {},
   "outputs": [],
   "source": [
    "def invertmodprime(f,n,p):\n",
    "    T = Zx.change_ring(Integers(p)).quotient(x^N-1)\n",
    "    return Zx(lift(1 / T(f)))\n",
    "\n",
    "def invertmodpowerof2(f, n, q):\n",
    "    assert q.is_power_of(2)\n",
    "    g = invertmodprime(f,2)\n",
    "    while True:\n",
    "        r = center_lift(convolution(g,f, n, q),q)\n",
    "        if r == 1: \n",
    "            return g\n",
    "        g = center_lift(convolution(g, 2 - r, n, q),q)"
   ]
  },
  {
   "cell_type": "code",
   "execution_count": 468,
   "metadata": {},
   "outputs": [],
   "source": [
    "#Example\n",
    "N, p, q, d = 7, 3, 41, 2"
   ]
  },
  {
   "cell_type": "code",
   "execution_count": 469,
   "metadata": {},
   "outputs": [],
   "source": [
    "Zx.<x> = ZZ[]"
   ]
  },
  {
   "cell_type": "code",
   "execution_count": 303,
   "metadata": {},
   "outputs": [],
   "source": [
    "def ntru_key(N, p, q, d):\n",
    "    #get f, g\n",
    "    f = randompoly_d(d+1, d, N)\n",
    "    g = randompoly_d(d, d, N)\n",
    "    #f = x**6-x**4+x**3+x**2-1\n",
    "    #g = x**6+x**4-x**2-x\n",
    "    \n",
    "    #calculate inverses\n",
    "    F_q = invertmodprime(f, N, q)\n",
    "    F_p = invertmodprime(f, N, p)\n",
    "    assert convolution(f, F_q, N, q) == 1\n",
    "    assert convolution(f, F_p, N, p) == 1\n",
    "    \n",
    "     #calulate h\n",
    "    h = convolution(F_q, g, N, q)\n",
    "    return f, g, F_p, F_q, h"
   ]
  },
  {
   "cell_type": "code",
   "execution_count": 471,
   "metadata": {},
   "outputs": [],
   "source": [
    "f, g, F_p, F_q, h = ntru_key(N, p, q, d)"
   ]
  },
  {
   "cell_type": "code",
   "execution_count": 472,
   "metadata": {},
   "outputs": [
    {
     "name": "stdout",
     "output_type": "stream",
     "text": [
      "-x^5 + x^4 + x^3 + x^2 - 1\n",
      "x^5 - x^4 + x^2 - x\n",
      "x^4 + 2*x^3 + 2*x^2 + 2*x\n",
      "38*x^6 + 6*x^5 + 30*x^4 + 23*x^3 + 36*x^2 + 10*x + 22\n",
      "39*x^6 + 5*x^5 + 29*x^4 + 24*x^3 + 36*x^2 + 9*x + 22\n"
     ]
    }
   ],
   "source": [
    "print(f)\n",
    "print(g)\n",
    "print(F_p)\n",
    "print(F_q)\n",
    "print(h)"
   ]
  },
  {
   "cell_type": "code",
   "execution_count": 473,
   "metadata": {},
   "outputs": [
    {
     "data": {
      "text/plain": [
       "-x^5 + x^3 + x^2 - x + 1"
      ]
     },
     "execution_count": 473,
     "metadata": {},
     "output_type": "execute_result"
    }
   ],
   "source": [
    "m = Zx([1, -1, 1, 1, 0, -1])\n",
    "m"
   ]
  },
  {
   "cell_type": "code",
   "execution_count": 304,
   "metadata": {},
   "outputs": [],
   "source": [
    "def ntru_encrypt(m, h, N, p, q, d):\n",
    "    r = randompoly_d(d, d, N)\n",
    "    #r = Zx([-1, 1, 0, 0, 0, -1, 1])\n",
    "    e = modulo(convolution(p*r, h, N, q) + m, q)\n",
    "    return e\n",
    "    "
   ]
  },
  {
   "cell_type": "code",
   "execution_count": 475,
   "metadata": {},
   "outputs": [],
   "source": [
    "e = ntru_encrypt(m, h, N, p, q, d)"
   ]
  },
  {
   "cell_type": "code",
   "execution_count": 476,
   "metadata": {},
   "outputs": [
    {
     "data": {
      "text/plain": [
       "20*x^6 + 35*x^5 + 36*x^4 + 26*x^3 + 39*x^2 + 31*x + 19"
      ]
     },
     "execution_count": 476,
     "metadata": {},
     "output_type": "execute_result"
    }
   ],
   "source": [
    "e"
   ]
  },
  {
   "cell_type": "code",
   "execution_count": 305,
   "metadata": {},
   "outputs": [],
   "source": [
    "def ntru_decrypt(e, f, F_p, F_q, N, p, q, d):\n",
    "    a = convolution(f, e, N, q)\n",
    "    a_prime = center_lift(a, q)\n",
    "    m = convolution(F_p, a_prime, N, p)\n",
    "    return center_lift(m, p)"
   ]
  },
  {
   "cell_type": "code",
   "execution_count": 478,
   "metadata": {},
   "outputs": [],
   "source": [
    "m_decr = ntru_decrypt(e, f, F_p, F_q, N, p, q, d)"
   ]
  },
  {
   "cell_type": "code",
   "execution_count": 479,
   "metadata": {},
   "outputs": [
    {
     "data": {
      "text/plain": [
       "(-x^5 + x^3 + x^2 - x + 1, True)"
      ]
     },
     "execution_count": 479,
     "metadata": {},
     "output_type": "execute_result"
    }
   ],
   "source": [
    "m_decr, m_decr == m"
   ]
  },
  {
   "cell_type": "code",
   "execution_count": 480,
   "metadata": {},
   "outputs": [
    {
     "data": {
      "text/plain": [
       "x^5 + 40*x^4 + x^2 + 40*x"
      ]
     },
     "execution_count": 480,
     "metadata": {},
     "output_type": "execute_result"
    }
   ],
   "source": [
    "convolution(f, h, N, q)"
   ]
  },
  {
   "cell_type": "markdown",
   "metadata": {},
   "source": [
    "## NTRU as a lattice cryptosystem"
   ]
  },
  {
   "cell_type": "markdown",
   "metadata": {},
   "source": [
    "**The NTRU Problem**\n",
    "Given $h(x)$ find $f(x), g(x)$ s.t   \n",
    "$f(x) * h(x) \\equiv g(x) \\ \\text{mod} \\ q$"
   ]
  },
  {
   "cell_type": "markdown",
   "metadata": {},
   "source": [
    "**Remark**\n",
    "There is not a unique solution. If $(g, f)$ is a solution then $(x^k g, x^kf)$ is a solution for all $k$"
   ]
  },
  {
   "cell_type": "markdown",
   "metadata": {},
   "source": [
    "**Definitions**  \n",
    "Let $h(x)=h_0+h_1x+···+h_{N−1}x^{N−1}$\n",
    "\n",
    "Let $M^{NTRU}_h = \n",
    "\\begin{bmatrix}\n",
    "I_N & P_N(h) \\\\\n",
    "0_n & qI_N\n",
    "\\end{bmatrix}\n",
    "$\n",
    "Where $P_N(h) = \n",
    "\\begin{bmatrix}\n",
    "h_0 & h_1 & ... & h_{N-1} \\\\\n",
    "h_{N-1} & h_0 & ... & h_{N-2} \\\\\n",
    "\\vdots & \\vdots & \\ddots & \\vdots \\\\\n",
    "h_1 & h_2 & ... & h_0\n",
    "\\end{bmatrix}\n",
    "$ is the permutation matrix\n",
    "\n",
    "The lattice $L^{NTRU}_h = rowspan(M^{NTRU}_H)$\n",
    "\n",
    "**OBS**: we will use column vectors so we transpose the stuff"
   ]
  },
  {
   "cell_type": "markdown",
   "metadata": {},
   "source": [
    "**Prop**  \n",
    "Let $f* h = g \\% q; \\ u \\in R$ s.t. $f*h =g + qu$ Then: $[f, g] \\in L^{NTRU}_h$ <=> $[f, -u] \\cdot M^{NTRU}_h = [f, g]$\n",
    "\n",
    "$\\det (L^{NTRU}_h) = q^N$\n",
    "\n",
    "*Modeling NTRU as SVP:*  \n",
    "* Since $f, g$ are polynomials with coeff from $\\{1, 0, -1\\}$ => they have small norm =>  finding $(f, g)$ is like finding SVP in $L^{NTRU}_h$\n",
    "\n",
    "*Modeling NTRU as CVP:*  \n",
    "* $e = r*h + m \\ \\% \\ q$ <=> $[0, e] = [0, r*h+m \\ \\% \\ q] \\equiv [r, r*h \\ \\% \\ q] + [-r, m]$  \n",
    "* We observe that $[-r,m]$ is short and $[0, r*h+m \\ \\% \\ q] \\in L^{NTRU}_h$\n",
    "* Find $m$ from $h$ and $e$ as CVP to $[0, e]$"
   ]
  },
  {
   "cell_type": "code",
   "execution_count": 312,
   "metadata": {},
   "outputs": [],
   "source": [
    "def generate_M_h(h, q, n, orientation = 'columns'):\n",
    "    M = matrix(2*n)\n",
    "    for i in range(n): M[i, i] = 1\n",
    "    for i in range(n):\n",
    "        M[i, n:] = [h.list()[n-i:] + h.list()[:n-i]] #permutations\n",
    "    for i in range(n):\n",
    "        M[i+n, i] = 0\n",
    "    for i in range(n):\n",
    "        M[i+n, i+n] = q\n",
    "    \n",
    "    if orientation == 'columns':\n",
    "        return M.T\n",
    "    else:\n",
    "        return M\n",
    "        \n",
    "    "
   ]
  },
  {
   "cell_type": "code",
   "execution_count": 482,
   "metadata": {},
   "outputs": [
    {
     "data": {
      "text/plain": [
       "39*x^6 + 5*x^5 + 29*x^4 + 24*x^3 + 36*x^2 + 9*x + 22"
      ]
     },
     "execution_count": 482,
     "metadata": {},
     "output_type": "execute_result"
    }
   ],
   "source": [
    "h"
   ]
  },
  {
   "cell_type": "code",
   "execution_count": 483,
   "metadata": {},
   "outputs": [],
   "source": [
    "M_h = generate_M_h(h, q, N, orientation = 'rows')"
   ]
  },
  {
   "cell_type": "code",
   "execution_count": 484,
   "metadata": {},
   "outputs": [
    {
     "data": {
      "text/plain": [
       "[ 1  0  0  0  0  0  0 22  9 36 24 29  5 39]\n",
       "[ 0  1  0  0  0  0  0 39 22  9 36 24 29  5]\n",
       "[ 0  0  1  0  0  0  0  5 39 22  9 36 24 29]\n",
       "[ 0  0  0  1  0  0  0 29  5 39 22  9 36 24]\n",
       "[ 0  0  0  0  1  0  0 24 29  5 39 22  9 36]\n",
       "[ 0  0  0  0  0  1  0 36 24 29  5 39 22  9]\n",
       "[ 0  0  0  0  0  0  1  9 36 24 29  5 39 22]\n",
       "[ 0  0  0  0  0  0  0 41  0  0  0  0  0  0]\n",
       "[ 0  0  0  0  0  0  0  0 41  0  0  0  0  0]\n",
       "[ 0  0  0  0  0  0  0  0  0 41  0  0  0  0]\n",
       "[ 0  0  0  0  0  0  0  0  0  0 41  0  0  0]\n",
       "[ 0  0  0  0  0  0  0  0  0  0  0 41  0  0]\n",
       "[ 0  0  0  0  0  0  0  0  0  0  0  0 41  0]\n",
       "[ 0  0  0  0  0  0  0  0  0  0  0  0  0 41]"
      ]
     },
     "execution_count": 484,
     "metadata": {},
     "output_type": "execute_result"
    }
   ],
   "source": [
    "M_h"
   ]
  },
  {
   "cell_type": "markdown",
   "metadata": {},
   "source": [
    "# Lattice reduction Algorithms"
   ]
  },
  {
   "cell_type": "markdown",
   "metadata": {},
   "source": [
    "## Gram schmidt"
   ]
  },
  {
   "cell_type": "code",
   "execution_count": 176,
   "metadata": {},
   "outputs": [],
   "source": [
    "def gram_s(v):\n",
    "    v = copy(v)\n",
    "    n = v.nrows()\n",
    "    m = v.ncols()\n",
    "    v_s = matrix(QQ, n, m)\n",
    "    mu = matrix(QQ, n, m)\n",
    "    v_s[0] = v[0]\n",
    "    for i in range(1, n):\n",
    "        for j in range(i):\n",
    "            mu[i, j] = float(v[i]*v_s[j] / norm(v_s[j])^2)\n",
    "        v_s[i] = v[i] - sum([mu[i,j] * v_s[j] for j in range(0, i)])\n",
    "        \n",
    "    return v_s, mu\n",
    "        "
   ]
  },
  {
   "cell_type": "code",
   "execution_count": 221,
   "metadata": {},
   "outputs": [],
   "source": [
    "def calculate_mu(v, v_s):\n",
    "    n = v.nrows()\n",
    "    mu = matrix(QQ, v.nrows(), v.ncols())\n",
    "    for i in range(n):\n",
    "        for j in range(n):\n",
    "            mu[i, j] = v[i] * v_s[j] / norm(v_s[j])**2\n",
    "    return mu"
   ]
  },
  {
   "cell_type": "code",
   "execution_count": 217,
   "metadata": {},
   "outputs": [],
   "source": [
    "v1=vector((1,3,2))\n",
    "v2=vector((4,1,-2))\n",
    "v3=vector((2,1,3))\n",
    "v = matrix(QQ, (v1, v2, v3))"
   ]
  },
  {
   "cell_type": "code",
   "execution_count": 218,
   "metadata": {},
   "outputs": [],
   "source": [
    "v_s, mu = gram_s(v)"
   ]
  },
  {
   "cell_type": "code",
   "execution_count": 219,
   "metadata": {},
   "outputs": [
    {
     "data": {
      "text/plain": [
       "(\n",
       "[     1      3      2]  [    0     0     0]\n",
       "[ 53/14   5/14  -17/7]  [ 3/14     0     0]\n",
       "[104/95 -26/19 143/95], [11/14  3/95     0]\n",
       ")"
      ]
     },
     "execution_count": 219,
     "metadata": {},
     "output_type": "execute_result"
    }
   ],
   "source": [
    "v_s, mu"
   ]
  },
  {
   "cell_type": "code",
   "execution_count": 222,
   "metadata": {},
   "outputs": [],
   "source": [
    "mu2 = calculate_mu(v, v_s)"
   ]
  },
  {
   "cell_type": "code",
   "execution_count": 226,
   "metadata": {},
   "outputs": [
    {
     "data": {
      "text/plain": [
       "[    1     0     0]\n",
       "[ 3/14     1     0]\n",
       "[11/14  3/95     1]"
      ]
     },
     "execution_count": 226,
     "metadata": {},
     "output_type": "execute_result"
    }
   ],
   "source": [
    "mu2"
   ]
  },
  {
   "cell_type": "code",
   "execution_count": 180,
   "metadata": {},
   "outputs": [
    {
     "data": {
      "text/plain": [
       "0"
      ]
     },
     "execution_count": 180,
     "metadata": {},
     "output_type": "execute_result"
    }
   ],
   "source": [
    "v_s[1] * v_s[2]"
   ]
  },
  {
   "cell_type": "code",
   "execution_count": 181,
   "metadata": {},
   "outputs": [],
   "source": [
    "v = matrix(QQ, ((4,1,3,-1),\n",
    "                (2,1,-3,4),\n",
    "                (1,0,-2,7)))"
   ]
  },
  {
   "cell_type": "code",
   "execution_count": 182,
   "metadata": {},
   "outputs": [
    {
     "data": {
      "text/plain": [
       "(\n",
       "[       4        1        3       -1]\n",
       "[   70/27    31/27    -23/9   104/27]\n",
       "[-287/397 -405/397  799/397  844/397],\n",
       "\n",
       "[      0       0       0       0]\n",
       "[  -4/27       0       0       0]\n",
       "[   -1/3 468/397       0       0]\n",
       ")"
      ]
     },
     "execution_count": 182,
     "metadata": {},
     "output_type": "execute_result"
    }
   ],
   "source": [
    "gram_s(v)"
   ]
  },
  {
   "cell_type": "markdown",
   "metadata": {},
   "source": [
    "## Gaussian Lattice reduction"
   ]
  },
  {
   "cell_type": "markdown",
   "metadata": {},
   "source": [
    "* $L \\subset \\mathbb{R}^2, v_1, v_2 \\in L, ||v_1|| < ||v_2||$ \n",
    "* project $v_2$ on the $v_1^\\perp$ => $v_2^* = v_2 - \\cfrac{v_1 \\cdot v_2}{||v_1||^2} v_1$\n",
    "\n",
    "But $\\cfrac{v_1 \\cdot v_2}{||v_1||^2} \\notin \\mathbb{Z} =>$ Let $m = \\Big \\lfloor \\cfrac{v_1 \\cdot v_2}{||v_1||^2} \\Big \\rceil$  \n",
    "Then $v_2 = v_2 - mv_1$\n"
   ]
  },
  {
   "cell_type": "code",
   "execution_count": 550,
   "metadata": {},
   "outputs": [
    {
     "data": {
      "text/plain": [
       "4"
      ]
     },
     "execution_count": 550,
     "metadata": {},
     "output_type": "execute_result"
    }
   ],
   "source": [
    "vector([1, 1]) * vector([2, 2])"
   ]
  },
  {
   "cell_type": "code",
   "execution_count": 557,
   "metadata": {},
   "outputs": [],
   "source": [
    "def gaussian_lattice_reduction(v1, v2):\n",
    "    while True:\n",
    "        if norm(v2) < norm(v1):\n",
    "            v1, v2 = v2, v1\n",
    "        m = round(v1 * v2 / norm(v1)**2)\n",
    "        if m == 0:\n",
    "            return v1, v2\n",
    "        v2 = v2 - m*v1        "
   ]
  },
  {
   "cell_type": "code",
   "execution_count": 558,
   "metadata": {},
   "outputs": [],
   "source": [
    "v1= vector((66586820,65354729))\n",
    "v2= vector((6513996,6393464))"
   ]
  },
  {
   "cell_type": "code",
   "execution_count": 559,
   "metadata": {},
   "outputs": [
    {
     "data": {
      "text/plain": [
       "((2280, -1001), (-1324, -2376))"
      ]
     },
     "execution_count": 559,
     "metadata": {},
     "output_type": "execute_result"
    }
   ],
   "source": [
    "gaussian_lattice_reduction(v1,v2)"
   ]
  },
  {
   "cell_type": "markdown",
   "metadata": {},
   "source": [
    "## LLL"
   ]
  },
  {
   "cell_type": "markdown",
   "metadata": {},
   "source": [
    "Given a basis $\\mathcal{B} = \\{v_1, v_2, ... , v_n\\}$ we want to find a \"better\" basis. What does \"better\" mean?\n",
    "* short vectors\n",
    "* as orthogonal as possible"
   ]
  },
  {
   "cell_type": "markdown",
   "metadata": {},
   "source": [
    "Let $\\mathcal{B}^* = \\{v^∗_1,v^∗_2,...,v^∗_n\\} = $ basis for span($\\mathcal{B}$) constructed using Gram Schmidt"
   ]
  },
  {
   "cell_type": "markdown",
   "metadata": {},
   "source": [
    "**Prop**  \n",
    "$\\det(L) = \\det(F) = \\det(F^*) = {\\prod^n_{i=1}||v_i^*||}$"
   ]
  },
  {
   "cell_type": "markdown",
   "metadata": {},
   "source": [
    "$\\mathcal{B}$ is  LLL reduced <=>\n",
    "\n",
    "* Size condition $|\\mu_{i,j}| = \\cfrac{|v_i \\cdot v_i^*|} {||v_j^*||^2} \\leq \\cfrac 1 2 $ for all $1 \\leq j < i \\leq n$\n",
    "* Lovasz Condition $||v^*_i||^2 \\geq \\left(\\cfrac 3 4 - \\mu^2_{i, i-1} \\right)||v_{i-1}^*||^2$ for all $1 < i \\leq n$ <=> $||Proj_{span(v_1,...v_{i-2})^\\perp}(v_i)|| \\geq \\frac 3 4 ||Proj_{span(v_1,...v_{i-2})^\\perp} (v_{i-1})||$ \n",
    "\n",
    "intuition for lovasz condition: https://crypto.stackexchange.com/questions/39532/why-is-the-lov%C3%A1sz-condition-used-in-the-lll-algorithm"
   ]
  },
  {
   "cell_type": "markdown",
   "metadata": {},
   "source": [
    "**Theorem**\n",
    "Let $L$ = lattice, $\\dim(L) = n$. Any LLL reduced basis $\\{v_1,v_2,...,v_n\\}$ for $L$ has the following two properties:\n",
    "* $\\prod^n_{i=1}||v_i|| \\leq 2^{n(n-1)/4} \\cdot \\det L$\n",
    "* $||v_j|| \\leq 2^{(i-1)/2}||v_i^*||$ for all $1 \\leq j \\leq i \\leq n$\n",
    "\n",
    "Further\n",
    "* $||v_1|| \\leq 2^{(n-1)/4} |\\det L|^{1/n}$\n",
    "* $||v_1|| \\leq 2^{(n-1)/2} \\underset{0 \\neq v \\in L}{\\min}||v||$ => LLL sovles apprSVP within $2^{(n-1)/2}$"
   ]
  },
  {
   "cell_type": "markdown",
   "metadata": {},
   "source": [
    "LLL algorithm intuition: https://kel.bz/post/lll/\n",
    "\n",
    "algorithm implemented after this: https://en.wikipedia.org/wiki/Lenstra%E2%80%93Lenstra%E2%80%93Lov%C3%A1sz_lattice_basis_reduction_algorithm"
   ]
  },
  {
   "cell_type": "markdown",
   "metadata": {},
   "source": [
    "*Algorithm details*  \n",
    "\n",
    "* The goal of LLL is to produce a list of short vectors in increasing order oflength. For each $1≤l≤n$,let $L_l$ denote the lattice spanned by $v_1,...,v_l$.  \n",
    "* What LLL attempts to do is to find an ordering of the basis vectors (combined with size reductions whenever possible) that minimizes the determinants $\\det(L_l)$   \n",
    "* If the number 3/4  is replaced by the number 1, then the LLL algorithm does precisely this; it swaps $v_k$ and $v_{k−1} whenever doing so reduces the value of det $L_{k−1}$. Unfortunately, if we use 1 instead of 3/4, then it is an open problem whether the LLL algorithm terminates in polynomial time"
   ]
  },
  {
   "cell_type": "code",
   "execution_count": 318,
   "metadata": {},
   "outputs": [],
   "source": [
    "def lenstra_lenstra_lovasz(v):    \n",
    "    v = copy(v)\n",
    "    n = v.nrows()\n",
    "    v_s, mu= gram_s(v)\n",
    "    k = 1\n",
    "    while k < n:\n",
    "        for j in range(k-1, -1, -1):\n",
    "            if abs(mu[k, j]) > 1/2:\n",
    "                v[k] = v[k] - round(mu[k, j]) * v[j]\n",
    "                v_s, mu= gram_s(v)\n",
    "        #Lovasz condition\n",
    "        if norm(v_s[k])^2 > (3/4 - round(mu[k, k-1])^2) * norm(v_s[k-1])^2 :\n",
    "            k = k+1\n",
    "        else:\n",
    "            v[k-1], v[k] = v[k], v[k-1]\n",
    "            v_s, mu= gram_s(v)\n",
    "            k = max(k-1, 1)\n",
    "    return v"
   ]
  },
  {
   "cell_type": "code",
   "execution_count": 280,
   "metadata": {},
   "outputs": [],
   "source": [
    "M = matrix([\n",
    "    [19, 2,32, 46, 3, 33],\n",
    "    [15, 42, 11,  0,  3, 24],\n",
    "    [43, 15,  0, 24,  4, 16], \n",
    "    [20, 44, 44,  0, 18, 15], \n",
    "    [0, 48 ,35, 16, 31, 31], \n",
    "    [48, 33, 32, 9, 1, 29]\n",
    "])"
   ]
  },
  {
   "cell_type": "code",
   "execution_count": 281,
   "metadata": {},
   "outputs": [
    {
     "name": "stdout",
     "output_type": "stream",
     "text": [
      "[15 42 11  0  3 24]\n",
      "[19  2 32 46  3 33]\n",
      "[43 15  0 24  4 16]\n",
      "[20 44 44  0 18 15]\n",
      "[ 0 48 35 16 31 31]\n",
      "[48 33 32  9  1 29]\n",
      "[ 15  42  11   0   3  24]\n",
      "[ 28 -27 -11  24   1  -8]\n",
      "[  4 -40  21  46   0   9]\n",
      "[ 20  44  44   0  18  15]\n",
      "[  0  48  35  16  31  31]\n",
      "[ 48  33  32   9   1  29]\n",
      "[ 28 -27 -11  24   1  -8]\n",
      "[ 15  42  11   0   3  24]\n",
      "[  4 -40  21  46   0   9]\n",
      "[ 20  44  44   0  18  15]\n",
      "[  0  48  35  16  31  31]\n",
      "[ 48  33  32   9   1  29]\n",
      "[ 28 -27 -11  24   1  -8]\n",
      "[ 15  42  11   0   3  24]\n",
      "[  5   2  33   0  15  -9]\n",
      "[-24 -13  32  22  -1  17]\n",
      "[  0  48  35  16  31  31]\n",
      "[ 48  33  32   9   1  29]\n",
      "[ 28 -27 -11  24   1  -8]\n",
      "[  5   2  33   0  15  -9]\n",
      "[ 15  42  11   0   3  24]\n",
      "[-24 -13  32  22  -1  17]\n",
      "[  0  48  35  16  31  31]\n",
      "[ 48  33  32   9   1  29]\n",
      "[  5   2  33   0  15  -9]\n",
      "[ 28 -27 -11  24   1  -8]\n",
      "[ 15  42  11   0   3  24]\n",
      "[-24 -13  32  22  -1  17]\n",
      "[  0  48  35  16  31  31]\n",
      "[ 48  33  32   9   1  29]\n",
      "[  5   2  33   0  15  -9]\n",
      "[ 28 -27 -11  24   1  -8]\n",
      "[ 15  42  11   0   3  24]\n",
      "[-20   4  -9  16  13  16]\n",
      "[-29 -15  -1  22 -16  26]\n",
      "[ 48  33  32   9   1  29]\n",
      "[  5   2  33   0  15  -9]\n",
      "[ 28 -27 -11  24   1  -8]\n",
      "[-20   4  -9  16  13  16]\n",
      "[ 15  42  11   0   3  24]\n",
      "[-29 -15  -1  22 -16  26]\n",
      "[ 48  33  32   9   1  29]\n",
      "[  5   2  33   0  15  -9]\n",
      "[-20   4  -9  16  13  16]\n",
      "[ 28 -27 -11  24   1  -8]\n",
      "[ 15  42  11   0   3  24]\n",
      "[-29 -15  -1  22 -16  26]\n",
      "[ 48  33  32   9   1  29]\n",
      "[  5   2  33   0  15  -9]\n",
      "[-20   4  -9  16  13  16]\n",
      "[ 28 -27 -11  24   1  -8]\n",
      "[ -9 -19   8   6 -29  10]\n",
      "[ 15  42  11   0   3  24]\n",
      "[ 48  33  32   9   1  29]\n",
      "[  5   2  33   0  15  -9]\n",
      "[-20   4  -9  16  13  16]\n",
      "[ -9 -19   8   6 -29  10]\n",
      "[ 28 -27 -11  24   1  -8]\n",
      "[ 15  42  11   0   3  24]\n",
      "[ 48  33  32   9   1  29]\n",
      "[  5   2  33   0  15  -9]\n",
      "[-20   4  -9  16  13  16]\n",
      "[ -9 -19   8   6 -29  10]\n",
      "[ 28 -27 -11  24   1  -8]\n",
      "[ 28 -11 -12   9 -17  14]\n",
      "[ 15  42  11   0   3  24]\n",
      "[  5   2  33   0  15  -9]\n",
      "[-20   4  -9  16  13  16]\n",
      "[ -9 -19   8   6 -29  10]\n",
      "[ 28 -11 -12   9 -17  14]\n",
      "[ 28 -27 -11  24   1  -8]\n",
      "[ 15  42  11   0   3  24]\n",
      "[  5   2  33   0  15  -9]\n",
      "[-20   4  -9  16  13  16]\n",
      "[ 28 -11 -12   9 -17  14]\n",
      "[ -9 -19   8   6 -29  10]\n",
      "[ 28 -27 -11  24   1  -8]\n",
      "[ 15  42  11   0   3  24]\n",
      "[  5   2  33   0  15  -9]\n",
      "[-20   4  -9  16  13  16]\n",
      "[ 28 -11 -12   9 -17  14]\n",
      "[ -9 -19   8   6 -29  10]\n",
      "[ -7  12   8  -4 -19  -9]\n",
      "[  0 -16   1  15  18 -22]\n",
      "[  5   2  33   0  15  -9]\n",
      "[-20   4  -9  16  13  16]\n",
      "[ 28 -11 -12   9 -17  14]\n",
      "[ -7  12   8  -4 -19  -9]\n",
      "[ -9 -19   8   6 -29  10]\n",
      "[  0 -16   1  15  18 -22]\n",
      "[  5   2  33   0  15  -9]\n",
      "[-20   4  -9  16  13  16]\n",
      "[ -7  12   8  -4 -19  -9]\n",
      "[ 28 -11 -12   9 -17  14]\n",
      "[ -9 -19   8   6 -29  10]\n",
      "[  0 -16   1  15  18 -22]\n",
      "[  5   2  33   0  15  -9]\n",
      "[ -7  12   8  -4 -19  -9]\n",
      "[-20   4  -9  16  13  16]\n",
      "[ 28 -11 -12   9 -17  14]\n",
      "[ -9 -19   8   6 -29  10]\n",
      "[  0 -16   1  15  18 -22]\n",
      "[ -7  12   8  -4 -19  -9]\n",
      "[  5   2  33   0  15  -9]\n",
      "[-20   4  -9  16  13  16]\n",
      "[ 28 -11 -12   9 -17  14]\n",
      "[ -9 -19   8   6 -29  10]\n",
      "[  0 -16   1  15  18 -22]\n",
      "[ -7  12   8  -4 -19  -9]\n",
      "[-20   4  -9  16  13  16]\n",
      "[  5   2  33   0  15  -9]\n",
      "[ 28 -11 -12   9 -17  14]\n",
      "[ -9 -19   8   6 -29  10]\n",
      "[  0 -16   1  15  18 -22]\n",
      "[ -7  12   8  -4 -19  -9]\n",
      "[-20   4  -9  16  13  16]\n",
      "[  6   7  20  21  -8  12]\n",
      "[  5   2  33   0  15  -9]\n",
      "[ -9 -19   8   6 -29  10]\n",
      "[  0 -16   1  15  18 -22]\n"
     ]
    }
   ],
   "source": [
    "M_lll = lenstra_lenstra_lovasz(M)"
   ]
  },
  {
   "cell_type": "code",
   "execution_count": 245,
   "metadata": {},
   "outputs": [
    {
     "data": {
      "text/plain": [
       "[ -7  12   8  -4 -19  -9]\n",
       "[-20   4  -9  16  13  16]\n",
       "[  6   7  20  21  -8  12]\n",
       "[-28  11  12  -9  17 -14]\n",
       "[-10 -24  21 -15  -6 -11]\n",
       "[ -7  -4   9  11  -1 -31]"
      ]
     },
     "execution_count": 245,
     "metadata": {},
     "output_type": "execute_result"
    }
   ],
   "source": [
    "M_lll"
   ]
  },
  {
   "cell_type": "code",
   "execution_count": 246,
   "metadata": {},
   "outputs": [
    {
     "data": {
      "text/plain": [
       "[ -7  12   8  -4 -19  -9]\n",
       "[-20   4  -9  16  13  16]\n",
       "[  6   7  20  21  -8  12]\n",
       "[-28  11  12  -9  17 -14]\n",
       "[ -7  -4   9  11  -1 -31]\n",
       "[-10 -24  21 -15  -6 -11]"
      ]
     },
     "execution_count": 246,
     "metadata": {},
     "output_type": "execute_result"
    }
   ],
   "source": [
    "M.LLL()"
   ]
  },
  {
   "cell_type": "markdown",
   "metadata": {},
   "source": [
    "## More algorithms"
   ]
  },
  {
   "cell_type": "markdown",
   "metadata": {},
   "source": [
    "* Babai's nearest plane https://cims.nyu.edu/~regev/teaching/lattices_fall_2004/ln/cvp.pdf\n",
    "* KZ-LLL and BKZ-LLL  https://arxiv.org/pdf/0801.3331.pdf"
   ]
  },
  {
   "cell_type": "markdown",
   "metadata": {},
   "source": [
    "# Breaking stuff"
   ]
  },
  {
   "cell_type": "markdown",
   "metadata": {},
   "source": [
    "# GO TO THE PYTHON NB FOR THE OTHER ALGORITHMS"
   ]
  },
  {
   "cell_type": "markdown",
   "metadata": {},
   "source": [
    "## NTRU"
   ]
  },
  {
   "cell_type": "code",
   "execution_count": 306,
   "metadata": {},
   "outputs": [],
   "source": [
    "#Example\n",
    "N, p, q, d = 7, 3, 41, 2\n",
    "Zx.<x> = ZZ[]"
   ]
  },
  {
   "cell_type": "code",
   "execution_count": 307,
   "metadata": {},
   "outputs": [
    {
     "name": "stdout",
     "output_type": "stream",
     "text": [
      "-x^6 - x^5 + x^3 + x + 1\n",
      "x^6 + x^4 - x^3 - x^2\n",
      "3*x^6 + 7*x^5 + 25*x^4 + 11*x^3 + 16*x^2 + 16*x + 4\n"
     ]
    }
   ],
   "source": [
    "f, g, F_p, F_q, h = ntru_key(N, p, q, d)\n",
    "print(f)\n",
    "print(g)\n",
    "print(h)"
   ]
  },
  {
   "cell_type": "code",
   "execution_count": 338,
   "metadata": {},
   "outputs": [
    {
     "data": {
      "text/plain": [
       "True"
      ]
     },
     "execution_count": 338,
     "metadata": {},
     "output_type": "execute_result"
    }
   ],
   "source": [
    "m = Zx([1, -1, 1, 1, 0, -1])\n",
    "\n",
    "e = ntru_encrypt(m, h, N, p, q, d)\n",
    "m_decr = ntru_decrypt(e, f, F_p, F_q, N, p, q, d)\n",
    "m_decr == m"
   ]
  },
  {
   "cell_type": "code",
   "execution_count": 319,
   "metadata": {},
   "outputs": [],
   "source": [
    "Mh = generate_M_h(h, q, N, orientation = 'rows')"
   ]
  },
  {
   "cell_type": "code",
   "execution_count": 320,
   "metadata": {},
   "outputs": [
    {
     "name": "stdout",
     "output_type": "stream",
     "text": [
      "[ 1  0  0  0  0  0  0  4 16 16 11 25  7  3]\n",
      "[ 0  1  0  0  0  0  0  3  4 16 16 11 25  7]\n",
      "[ 0  0  1  0  0  0  0  7  3  4 16 16 11 25]\n",
      "[ 0  0  0  1  0  0  0 25  7  3  4 16 16 11]\n",
      "[ 0  0  0  0  1  0  0 11 25  7  3  4 16 16]\n",
      "[ 0  0  0  0  0  1  0 16 11 25  7  3  4 16]\n",
      "[ 0  0  0  0  0  0  1 16 16 11 25  7  3  4]\n",
      "[ 0  0  0  0  0  0  0 41  0  0  0  0  0  0]\n",
      "[ 0  0  0  0  0  0  0  0 41  0  0  0  0  0]\n",
      "[ 0  0  0  0  0  0  0  0  0 41  0  0  0  0]\n",
      "[ 0  0  0  0  0  0  0  0  0  0 41  0  0  0]\n",
      "[ 0  0  0  0  0  0  0  0  0  0  0 41  0  0]\n",
      "[ 0  0  0  0  0  0  0  0  0  0  0  0 41  0]\n",
      "[ 0  0  0  0  0  0  0  0  0  0  0  0  0 41]\n"
     ]
    }
   ],
   "source": [
    "print(Mh)"
   ]
  },
  {
   "cell_type": "code",
   "execution_count": 321,
   "metadata": {},
   "outputs": [],
   "source": [
    "Mh_lll = lenstra_lenstra_lovasz(Mh)"
   ]
  },
  {
   "cell_type": "code",
   "execution_count": 322,
   "metadata": {},
   "outputs": [
    {
     "data": {
      "text/plain": [
       "[ 0  1  1 -1 -1  0 -1 -1  0 -1  0  0  1  1]\n",
       "[-1  0  1  1 -1 -1  0  1 -1  0 -1  0  0  1]\n",
       "[ 0 -1  0  1  1 -1 -1  1  1 -1  0 -1  0  0]\n",
       "[-1  0 -1  0  1  1 -1  0  1  1 -1  0 -1  0]\n",
       "[-1 -1  0 -1  0  1  1  0  0  1  1 -1  0 -1]\n",
       "[ 0 -2  0  1 -1  1  1 -1  1  0  1  0 -2  1]\n",
       "[ 1  1 -1 -1  0 -1  0  0 -1  0  0  1  1 -1]\n",
       "[-2  1 -2  1  9 -6 -1 -7 -7  4  8 -3 -1  6]\n",
       "[ 1 -2 -8  7  1  3 -1 -4 -7  3  1 -7  6  8]\n",
       "[-7  9  0  5 -2 -8  4 -3  8  0  2  0 -1 -6]\n",
       "[-5  6 -8  1 -5  3  8  6  4 -8  0 -3 -1  2]\n",
       "[-4  3 -6  4  3 -2  2  2  2  6 10  3  9  9]\n",
       "[ 9  0  5 -2 -8  4 -7  8  0  2  0 -1 -6 -3]\n",
       "[ 8 -4  7 -9  0 -5  2  1  6  3 -8  0 -2  0]"
      ]
     },
     "execution_count": 322,
     "metadata": {},
     "output_type": "execute_result"
    }
   ],
   "source": [
    "Mh_lll"
   ]
  },
  {
   "cell_type": "code",
   "execution_count": 323,
   "metadata": {},
   "outputs": [],
   "source": [
    "import numpy as np\n",
    "def hadamards_ratio(v):\n",
    "    '''vectors are columns'''\n",
    "    H = (np.abs(np.linalg.det(v)) / np.prod([np.linalg.norm(v_i) for v_i in v.T])) ** (1/v.shape[1])\n",
    "    return H"
   ]
  },
  {
   "cell_type": "code",
   "execution_count": 326,
   "metadata": {},
   "outputs": [
    {
     "data": {
      "text/plain": [
       "(0.16549789057036002, 0.8311505086376579)"
      ]
     },
     "execution_count": 326,
     "metadata": {},
     "output_type": "execute_result"
    }
   ],
   "source": [
    "hadamards_ratio(np.array(Mh).T), hadamards_ratio(np.array(Mh_lll).T)"
   ]
  },
  {
   "cell_type": "code",
   "execution_count": 329,
   "metadata": {},
   "outputs": [
    {
     "data": {
      "text/plain": [
       "((0, 1, 1, -1, -1, 0, -1, -1, 0, -1, 0, 0, 1, 1), 14)"
      ]
     },
     "execution_count": 329,
     "metadata": {},
     "output_type": "execute_result"
    }
   ],
   "source": [
    "v0 = Mh_lll[0]\n",
    "v0, len(v0)"
   ]
  },
  {
   "cell_type": "code",
   "execution_count": 332,
   "metadata": {},
   "outputs": [
    {
     "name": "stdout",
     "output_type": "stream",
     "text": [
      "-x^6 - x^4 - x^3 + x^2 + x\n",
      "x^6 + x^5 - x^2 - 1\n"
     ]
    }
   ],
   "source": [
    "f_eve = Zx(list(v0[:7]))\n",
    "g_eve = Zx(list(v0[7:]))\n",
    "print(f_eve)\n",
    "print(g_eve)\n",
    "#these keys are just rotations of the original key, so they are solution to decrypt"
   ]
  },
  {
   "cell_type": "code",
   "execution_count": 340,
   "metadata": {},
   "outputs": [
    {
     "name": "stdout",
     "output_type": "stream",
     "text": [
      "2*x^6 + x^3 + 2*x^2\n"
     ]
    }
   ],
   "source": [
    "F_p_eve = invertmodprime(f_eve, N, p)\n",
    "print(F_p_eve)"
   ]
  },
  {
   "cell_type": "code",
   "execution_count": 341,
   "metadata": {},
   "outputs": [
    {
     "name": "stdout",
     "output_type": "stream",
     "text": [
      "-x^5 + x^3 + x^2 - x + 1\n",
      "True\n"
     ]
    }
   ],
   "source": [
    "m_decr_eve = ntru_decrypt(e, f_eve, F_p_eve, None, N, p, q, None)\n",
    "print(m_decr_eve)\n",
    "print(m_decr_eve == m)"
   ]
  }
 ],
 "metadata": {
  "kernelspec": {
   "display_name": "SageMath 9.0",
   "language": "sage",
   "name": "sagemath"
  },
  "language_info": {
   "codemirror_mode": {
    "name": "ipython",
    "version": 3
   },
   "file_extension": ".py",
   "mimetype": "text/x-python",
   "name": "python",
   "nbconvert_exporter": "python",
   "pygments_lexer": "ipython3",
   "version": "3.7.3"
  }
 },
 "nbformat": 4,
 "nbformat_minor": 2
}
