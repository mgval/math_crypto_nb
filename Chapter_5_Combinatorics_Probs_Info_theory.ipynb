{
 "cells": [
  {
   "cell_type": "code",
   "execution_count": 7,
   "metadata": {},
   "outputs": [],
   "source": [
    "import numpy as np\n",
    "import math\n",
    "from Crypto.Util.number import getPrime, inverse, bytes_to_long, long_to_bytes\n",
    "import random"
   ]
  },
  {
   "cell_type": "code",
   "execution_count": 8,
   "metadata": {},
   "outputs": [],
   "source": [
    "def isqrt(n):\n",
    "    x = n\n",
    "    y = (x + 1) // 2\n",
    "    while y < x:\n",
    "        x = y\n",
    "        y = (x + n // x) // 2\n",
    "    return x"
   ]
  },
  {
   "cell_type": "code",
   "execution_count": 9,
   "metadata": {},
   "outputs": [],
   "source": [
    "def gcd(a, b):\n",
    "    if b == 0:\n",
    "        return a\n",
    "    else:\n",
    "        return gcd(b, a%b)"
   ]
  },
  {
   "cell_type": "code",
   "execution_count": 10,
   "metadata": {},
   "outputs": [],
   "source": [
    "def egcd(a, b):\n",
    "    if a == 0:\n",
    "        return (b, 0, 1)\n",
    "    else:\n",
    "        gcd, x, y = egcd(b%a, a) #compute gcd first\n",
    "        return (gcd, y - b//a *x , x)"
   ]
  },
  {
   "cell_type": "markdown",
   "metadata": {},
   "source": [
    "$S$ = set, $|S| = n$  => \n",
    "1. permutations  => $n!$\n",
    "2. combinations of $r$ objects => ${n \\choose r} = \\frac{n!}{r!(n-r)!} = n(n-1)(n-2)...(n-r+1)$\n",
    "\n",
    "**Binomial theorem**  \n",
    "$(x+y)^n = \\sum_{k=1}^{n} {n \\choose k} x^k y^{n-k}$\n"
   ]
  },
  {
   "cell_type": "markdown",
   "metadata": {},
   "source": [
    "## Vigenere cipher"
   ]
  },
  {
   "cell_type": "code",
   "execution_count": 11,
   "metadata": {},
   "outputs": [],
   "source": [
    "alphabet = list('abcdefghijklmnopqrstuvwxyz')\n",
    "text = 'the rain in spain stays mainly in the plain'\n",
    "key = 'flamingo'"
   ]
  },
  {
   "cell_type": "code",
   "execution_count": 12,
   "metadata": {},
   "outputs": [],
   "source": [
    "def vigenere_cipher(m, key, set_of_characters):\n",
    "    m = ''.join(m.split()) #remove whitespace\n",
    "    c = ''\n",
    "    for i in range(len(m)):\n",
    "        index = (set_of_characters.index(m[i]) + set_of_characters.index(key[i % len(key)])) % len(set_of_characters)\n",
    "        c+= set_of_characters[index]\n",
    "    return c"
   ]
  },
  {
   "cell_type": "code",
   "execution_count": 13,
   "metadata": {},
   "outputs": [
    {
     "data": {
      "text/plain": [
       "'ysedivtwsdpmqayhfjsyivtzdtnfprvzftn'"
      ]
     },
     "execution_count": 13,
     "metadata": {},
     "output_type": "execute_result"
    }
   ],
   "source": [
    "vigenere_cipher(text, key,alphabet)"
   ]
  },
  {
   "cell_type": "code",
   "execution_count": 14,
   "metadata": {},
   "outputs": [],
   "source": [
    "# solve dis ( too lazy)"
   ]
  },
  {
   "cell_type": "code",
   "execution_count": 15,
   "metadata": {},
   "outputs": [],
   "source": [
    "c = 'zpgdl rjlaj kpylx zpyyg lrjgd lrzhz qyjzq repvm swrzy rigzhzvreg kwivs saolt nliuw oldie aqewf iiykh bjowr hdogc qhkwajyagg emisr zqoqh oavlk bjofr ylvps rtgiu avmsw lzgms evwpcdmjsv jqbrn klpcf iowhv kxjbj pmfkr qthtk ozrgq ihbmq sbivdardym qmpbu nivxm tzwqv gefjh ucbor vwpcd xuwft qmoow jipdsfluqm oeavl jgqea lrkti wvext vkrrg xani'\n",
    "c = ''.join(c.split())"
   ]
  },
  {
   "cell_type": "code",
   "execution_count": 16,
   "metadata": {},
   "outputs": [],
   "source": [
    "trigrams = np.array(list(zip(c, c[1:], c[2:])))"
   ]
  },
  {
   "cell_type": "code",
   "execution_count": 17,
   "metadata": {},
   "outputs": [],
   "source": [
    "uniq_arr, inv_arr, count_arr = np.unique(trigrams, axis = 0, return_counts = True, return_inverse = True)\n",
    "\n"
   ]
  },
  {
   "cell_type": "code",
   "execution_count": 18,
   "metadata": {},
   "outputs": [
    {
     "data": {
      "text/plain": [
       "array([261, 154,  48,  24, 115, 182,  90, 109,   1,  89, 102, 158, 255,\n",
       "       121, 249, 262, 159, 258, 251,  54, 115, 181,  85,  48,  24, 117,\n",
       "       190, 260,  68, 265, 173, 252,  97, 264, 169, 176,  36, 157, 225,\n",
       "       132, 202, 242, 192, 269, 257, 180,  71,  59, 260,  69, 267, 227,\n",
       "       175,  34,  53, 107, 235,  80, 228, 199, 193,   5, 142, 118, 207,\n",
       "       136, 111,  78, 216, 238, 141, 110,  23,  70,  31,   6, 162,  38,\n",
       "       232,  40,  73,  83, 253,  99,  60,  11,  92, 148, 241, 179,  62,\n",
       "        26, 140,  47,  21, 163,  63, 106, 231,   2,  96, 250,   0,  51,\n",
       "        50,  35, 124,  76, 198, 191, 263, 168, 144, 164,  64, 137,   8,\n",
       "       224, 113,  98,  11,  91, 139,  45, 189, 254, 120, 226, 156, 197,\n",
       "       187, 203,  52,  77, 211,   9, 225, 132, 201, 237, 122, 259,  55,\n",
       "       131, 195,  37, 229, 239, 151,  18,  25, 125,  95, 200, 220,  94,\n",
       "       160,  15, 184, 135, 100, 114, 152,  20,  41,  74, 146, 234,  67,\n",
       "       222, 108, 245,  84,  12,  93, 155, 123,  43, 103, 185, 171, 204,\n",
       "        65, 206, 101, 149, 266, 177,  57, 165,  72,  61,  13, 130, 170,\n",
       "       194,  10,  79, 217,  22,   7, 174,  29, 256, 129, 167, 128, 150,\n",
       "        16, 213, 134,  81, 230, 246, 133, 210, 268, 240, 172, 219,  49,\n",
       "        33,  42,  87,  66, 212,  17,  14, 145, 188, 229, 239, 151,  19,\n",
       "        28, 248, 215, 233,  46, 208, 166, 127, 143, 147, 236,  88,  75,\n",
       "       153,  27, 196,  44, 119, 214, 166, 126, 138,  32,   8, 223, 112,\n",
       "        86,  56, 161,  30,   3, 116, 183, 105, 205,  82, 243, 218,  39,\n",
       "       247, 209, 221, 104, 186, 178,  58, 244,   4], dtype=int64)"
      ]
     },
     "execution_count": 18,
     "metadata": {},
     "output_type": "execute_result"
    }
   ],
   "source": [
    "inv_arr"
   ]
  },
  {
   "cell_type": "code",
   "execution_count": 19,
   "metadata": {},
   "outputs": [
    {
     "data": {
      "text/plain": [
       "array([['a', 'v', 'l'],\n",
       "       ['b', 'j', 'o'],\n",
       "       ['d', 'l', 'r'],\n",
       "       ['g', 'd', 'l'],\n",
       "       ['l', 'r', 'j'],\n",
       "       ['m', 's', 'w'],\n",
       "       ['p', 'c', 'd'],\n",
       "       ['q', 'm', 'o'],\n",
       "       ['v', 'm', 's'],\n",
       "       ['v', 'w', 'p'],\n",
       "       ['w', 'p', 'c'],\n",
       "       ['z', 'h', 'z']], dtype='<U1')"
      ]
     },
     "execution_count": 19,
     "metadata": {},
     "output_type": "execute_result"
    }
   ],
   "source": [
    "uniq_arr[count_arr == 2]"
   ]
  },
  {
   "cell_type": "markdown",
   "metadata": {},
   "source": [
    "# TO DO maybe?\n",
    "finish the cryptanalysis of Vigenere cypher "
   ]
  },
  {
   "cell_type": "markdown",
   "metadata": {},
   "source": [
    "# Probability"
   ]
  },
  {
   "cell_type": "markdown",
   "metadata": {},
   "source": [
    "assume you know the basic proprieties:\n",
    "* definitions\n",
    "* independence, conditional\n",
    "* Bayes formula\n",
    "* random variables -> density functions and proprieties\n",
    "* common random variables"
   ]
  },
  {
   "cell_type": "markdown",
   "metadata": {},
   "source": [
    "# Collision Algorithms"
   ]
  },
  {
   "cell_type": "markdown",
   "metadata": {},
   "source": [
    "**Collision Theorem**:\n",
    "An urn contains $N$ balls, of which $n$ are red and $N-n$ are blue.  \n",
    "Bob samples with replacement until he has $m$ balls\n",
    "\n",
    "* The probability that Bob selects at least one red ball:  $Pr(\\text{at least one red})=1−\\left(1−\\cfrac n N\\right)^m$\n",
    "\n",
    "* A lower bound for the probability $Pr(\\text{at least one red})≥1−e^{−mn/N}$\n",
    "\n",
    "If $N$ is large and if $m$ and $n$ are not too much larger than $\\sqrt N$ (Ex: $m, n <10\\sqrt N$), the lower bound is almost an equality\n"
   ]
  },
  {
   "cell_type": "code",
   "execution_count": 20,
   "metadata": {},
   "outputs": [],
   "source": [
    "#Example"
   ]
  },
  {
   "cell_type": "code",
   "execution_count": 25,
   "metadata": {},
   "outputs": [],
   "source": [
    "def pr_at_least_one_red(n, m, N):\n",
    "    return 1 - (1 - n/N)**m\n",
    "def bounded_pr_at_least_one_red(n, m, N):\n",
    "    return 1 - np.e**(-m*n/N)"
   ]
  },
  {
   "cell_type": "markdown",
   "metadata": {},
   "source": [
    "A deck of cards is shuffled and eight cards are dealt face up.Bob then takes a second deck of cards and chooses eight cards at random,replacing each chosen card before making the next choice. What is Bob’sprobability of matching one of the cards from the first deck?"
   ]
  },
  {
   "cell_type": "code",
   "execution_count": 26,
   "metadata": {},
   "outputs": [],
   "source": [
    "N = 52\n",
    "n = 8\n",
    "m = 8"
   ]
  },
  {
   "cell_type": "code",
   "execution_count": 27,
   "metadata": {},
   "outputs": [
    {
     "name": "stdout",
     "output_type": "stream",
     "text": [
      "0.7372185753440565\n",
      "0.7079321763085858\n"
     ]
    }
   ],
   "source": [
    "print(pr_at_least_one_red(n,m,N))\n",
    "print(bounded_pr_at_least_one_red(n, m, N))\n"
   ]
  },
  {
   "cell_type": "code",
   "execution_count": 28,
   "metadata": {},
   "outputs": [
    {
     "name": "stdout",
     "output_type": "stream",
     "text": [
      "0.6562602681709593\n",
      "0.6176957271079193\n"
     ]
    }
   ],
   "source": [
    "n = 10; m = 5\n",
    "print(pr_at_least_one_red(n,m,N))\n",
    "print(bounded_pr_at_least_one_red(n, m, N))"
   ]
  },
  {
   "cell_type": "code",
   "execution_count": 33,
   "metadata": {},
   "outputs": [
    {
     "name": "stdout",
     "output_type": "stream",
     "text": [
      "0.9999568287525893\n",
      "0.9999546000702375\n"
     ]
    }
   ],
   "source": [
    "N = 100000\n",
    "n = 1000\n",
    "m = 1000\n",
    "print(pr_at_least_one_red(n,m,N))\n",
    "print(bounded_pr_at_least_one_red(n, m, N))"
   ]
  },
  {
   "cell_type": "markdown",
   "metadata": {},
   "source": [
    "# Pollard rho algoritm"
   ]
  },
  {
   "cell_type": "markdown",
   "metadata": {},
   "source": [
    "https://en.wikipedia.org/wiki/Pollard%27s_rho_algorithm_for_logarithms  \n",
    "legit got the intuition from here : https://youtu.be/pKO9UjSeLew\n",
    "and here https://www.youtube.com/watch?v=9YTjXqqJEFE"
   ]
  },
  {
   "cell_type": "code",
   "execution_count": 37,
   "metadata": {},
   "outputs": [],
   "source": [
    "p = 48611\n",
    "g = 19\n",
    "h = 24717"
   ]
  },
  {
   "cell_type": "code",
   "execution_count": 42,
   "metadata": {},
   "outputs": [],
   "source": [
    "def f(x, g, h, alpha, beta, p): \n",
    "    '''a random function that returns x, alpha, beta'''\n",
    "    if( x < p//3):\n",
    "        return g * x % p, (alpha+1) % (p-1), beta % (p-1)\n",
    "    elif (x >= p//3 and x < (2*p) // 3):\n",
    "        return pow(x, 2, p), 2 * alpha % (p-1), 2 * beta % (p-1)\n",
    "    else:\n",
    "        return h * x % p,  alpha, (beta+1) % (p-1)\n",
    "    "
   ]
  },
  {
   "cell_type": "code",
   "execution_count": 45,
   "metadata": {},
   "outputs": [],
   "source": [
    "def pollard_rho(g, h, p):\n",
    "    alpha_i = alpha_2i = 0\n",
    "    beta_i = beta_2i = 0\n",
    "    x_i = x_2i = 1\n",
    "    \n",
    "    #use floyd's tortoise and hare intuition\n",
    "    for i in range(int(3*isqrt(p))):\n",
    "        #Tortoise\n",
    "        x_i, alpha_i, beta_i = f(x_i, g, h, alpha_i, beta_i, p)\n",
    "        \n",
    "        #Hare\n",
    "        x_temp, alpha_temp, beta_temp = f(x_2i, g, h, alpha_2i, beta_2i, p)\n",
    "        x_2i, alpha_2i, beta_2i = f(x_temp, g, h, alpha_temp, beta_temp, p)\n",
    "        \n",
    "        #print(i, x_i, x_2i, alpha_i, beta_i, alpha_2i, beta_2i)\n",
    "        \n",
    "        if(x_i == x_2i): # collision\n",
    "            u = (alpha_i - alpha_2i) % (p-1)\n",
    "            v = (beta_2i - beta_i) % (p-1)\n",
    "            #print(u, v)\n",
    "            #print(pow(g, u, p), pow(h, v, p))\n",
    "            \n",
    "            #g^u = g^v => v * log_g(h) = u mod (p-1)  -> let this be equation (*)\n",
    "            gcd, s, _ = egcd(v, p-1) #s * v = gcd\n",
    "            #print(s, s * v % (p-1), gcd)\n",
    "            if(gcd== 1): \n",
    "                #multiply (*) by inverse of v mod p-1\n",
    "                return (inverse(v, (p-1)) * u) %(p-1)\n",
    "            else:\n",
    "                #multiply (*) by d\n",
    "                solutions = set()\n",
    "                for k in range(gcd):\n",
    "                    w = u * s % (p-1)\n",
    "                    sol = (w) / gcd + k * (p-1) / gcd\n",
    "                    solutions.add(sol)\n",
    "                return solutions\n",
    "                \n",
    "                \n",
    "                \n",
    "            "
   ]
  },
  {
   "cell_type": "code",
   "execution_count": null,
   "metadata": {},
   "outputs": [],
   "source": []
  },
  {
   "cell_type": "code",
   "execution_count": 46,
   "metadata": {},
   "outputs": [],
   "source": [
    "t = pollard_rho(g, h, p)"
   ]
  },
  {
   "cell_type": "code",
   "execution_count": 47,
   "metadata": {},
   "outputs": [
    {
     "data": {
      "text/plain": [
       "{3842.0,\n",
       " 8703.0,\n",
       " 13564.0,\n",
       " 18425.0,\n",
       " 23286.0,\n",
       " 28147.0,\n",
       " 33008.0,\n",
       " 37869.0,\n",
       " 42730.0,\n",
       " 47591.0}"
      ]
     },
     "execution_count": 47,
     "metadata": {},
     "output_type": "execute_result"
    }
   ],
   "source": [
    "t"
   ]
  },
  {
   "cell_type": "markdown",
   "metadata": {},
   "source": [
    "# TO DO maybe?: Information theory "
   ]
  },
  {
   "cell_type": "code",
   "execution_count": null,
   "metadata": {},
   "outputs": [],
   "source": []
  }
 ],
 "metadata": {
  "kernelspec": {
   "display_name": "Python 3",
   "language": "python",
   "name": "python3"
  },
  "language_info": {
   "codemirror_mode": {
    "name": "ipython",
    "version": 3
   },
   "file_extension": ".py",
   "mimetype": "text/x-python",
   "name": "python",
   "nbconvert_exporter": "python",
   "pygments_lexer": "ipython3",
   "version": "3.7.6"
  }
 },
 "nbformat": 4,
 "nbformat_minor": 4
}
