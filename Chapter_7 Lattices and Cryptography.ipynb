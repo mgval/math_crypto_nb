{
 "cells": [
  {
   "cell_type": "code",
   "execution_count": 5,
   "metadata": {},
   "outputs": [],
   "source": [
    "import numpy as np\n",
    "import math\n",
    "from Crypto.Util.number import getPrime, inverse, bytes_to_long, long_to_bytes\n",
    "import random"
   ]
  },
  {
   "cell_type": "code",
   "execution_count": 6,
   "metadata": {},
   "outputs": [],
   "source": [
    "def isqrt(n):\n",
    "    x = n\n",
    "    y = (x + 1) // 2\n",
    "    while y < x:\n",
    "        x = y\n",
    "        y = (x + n // x) // 2\n",
    "    return x\n",
    "\n",
    "def gcd(a, b):\n",
    "    if b == 0:\n",
    "        return a\n",
    "    else:\n",
    "        return gcd(b, a%b)\n",
    "\n",
    "def egcd(a, b):\n",
    "    if a == 0:\n",
    "        return (b, 0, 1)\n",
    "    else:\n",
    "        gcd, x, y = egcd(b%a, a) #compute gcd first\n",
    "        return (gcd, y - b//a *x , x)"
   ]
  },
  {
   "cell_type": "markdown",
   "metadata": {},
   "source": [
    "# A congruential public key cryptosystem"
   ]
  },
  {
   "cell_type": "markdown",
   "metadata": {},
   "source": [
    "Alice:  \n",
    "* Choose large integer mod $q$\n",
    "* choose secret $f, g$ with $f<\\sqrt{q/2}, \\sqrt{q/4} < g < \\sqrt{q/2}$ and $\\gcd(f, qg) = 1$\n",
    "* Compute $h \\equiv f^{-1}g  \\ mod \\ q$\n",
    "* Publish $(q, h)$\n",
    "\n",
    "Encryption (Bob):\n",
    "* choose plaintext $m$ with $m<\\sqrt{q/4}$\n",
    "* choose random $r < \\sqrt{q/2}$\n",
    "* Compute $e \\equiv rh + m \\ mod \\ q$\n",
    "* Send e\n",
    "\n",
    "Decryption (Alice):\n",
    "* Compute $a \\equiv fe \\ mod \\ q $ with $ 0 < a < q$\n",
    "* Compute $b \\equiv f^{-1}e \\ mod \\ q $ with $ 0 < b < g$\n",
    "* Then $b = m$\n",
    "\n",
    "Proof:\n",
    "$b = f^{-1}e \\equiv f^{-1}(rg + fm) \\equiv f^{-1}fm \\equiv m \\ mod \\ g $ with $0 < b < g$"
   ]
  },
  {
   "cell_type": "markdown",
   "metadata": {},
   "source": [
    "### Example"
   ]
  },
  {
   "cell_type": "code",
   "execution_count": 7,
   "metadata": {},
   "outputs": [],
   "source": [
    "def make_keys():\n",
    "    #alice chooses\n",
    "    q = 122430513841\n",
    "    f = 231231\n",
    "    g = 195698\n",
    "    assert (f < isqrt(q//2))\n",
    "    assert (isqrt(q//4) < g < isqrt(q//2))\n",
    "    \n",
    "    h = (inverse(f, q) * g) % q\n",
    "    return (q, h), (f, g)\n",
    "    \n",
    "    "
   ]
  },
  {
   "cell_type": "code",
   "execution_count": 8,
   "metadata": {},
   "outputs": [],
   "source": [
    "(q, h), (f, g) = make_keys()"
   ]
  },
  {
   "cell_type": "code",
   "execution_count": 9,
   "metadata": {},
   "outputs": [],
   "source": [
    "def encrypt(q, h, m):\n",
    "    assert(m < isqrt(q//4)), 'Message too long'\n",
    "    r = random.randint(0, isqrt(q//2))\n",
    "    \n",
    "    e = (r*h + m) % q\n",
    "\n",
    "    return e"
   ]
  },
  {
   "cell_type": "code",
   "execution_count": 10,
   "metadata": {},
   "outputs": [],
   "source": [
    "m = 123456\n",
    "e = encrypt(q, h, m)"
   ]
  },
  {
   "cell_type": "code",
   "execution_count": 11,
   "metadata": {},
   "outputs": [],
   "source": [
    "def decrypt(e, q, h, f, g):\n",
    "    a = (f*e) % q\n",
    "    b = (inverse(f, g) * a) % g\n",
    "    \n",
    "    return b\n",
    "    "
   ]
  },
  {
   "cell_type": "code",
   "execution_count": 12,
   "metadata": {},
   "outputs": [],
   "source": [
    "b = decrypt(e, q, g, f, g)"
   ]
  },
  {
   "cell_type": "code",
   "execution_count": 13,
   "metadata": {},
   "outputs": [
    {
     "data": {
      "text/plain": [
       "123456"
      ]
     },
     "execution_count": 13,
     "metadata": {},
     "output_type": "execute_result"
    }
   ],
   "source": [
    "b"
   ]
  },
  {
   "cell_type": "code",
   "execution_count": 14,
   "metadata": {},
   "outputs": [
    {
     "data": {
      "text/plain": [
       "True"
      ]
     },
     "execution_count": 14,
     "metadata": {},
     "output_type": "execute_result"
    }
   ],
   "source": [
    "b == m"
   ]
  },
  {
   "cell_type": "markdown",
   "metadata": {},
   "source": [
    "### Where are the lattices tho?"
   ]
  },
  {
   "cell_type": "markdown",
   "metadata": {},
   "source": [
    "Try to find $(f, g)$ from $(q, h)$ => find $(F, G): Fh \\equiv G \\ mod \\ q$ where $F, G  = \\mathcal{O}(\\sqrt{q}) <=> $  \n",
    "$<=>\\begin{align*} Fh &= G + qR  \\\\ F &= F + 0 \\end{align*}<=> \n",
    "F \\begin{bmatrix} 1 \\\\ h \\end{bmatrix} - R \\begin{bmatrix} 0 \\\\ q \\end{bmatrix} = \\begin{bmatrix} F \\\\ G \\end{bmatrix}$\n",
    "\n",
    "so $v1 = \\begin{bmatrix} 1 \\\\ h \\end{bmatrix}$, $v2 = \\begin{bmatrix} 0 \\\\ q \\end{bmatrix}$, $w = \\begin{bmatrix} F \\\\ G \\end{bmatrix}$\n",
    "\n",
    "=> find a linear combination $w =a_1v_1 + a_2v_2$  =>   \n",
    "=> Find shortest vector in the set $L = \\{a_1v_1 + a_2v_2 | a_1, a_2 \\in \\mathbb{Z}\\}$ =  two dimensional **lattice**\n"
   ]
  },
  {
   "cell_type": "markdown",
   "metadata": {},
   "source": [
    "# Subset-sum problems"
   ]
  },
  {
   "cell_type": "markdown",
   "metadata": {},
   "source": [
    "**Subset-Sum Problem**\n",
    "\n",
    "Suppose that you are given a list of positive integers $(M_1,M_2,...,M_n)$ and another integer $S$. Find a subset of the elements in the list whose sum is S. (You may assumethat there is at least one such subset.)\n",
    "\n"
   ]
  },
  {
   "cell_type": "markdown",
   "metadata": {},
   "source": [
    "*Proposition*  \n",
    "Let $M = (M_1,M_2,...,M_n)$, $(M,S)$ = Subset-sum problem  \n",
    "For all sets $I \\subset\\{i | \\ 1 \\leq i \\leq n/2\\}$ and $J \\subset\\{j | \\ n/2 < j \\leq n\\}$ compute and make a list of values\n",
    "$A_I = \\sum_{i\\in I}M_i$ and $B_J = S - \\sum_{j \\in J}M_j$\n",
    "\n",
    "Then $\\exists (I_0, J_0)$ with $A_{I_0} = B_{J_0}$ => $S = \\sum_{i\\in I}M_i + \\sum_{j \\in J}M_j$\n",
    "\n",
    "From here we might create a collision algorithm that breaks the system in $\\mathcal{O}(2^{n/2})$"
   ]
  },
  {
   "cell_type": "markdown",
   "metadata": {},
   "source": [
    "**Superincreasing Sequence**\n",
    "\n",
    "$r=(r_1,r_2,...,r_n)$ with the property that $r_i+1 ≥ 2r_i$ for all $1≤i≤n−1$."
   ]
  },
  {
   "cell_type": "markdown",
   "metadata": {},
   "source": [
    "### Algorithm for $(M, S)$"
   ]
  },
  {
   "cell_type": "code",
   "execution_count": 11,
   "metadata": {},
   "outputs": [],
   "source": [
    "list_M = [3,11,24,50,115]\n",
    "S = 142\n",
    "def superSM(list_M, S):\n",
    "    list_x = []\n",
    "    for M_i in reversed(list_M):\n",
    "        if S>=M_i:\n",
    "            list_x.append(1)\n",
    "            S-=M_i\n",
    "        else:\n",
    "            list_x.append(0)\n",
    "    return list(reversed(list_x))\n",
    "            \n",
    "    "
   ]
  },
  {
   "cell_type": "code",
   "execution_count": 12,
   "metadata": {},
   "outputs": [],
   "source": [
    "xs = superSM(list_M, S)"
   ]
  },
  {
   "cell_type": "code",
   "execution_count": 13,
   "metadata": {},
   "outputs": [
    {
     "data": {
      "text/plain": [
       "[1, 0, 1, 0, 1]"
      ]
     },
     "execution_count": 13,
     "metadata": {},
     "output_type": "execute_result"
    }
   ],
   "source": [
    "xs"
   ]
  },
  {
   "cell_type": "code",
   "execution_count": 14,
   "metadata": {},
   "outputs": [
    {
     "name": "stdout",
     "output_type": "stream",
     "text": [
      "True\n"
     ]
    }
   ],
   "source": [
    "print(S == sum([m * x for (m, x) in zip(list_M, xs)]))"
   ]
  },
  {
   "cell_type": "markdown",
   "metadata": {},
   "source": [
    "### Cryptosystem based on superincreasing seq (Merkle and Hellman)"
   ]
  },
  {
   "cell_type": "markdown",
   "metadata": {},
   "source": [
    "Key creation(Alice):\n",
    "* Choose superincreasing $r=(r_1,...,r_n)$\n",
    "* Choose $A$ and $B$ with $B>2r_n$ and $\\gcd(A, B)=1$\n",
    "* Compute $M_i=Ar_i(modB)$ for $1≤i≤n $\n",
    "* Publish the public key $M=(M1,...,Mn)$\n",
    "\n",
    "Encryption(Bob):\n",
    "* Choose plaintext $x$\n",
    "* $S = x * M$\n",
    "* Send S\n",
    "\n",
    "Decryption (Alice):\n",
    "* $S' \\equiv A^{-1}S \\ mod \\ B$\n",
    "* solve $(S', r)$ => $x$\n",
    "\n",
    "Proof:\n",
    "$S' \\equiv A^{-1}S \\equiv A^{-1} \\sum^n_{i = 1}x_iAr_i \\equiv \\sum^n_{i = 1}x_ir_i \\ mod \\ b$"
   ]
  },
  {
   "cell_type": "code",
   "execution_count": 5,
   "metadata": {},
   "outputs": [],
   "source": [
    "def create_key_MH():\n",
    "    r = [3,11,24,50,115]\n",
    "    A = 113\n",
    "    B = 250\n",
    "    M = [A * r_i % B for r_i in r]\n",
    "    return M, (r, A, B)"
   ]
  },
  {
   "cell_type": "code",
   "execution_count": 16,
   "metadata": {},
   "outputs": [],
   "source": [
    "M, (r, A, B) = create_key_MH()"
   ]
  },
  {
   "cell_type": "code",
   "execution_count": 17,
   "metadata": {},
   "outputs": [],
   "source": [
    "x = [1,0,1,0,1]\n",
    "def encrypt_MH(M, x):\n",
    "    S = sum([x_i * M_i for (x_i, M_i) in zip(x, M)])\n",
    "    return S"
   ]
  },
  {
   "cell_type": "code",
   "execution_count": 18,
   "metadata": {},
   "outputs": [],
   "source": [
    "S = encrypt_MH(M, x)"
   ]
  },
  {
   "cell_type": "code",
   "execution_count": 19,
   "metadata": {},
   "outputs": [],
   "source": [
    "def decrypt_MH(r, A, B, S):\n",
    "    S_prime = inverse(A, B)*S % B\n",
    "    x = superSM(r, S_prime)\n",
    "    \n",
    "    return x"
   ]
  },
  {
   "cell_type": "code",
   "execution_count": 20,
   "metadata": {},
   "outputs": [],
   "source": [
    "x_decrypted = decrypt_MH(r, A, B, S)"
   ]
  },
  {
   "cell_type": "code",
   "execution_count": 21,
   "metadata": {},
   "outputs": [
    {
     "data": {
      "text/plain": [
       "True"
      ]
     },
     "execution_count": 21,
     "metadata": {},
     "output_type": "execute_result"
    }
   ],
   "source": [
    "x_decrypted == x"
   ]
  },
  {
   "cell_type": "markdown",
   "metadata": {},
   "source": [
    "Some observations make this algorithm impractical\n",
    "* we need $r_1 > 2^n$ => $r_n > 2^{2n} => B>2r_n = 2^{2n+1} => M_i = \\mathcal{O}(2^{2n}) ; S = \\mathcal{O}(2^{2n})$\n",
    "* Big public key: for $n = 160 => 2n^2 = 51200$ bits (Ex: DH: 1k bits)\n",
    "* weak to LLL"
   ]
  },
  {
   "cell_type": "markdown",
   "metadata": {},
   "source": [
    "### The lattice please"
   ]
  },
  {
   "cell_type": "markdown",
   "metadata": {},
   "source": [
    "Suppose you want to write $S$ as a subset-sum from the set $M = (m_1, ...,m_n)$. Consider the matrix"
   ]
  },
  {
   "cell_type": "markdown",
   "metadata": {},
   "source": [
    "$\\begin{bmatrix}\n",
    "2&0&\\dots&0&m_1 \\\\ \n",
    "2&0&\\dots&0&{m_2} \\\\\n",
    "\\vdots&\\vdots&\\ddots&\\vdots&\\vdots \\\\\n",
    "0&0&\\dots&2&m_n \\\\\n",
    "1&1&\\dots&1&S\n",
    "\\end{bmatrix} => \n",
    "\\begin{align*}\n",
    "v_1&=(2,0,0,...,0,m_1) \\\\ \n",
    "v_2&=(0,2,0,...,0,m_2) \\\\\n",
    "&\\vdots \\ \\vdots \\\\\n",
    "v_n&=(0,0,0,...,2,m_n) \\\\\n",
    "v_{n+1}&=(1,1,1,...,1,S)\n",
    "\\end{align*} \\Bigg{\\}}=> \n",
    "L=\\{a_1v_1+a_2v_2+···+a_nv_n+a_{n+1}v_{n+1} \\ | \\ a_1,a_2,...,a_{n+1}∈ \\mathbb{Z}\\} $\n",
    "\n"
   ]
  },
  {
   "cell_type": "markdown",
   "metadata": {},
   "source": [
    "Suppose $x = (x_1, x_2, ... x_n)$ is a solution => L contains  \n",
    "$t = \\sum^n_{i=1}x_iv_i - v_{n+1} = (2x_1 -1, 2x_2 -1, \\dots, 2x_n -1, 0)$\n",
    "\n",
    "Last coord of $t$ is 0 because $S = x_1m_1 + \\dots + x_nm_n$\n",
    "\n",
    "$x_i \\in {0, 1} => t_i \\in {-1, 1} => \\|t\\| = \\sqrt{n} = $  __short__  \n",
    "since $m_i = \\mathcal{O}(2^{2n}); S = \\mathcal{O}(2^{2n})$ => is likely that $t$ is the shortest vector => LLL \n",
    "\n"
   ]
  },
  {
   "cell_type": "markdown",
   "metadata": {},
   "source": [
    "# Vector space recap"
   ]
  },
  {
   "cell_type": "markdown",
   "metadata": {},
   "source": [
    "I'll just assume you know the basics. I'll put only concept names"
   ]
  },
  {
   "cell_type": "markdown",
   "metadata": {},
   "source": [
    "* Linear combinations\n",
    "* Independence\n",
    "* Basis that spans a vector space\n"
   ]
  },
  {
   "cell_type": "markdown",
   "metadata": {},
   "source": [
    "**Prop 1**  \n",
    "Let $v_1,...,v_n$ be a basis for $V$ and let $w_1,...,w_n$ be another set of $n$ vectors in $V$ .Write each $w_j$ as a linear combination of the $v_i$\n",
    "\n",
    "$\\begin{align*}  \n",
    "w_1 &= α_{11}v_1+α_{12}v_2+···+α_{1n}v_n \\\\\n",
    "w_2&=α_{21}v_1+α_{22}v_2+···+α_{2n}v_n \\\\\n",
    "\\vdots \\ \\vdots \\\\\n",
    "w_n&=α_{n1}v_1+α{n2}v_2+···+α_{nn}v_n\n",
    "\\end{align*}\n",
    "$\n",
    "\n",
    "=> Then $w_1,..., w_n$ is also a **basis** for $V$ <=>\n",
    "$\\det(A) = \n",
    "\\begin{vmatrix}\n",
    "α_{11}&α_{12}&···&α_{1n}\\\\\n",
    "α_{21}&α_{22}&···&α_{2n}\\\\\n",
    "\\vdots &\\vdots&\\ddots &\\vdots \\\\\n",
    "α_{n1} & α_{n2}&···&α_{nn}\n",
    "\\end{vmatrix} \\neq 0$"
   ]
  },
  {
   "cell_type": "markdown",
   "metadata": {},
   "source": [
    "* dot product; $v*w = 0 => v \\perp w $\n",
    "* norm; $\\|v\\|^2 = v * v$\n",
    "* angle $ \\cos(\\theta) =\\frac{v*w}{\\|v\\| * \\|w\\|}$\n",
    "* Cauchy Schwartz $|v * w| \\leq \\|v\\| * \\|w\\| $\n",
    "* **orthogonal basis** => $v=a_1v_1+···+a_nv_n => ‖v‖^2=‖a_1v_1+···+a_nv_n‖^2$ where $v_1,...,v_n$ = orthogonal basis \n",
    "* orthonormal basis\n"
   ]
  },
  {
   "cell_type": "markdown",
   "metadata": {},
   "source": [
    "**Gram schmidt algorithm** = basis => orthogonal basis"
   ]
  },
  {
   "cell_type": "code",
   "execution_count": 125,
   "metadata": {},
   "outputs": [],
   "source": [
    "def Gram_Schmidt(v):\n",
    "    vo = np.zeros(v.shape)\n",
    "    miu = np.zeros(v.shape)\n",
    "    vo[0] = v[0]\n",
    "    for i in range(1, v.shape[0]):\n",
    "        for j in range(i):\n",
    "            miu[i][j] = v[i].dot(vo[j]) / v[j].dot(v[j])\n",
    "        vo[i] = v[i] - sum([miu[i][j] * v[j] for j in range(i)])\n",
    "        \n",
    "    return vo\n",
    "        "
   ]
  },
  {
   "cell_type": "code",
   "execution_count": 126,
   "metadata": {},
   "outputs": [],
   "source": [
    "v1 = [1, 2]; v2 = [2, 3]\n",
    "v = np.array([v1, v2])"
   ]
  },
  {
   "cell_type": "code",
   "execution_count": 127,
   "metadata": {},
   "outputs": [],
   "source": [
    "vo = Gram_Schmidt(v)"
   ]
  },
  {
   "cell_type": "code",
   "execution_count": 128,
   "metadata": {},
   "outputs": [
    {
     "name": "stdout",
     "output_type": "stream",
     "text": [
      "-4.440892098500626e-16\n"
     ]
    }
   ],
   "source": [
    "print(vo[0].dot(vo[1])) #which is basically 0"
   ]
  },
  {
   "cell_type": "markdown",
   "metadata": {},
   "source": [
    "# Lattices"
   ]
  },
  {
   "cell_type": "markdown",
   "metadata": {},
   "source": [
    "Let $v_1,...,v_n$ be a set of linear independent vectors. Then  \n",
    "$L = \\{a_1v_1 +...+ a_nv_n | a_1,..., a_n \\in \\mathbb{Z}\\}$\n",
    "\n",
    "* $\\dim L = n$"
   ]
  },
  {
   "cell_type": "markdown",
   "metadata": {},
   "source": [
    "we try the same as **Prop 1** =>  \n",
    "$1 = \\det(I) = \\det(AA^{−1}) = \\det(A)\\det(A^{-1})$ where $\\det(A), \\det(A^{-1}) \\in \\mathbb{Z} => \\det(A) = \\pm1$\n",
    "\n",
    "**Prop 2**  \n",
    "Any two bases for a lattice $L$ are related by a matrix having integer coefficients and determinant equal to $±1$"
   ]
  },
  {
   "cell_type": "markdown",
   "metadata": {},
   "source": [
    "**Fundamental domain** \n",
    "\n",
    "Let $L$ be a lattice of dimension $n$ and let $v_1,v_2,...,v_n$ be a basis for $L$. The **fundamental domain** for $L$ corresponding to this basis is the set  \n",
    "$\\mathcal{F}(v_1,...,v_n)=\\{t_1v_1+t_2v_2+···+t_nv_n:0≤t_i<1\\}$."
   ]
  },
  {
   "cell_type": "markdown",
   "metadata": {},
   "source": [
    "=> Every vector $w∈R^n$ can be written in the form $w=t+v$ for a **unique** $t∈\\mathcal{F}$ and a **unique** $v∈L$.\n",
    "\n",
    "Equivalently, the union of the translated fundamental domains $F+v={t+v:t∈F}$ exactly covers $Rn$"
   ]
  },
  {
   "attachments": {
    "image.png": {
     "image/png": "[encoded data removed]"
    }
   },
   "cell_type": "markdown",
   "metadata": {},
   "source": [
    "![image.png](attachment:image.png)"
   ]
  },
  {
   "cell_type": "markdown",
   "metadata": {},
   "source": [
    "* $\\det(L) = \\det(F)$ where $F =$ the coordinate matrix of $\\mathcal{F}(v_1,...,v_n)$"
   ]
  },
  {
   "cell_type": "markdown",
   "metadata": {},
   "source": [
    "*Hadamard's inequality*  \n",
    "$\\det(L) = \\text{Vol}(\\mathcal{F}) \\leq \\|v_1\\|*...*\\|v_n\\|$"
   ]
  },
  {
   "cell_type": "markdown",
   "metadata": {},
   "source": [
    "* $\\forall \\ \\mathcal{F} $ for $L => \\text{Vol}\\mathcal{F} = \\text{const}$ <=> every fundamental domain for L has the same volume => **INVARIANT**"
   ]
  },
  {
   "cell_type": "markdown",
   "metadata": {},
   "source": [
    "# Short vectors in lattices"
   ]
  },
  {
   "cell_type": "markdown",
   "metadata": {},
   "source": [
    "## Problems\n",
    "\n"
   ]
  },
  {
   "cell_type": "markdown",
   "metadata": {},
   "source": [
    "* **Shortest vector problem (SVP)**  \n",
    "Find $v \\in L$ that minimizes $||v||$"
   ]
  },
  {
   "cell_type": "markdown",
   "metadata": {},
   "source": [
    "* **Closest vector problem (CVP)**  \n",
    "Given $w \\in \\mathbb{R}^m; \\  w\\notin L$ find $v \\in L$ that minimizes $||w-v||$"
   ]
  },
  {
   "cell_type": "markdown",
   "metadata": {},
   "source": [
    "* **Shortest basis problem (SBP)**  \n",
    "Given $L$ find a basis $\\{v_1, ..., v_n\\}$ that is \"shortest\" in some sense  \n",
    "Ex: $\\underset{1 \\leq i \\leq n}{\\max}||v_i||$ or $\\sum_{i = 1}^n ||v||^2$\n",
    "\n"
   ]
  },
  {
   "cell_type": "markdown",
   "metadata": {},
   "source": [
    "* **ApprSVP**  \n",
    "Let $\\psi(n) = function$ where $n = \\dim L$ Find $v$ such that $||v|| \\leq \\psi(n)||v_{shortest}||$\n",
    "* **ApprCVP**   \n",
    "same idea"
   ]
  },
  {
   "cell_type": "markdown",
   "metadata": {},
   "source": [
    "**Minkowski theorem**:  \n",
    "Let $L \\subset \\mathbb{R}^n, \\dim L = n; S \\subset \\mathbb{R}^n, S = $bounded symmetrical convex set whose volume satisfies   \n",
    "$\\text{Vol}(S) > 2^n\\det(L)$  \n",
    "Then S contains a nonzero lattice vector\n",
    "\n",
    "watch 12 mins for intuition\n",
    "https://www.youtube.com/watch?v=tZx7K0Or70Y&list=PLgKuh-lKre12CuCYPwpfH77-K6U_3JweQ\n",
    "\n"
   ]
  },
  {
   "cell_type": "code",
   "execution_count": null,
   "metadata": {},
   "outputs": [],
   "source": []
  },
  {
   "cell_type": "markdown",
   "metadata": {},
   "source": [
    "# Babai's algorithm"
   ]
  },
  {
   "cell_type": "markdown",
   "metadata": {},
   "source": [
    "**Remark**  \n",
    "if L has an orthogonal basis => SVP and CVP are easy:\n",
    "* SVP: the vector is found in the basis\n",
    "* CVP:\n",
    "$\\begin{align*}\n",
    "w&=t_1v_1+t_2v_2+···+t_nv_n \\text{with} \\ t_1,...,t_n∈\\mathbb{R}. \\\\\n",
    "v&=a_1v_1+···+a_n \\ v_n∈L\n",
    "\\end{align*} \\Big \\}\n",
    "‖v−w‖^2=(a_1−t_1)^2‖v_1‖^2+(a_2−t_2)^2‖v_2‖^2+···+(a_n−t_n)^2‖v_n‖^2 => \n",
    "$\n",
    "\n",
    "=>we take $a_i$ to be the closest integer to $t_i$\n"
   ]
  },
  {
   "cell_type": "markdown",
   "metadata": {},
   "source": [
    "For a near-orthogonal base this might work"
   ]
  },
  {
   "attachments": {
    "image.png": {
     "image/png": "[encoded data removed]"
    }
   },
   "cell_type": "markdown",
   "metadata": {},
   "source": [
    "But if you have a bad base, shit like this might happen:\n",
    "![image.png](attachment:image.png)"
   ]
  },
  {
   "cell_type": "markdown",
   "metadata": {},
   "source": [
    "Intuition:  \n",
    "Find a translation $(\\mathcal{F} + v)$ that contains $w$ and take the closest vertex  \n",
    "$w=v+\\epsilon_1v_1+\\epsilon_2v_2+···+\\epsilon_nv_n$ with $\\epsilon \\in \\{0, 1\\}$\n"
   ]
  },
  {
   "cell_type": "markdown",
   "metadata": {},
   "source": [
    "**Hadamards ratio**   \n",
    "$\\mathcal{H}(\\mathcal{B}) = \\left( \\frac{\\det L}{||v_1||*\\dots*||v_n||} \\right) ^{1/n} \\in (0, 1]$\n",
    "\n",
    "The closest this value is to 1, the more orthogonal the vectors are"
   ]
  },
  {
   "cell_type": "code",
   "execution_count": 195,
   "metadata": {},
   "outputs": [],
   "source": [
    "### Example"
   ]
  },
  {
   "cell_type": "code",
   "execution_count": 196,
   "metadata": {},
   "outputs": [],
   "source": [
    "def hadamards_ratio(v):\n",
    "    '''vectors are columns'''\n",
    "    H = (np.abs(np.linalg.det(v)) / np.prod([np.linalg.norm(v_i) for v_i in v.T])) ** (1/v.shape[1])\n",
    "    return H"
   ]
  },
  {
   "cell_type": "code",
   "execution_count": 186,
   "metadata": {},
   "outputs": [],
   "source": [
    "v1 = np.array((137, 312)) \n",
    "v2 = np.array((215, -187))\n",
    "v = np.array([v1, v2]).T\n",
    "w= np.array((53172,81743))"
   ]
  },
  {
   "cell_type": "code",
   "execution_count": 190,
   "metadata": {},
   "outputs": [
    {
     "name": "stdout",
     "output_type": "stream",
     "text": [
      "0.9770939601963543\n"
     ]
    }
   ],
   "source": [
    "h = hadamards_ratio(v)\n",
    "print(h)"
   ]
  },
  {
   "cell_type": "code",
   "execution_count": 135,
   "metadata": {},
   "outputs": [
    {
     "name": "stdout",
     "output_type": "stream",
     "text": [
      "296.8522745660687 58.15459713697019\n"
     ]
    }
   ],
   "source": [
    "#solve w = t1v1 + t2v2\n",
    "t = np.linalg.solve(v, w)\n",
    "print(t1, t2)"
   ]
  },
  {
   "cell_type": "code",
   "execution_count": 136,
   "metadata": {},
   "outputs": [
    {
     "data": {
      "text/plain": [
       "array([53172., 81743.])"
      ]
     },
     "execution_count": 136,
     "metadata": {},
     "output_type": "execute_result"
    }
   ],
   "source": [
    "v @ t"
   ]
  },
  {
   "cell_type": "code",
   "execution_count": 197,
   "metadata": {},
   "outputs": [],
   "source": [
    "def babai(v, w):\n",
    "    '''Vectors must be columns'''\n",
    "    t = np.linalg.solve(v, w)\n",
    "    assert np.all(np.round(v @ t) == w)\n",
    "    t_round = np.round(t)\n",
    "    cv = v @ t_round\n",
    "    return cv\n",
    "    "
   ]
  },
  {
   "cell_type": "code",
   "execution_count": 210,
   "metadata": {},
   "outputs": [
    {
     "name": "stdout",
     "output_type": "stream",
     "text": [
      "[53159. 81818.]\n"
     ]
    }
   ],
   "source": [
    "cv = babai(v, w)\n",
    "print(cv)"
   ]
  },
  {
   "cell_type": "code",
   "execution_count": 211,
   "metadata": {},
   "outputs": [
    {
     "data": {
      "text/plain": [
       "76.11832893594026"
      ]
     },
     "execution_count": 211,
     "metadata": {},
     "output_type": "execute_result"
    }
   ],
   "source": [
    "np.linalg.norm(cv - w)"
   ]
  },
  {
   "cell_type": "code",
   "execution_count": 212,
   "metadata": {},
   "outputs": [],
   "source": [
    "### now let's try in not so orthogonal basis"
   ]
  },
  {
   "cell_type": "code",
   "execution_count": 213,
   "metadata": {},
   "outputs": [],
   "source": [
    "v1_prime = np.array((1975,438))\n",
    "v2_prime = np.array((7548,1627))\n",
    "v_prime = np.array([v1_prime, v2_prime]).T"
   ]
  },
  {
   "cell_type": "code",
   "execution_count": 214,
   "metadata": {},
   "outputs": [
    {
     "name": "stdout",
     "output_type": "stream",
     "text": [
      "0.07703608694278126\n"
     ]
    }
   ],
   "source": [
    "print(hadamards_ratio(v_prime))"
   ]
  },
  {
   "cell_type": "code",
   "execution_count": 217,
   "metadata": {},
   "outputs": [
    {
     "name": "stdout",
     "output_type": "stream",
     "text": [
      "[56405. 82444.]\n",
      "3308.124846495368\n"
     ]
    }
   ],
   "source": [
    "cv_prime = babai(v_prime, w)\n",
    "print(cv_prime)\n",
    "print(np.linalg.norm(cv_prime - w))"
   ]
  },
  {
   "cell_type": "markdown",
   "metadata": {},
   "source": [
    "# GGH Cryptosystem"
   ]
  },
  {
   "cell_type": "markdown",
   "metadata": {},
   "source": [
    "Key creation (Alice):\n",
    "* Choose a good basis $V = \\{v_1, \\dots, v_n\\}$\n",
    "* Choose integer matrix $U$ with $\\det(U) = \\pm1$\n",
    "* Compude a bad basis $W = \\{w_1, ... ,w_n\\} = UV$\n",
    "* Publish $W$\n",
    "\n",
    "Encryption (Bob):\n",
    "* choose small plaintext vector $m$\n",
    "* choose random small vector $r$\n",
    "* $e = m_1w_1 + ... + x_nw_n + r$\n",
    "* Send $e$\n",
    "\n",
    "Decryption (Alice):\n",
    "* Use Babai's algo to compute the closest vector $v\\in L$ to $e$\n",
    "* $v*W^{-1} = m$"
   ]
  },
  {
   "cell_type": "markdown",
   "metadata": {},
   "source": [
    "An alternative version of GGH reverses the roles of $m$ and $r$,so the ciphertext has the form $e=rW+m$.  \n",
    "Alice finds $rW$ by computing the lattice vector closest to $e$, and then she recovers the plaintext as $m=e−rW$"
   ]
  },
  {
   "cell_type": "code",
   "execution_count": 203,
   "metadata": {},
   "outputs": [],
   "source": [
    "def GGH_key_creation(d, n):\n",
    "    '''\n",
    "    d = parameter to compute the good base,\n",
    "    n =dimension\n",
    "    vectors are columns\n",
    "    '''\n",
    "    #creating the good base V\n",
    "    while True:\n",
    "        V = np.array([np.random.randint(-d, d, n) for _ in range(n)]).T\n",
    "        if hadamards_ratio(V) > .95:\n",
    "            break\n",
    "            \n",
    "    #creating U; \n",
    "    #U can be a random product of elementary matrices\n",
    "    #U is a product of two triangular matrices with diagonals +-1 \n",
    "    while True:\n",
    "        l = np.tril(np.random.randint(-d, d, size=(n,n)))\n",
    "        u = np.triu(np.random.randint(-d, d, size=(n,n)))\n",
    "        for i in range(0, n):\n",
    "            l[i, i] = np.random.choice([-1, 1])\n",
    "            u[i, i] = np.random.choice([-1, 1])\n",
    "        U = u @ l\n",
    "        W = V @ U\n",
    "        if hadamards_ratio(W) < .02:\n",
    "            break\n",
    "    return V, W\n",
    "        \n",
    "    #random elementary operations \n",
    "    #return v\n",
    "                     \n",
    "                 "
   ]
  },
  {
   "cell_type": "code",
   "execution_count": 204,
   "metadata": {},
   "outputs": [],
   "source": [
    "v, w = GGH_key_creation(100, 3)"
   ]
  },
  {
   "cell_type": "code",
   "execution_count": 205,
   "metadata": {},
   "outputs": [
    {
     "data": {
      "text/plain": [
       "(0.9699032801518386, 0.0008539653760172945)"
      ]
     },
     "execution_count": 205,
     "metadata": {},
     "output_type": "execute_result"
    }
   ],
   "source": [
    "hadamards_ratio(v), hadamards_ratio(w)"
   ]
  },
  {
   "cell_type": "code",
   "execution_count": 206,
   "metadata": {},
   "outputs": [],
   "source": [
    "def GGH_encryption(m, w):\n",
    "    r = np.random.randint(10, size = len(m))\n",
    "    e = w.dot(m) + r\n",
    "    return e"
   ]
  },
  {
   "cell_type": "code",
   "execution_count": 207,
   "metadata": {},
   "outputs": [],
   "source": [
    "m = np.array((100, 200, 300))"
   ]
  },
  {
   "cell_type": "code",
   "execution_count": 208,
   "metadata": {},
   "outputs": [],
   "source": [
    "e = GGH_encryption(m, w)"
   ]
  },
  {
   "cell_type": "code",
   "execution_count": 209,
   "metadata": {},
   "outputs": [],
   "source": [
    "def GGH_decryption(v, w, e):\n",
    "    cv = babai(v, e)\n",
    "    #print(cv)\n",
    "    return np.round(np.linalg.inv(w) @ cv).astype(int)\n",
    "    "
   ]
  },
  {
   "cell_type": "code",
   "execution_count": 210,
   "metadata": {},
   "outputs": [],
   "source": [
    "m_decr = GGH_decryption(v, w, e)"
   ]
  },
  {
   "cell_type": "code",
   "execution_count": 211,
   "metadata": {},
   "outputs": [
    {
     "data": {
      "text/plain": [
       "(array([100, 200, 300]), array([ True,  True,  True]))"
      ]
     },
     "execution_count": 211,
     "metadata": {},
     "output_type": "execute_result"
    }
   ],
   "source": [
    "m_decr, m_decr == m"
   ]
  },
  {
   "cell_type": "code",
   "execution_count": 488,
   "metadata": {},
   "outputs": [],
   "source": [
    "#Suppose Eve wanted to break it"
   ]
  },
  {
   "cell_type": "code",
   "execution_count": 489,
   "metadata": {},
   "outputs": [],
   "source": [
    "eve_decr = GGH_decryption(w, w, e) #Eve has acces only to W"
   ]
  },
  {
   "cell_type": "code",
   "execution_count": 490,
   "metadata": {},
   "outputs": [
    {
     "data": {
      "text/plain": [
       "array([   -30,  11765, 680060])"
      ]
     },
     "execution_count": 490,
     "metadata": {},
     "output_type": "execute_result"
    }
   ],
   "source": [
    "eve_decr"
   ]
  },
  {
   "cell_type": "code",
   "execution_count": 491,
   "metadata": {},
   "outputs": [],
   "source": [
    "#Lets look at how close they are"
   ]
  },
  {
   "cell_type": "code",
   "execution_count": 494,
   "metadata": {},
   "outputs": [
    {
     "data": {
      "text/plain": [
       "(5.0990195135927845, 150012.22393858442)"
      ]
     },
     "execution_count": 494,
     "metadata": {},
     "output_type": "execute_result"
    }
   ],
   "source": [
    "np.linalg.norm(e - babai(v, e)), np.linalg.norm(e - babai(w, e)) #big difference"
   ]
  },
  {
   "cell_type": "markdown",
   "metadata": {},
   "source": [
    "# GO TO THE SAGE NB FOR NTRU ENCRYPT"
   ]
  },
  {
   "cell_type": "markdown",
   "metadata": {},
   "source": [
    "and come back when you're told"
   ]
  },
  {
   "cell_type": "markdown",
   "metadata": {},
   "source": [
    "# Breaking stuff"
   ]
  },
  {
   "cell_type": "markdown",
   "metadata": {},
   "source": [
    "we remake the algorithms in python"
   ]
  },
  {
   "cell_type": "code",
   "execution_count": 100,
   "metadata": {},
   "outputs": [],
   "source": [
    "def gram_s(v):\n",
    "    v = v.copy()\n",
    "    n = v.shape[0]\n",
    "    m = v.shape[1]\n",
    "    v_s = np.zeros((n, m), dtype = object)\n",
    "    mu = np.zeros((n, m), dtype = object)\n",
    "    v_s[0] = v[0]\n",
    "    for i in range(1, n):\n",
    "        for j in range(i):\n",
    "            mu[i, j] = v[i].dot(v_s[j]) / v_s[j].dot(v_s[j])\n",
    "        v_s[i] = v[i] - sum([mu[i,j] * v_s[j] for j in range(0, i)])\n",
    "        \n",
    "    return v_s, mu\n",
    "        "
   ]
  },
  {
   "cell_type": "code",
   "execution_count": 101,
   "metadata": {},
   "outputs": [],
   "source": [
    "v1=np.array((1,3,2))\n",
    "v2=np.array((4,1,-2))\n",
    "v3=np.array((2,1,3))\n",
    "v = np.array((v1, v2, v3))"
   ]
  },
  {
   "cell_type": "code",
   "execution_count": 102,
   "metadata": {},
   "outputs": [
    {
     "data": {
      "text/plain": [
       "(array([[1, 3, 2],\n",
       "        [3.7857142857142856, 0.3571428571428572, -2.4285714285714284],\n",
       "        [1.094736842105263, -1.3684210526315792, 1.505263157894737]],\n",
       "       dtype=object),\n",
       " array([[0, 0, 0],\n",
       "        [0.21428571428571427, 0, 0],\n",
       "        [0.7857142857142857, 0.03157894736842112, 0]], dtype=object))"
      ]
     },
     "execution_count": 102,
     "metadata": {},
     "output_type": "execute_result"
    }
   ],
   "source": [
    "v_s, mu = gram_s(v)\n",
    "v_s, mu"
   ]
  },
  {
   "cell_type": "code",
   "execution_count": 103,
   "metadata": {},
   "outputs": [],
   "source": [
    "def gaussian_lattice_reduction(v1, v2):\n",
    "    while True:\n",
    "        if v2.dot(v2) < v1.dot(v1):\n",
    "            v1, v2 = v2, v1\n",
    "        #print(v1.dot(v2), v1.dot(v1))\n",
    "        m = np.round(v1.dot(v2) / v1.dot(v1))\n",
    "        if m == 0:\n",
    "            return v1, v2\n",
    "        v2 = v2 - m*v1   "
   ]
  },
  {
   "cell_type": "code",
   "execution_count": 104,
   "metadata": {},
   "outputs": [
    {
     "data": {
      "text/plain": [
       "(array([ 2280., -1001.]), array([-1324., -2376.]))"
      ]
     },
     "execution_count": 104,
     "metadata": {},
     "output_type": "execute_result"
    }
   ],
   "source": [
    "v1= np.array((66586820,65354729), dtype = np.ulonglong)\n",
    "v2= np.array((6513996,6393464), dtype = np.ulonglong)\n",
    "\n",
    "gaussian_lattice_reduction(v1,v2)"
   ]
  },
  {
   "cell_type": "code",
   "execution_count": 137,
   "metadata": {},
   "outputs": [],
   "source": [
    "def lenstra_lenstra_lovasz(v):    \n",
    "    v = v.copy()\n",
    "    n = v.shape[0]\n",
    "    v_s, mu= gram_s(v)\n",
    "    k = 1\n",
    "    while k < n:\n",
    "        for j in range(k-1, -1, -1):\n",
    "            #size condition\n",
    "            if abs(mu[k, j]) > 1/2:\n",
    "                v[k] = v[k] - np.round(mu[k, j]) * v[j]\n",
    "                v_s, mu= gram_s(v)\n",
    "        \n",
    "        #print(v_s)\n",
    "        #Lovasz condition\n",
    "        if np.linalg.norm(v_s[k])**2 > (3/4 - np.round(mu[k, k-1])**2) * np.linalg.norm(v_s[k-1])**2 :\n",
    "            k = k+1\n",
    "        else:\n",
    "            v[k-1], v[k] = v[k].copy(), v[k-1].copy() #holy shit I lost 1 hour because I forgot to copy here\n",
    "            v_s, mu= gram_s(v)\n",
    "            k = max(k-1, 1)\n",
    "    return v"
   ]
  },
  {
   "cell_type": "code",
   "execution_count": 138,
   "metadata": {},
   "outputs": [
    {
     "name": "stdout",
     "output_type": "stream",
     "text": [
      "[[-7.0 12.0 8.0 -4.0 -19.0 -9.0]\n",
      " [-20.0 4.0 -9.0 16.0 13.0 16.0]\n",
      " [6.0 7.0 20.0 21.0 -8.0 12.0]\n",
      " [-28.0 11.0 12.0 -9.0 17.0 -14.0]\n",
      " [-10.0 -24.0 21.0 -15.0 -6.0 -11.0]\n",
      " [-7.0 -4.0 9.0 11.0 -1.0 -31.0]]\n"
     ]
    }
   ],
   "source": [
    "#dtype object for large numbers\n",
    "M = np.array([\n",
    "    [19, 2,32, 46, 3, 33],\n",
    "    [15, 42, 11,  0,  3, 24],\n",
    "    [43, 15,  0, 24,  4, 16], \n",
    "    [20, 44, 44,  0, 18, 15], \n",
    "    [0, 48 ,35, 16, 31, 31], \n",
    "    [48, 33, 32, 9, 1, 29]\n",
    "], dtype = object)\n",
    "\n",
    "M_lll = lenstra_lenstra_lovasz(M)\n",
    "print(M_lll)"
   ]
  },
  {
   "cell_type": "markdown",
   "metadata": {},
   "source": [
    "\n",
    "## congruential"
   ]
  },
  {
   "cell_type": "markdown",
   "metadata": {},
   "source": [
    "$v_1 = [1, h], v_2 = [0, q]$"
   ]
  },
  {
   "cell_type": "code",
   "execution_count": 146,
   "metadata": {},
   "outputs": [
    {
     "name": "stdout",
     "output_type": "stream",
     "text": [
      "[-231231.0 -195698.0] [-368222.0 217835.0]\n"
     ]
    }
   ],
   "source": [
    "(q, h), (f, g) = make_keys()\n",
    "\n",
    "v1 = np.array([1, h],dtype = object)\n",
    "v2 = np.array([0, q], dtype = object)\n",
    "vs1, vs2 = gaussian_lattice_reduction(v1, v2)\n",
    "print(vs1, vs2)"
   ]
  },
  {
   "cell_type": "code",
   "execution_count": 148,
   "metadata": {},
   "outputs": [
    {
     "data": {
      "text/plain": [
       "(True, True)"
      ]
     },
     "execution_count": 148,
     "metadata": {},
     "output_type": "execute_result"
    }
   ],
   "source": [
    "f == -vs1[0], g ==-vs1[1]"
   ]
  },
  {
   "cell_type": "markdown",
   "metadata": {},
   "source": [
    "## Knapsacks"
   ]
  },
  {
   "cell_type": "code",
   "execution_count": 169,
   "metadata": {},
   "outputs": [],
   "source": [
    "list_M = [89,243,212,150,245, 546]\n",
    "n = len(list_M)\n",
    "S = 546"
   ]
  },
  {
   "cell_type": "code",
   "execution_count": 170,
   "metadata": {},
   "outputs": [],
   "source": [
    "A_ms = np.zeros((n, n))\n",
    "for i in range(n):\n",
    "    A_ms[i, i] = 2\n",
    "    A_ms[n-1, i] = 1\n",
    "    A_ms[i, n-1] = list_M[i]"
   ]
  },
  {
   "cell_type": "code",
   "execution_count": 171,
   "metadata": {},
   "outputs": [
    {
     "data": {
      "text/plain": [
       "array([[  2.,   0.,   0.,   0.,   0.,  89.],\n",
       "       [  0.,   2.,   0.,   0.,   0., 243.],\n",
       "       [  0.,   0.,   2.,   0.,   0., 212.],\n",
       "       [  0.,   0.,   0.,   2.,   0., 150.],\n",
       "       [  0.,   0.,   0.,   0.,   2., 245.],\n",
       "       [  1.,   1.,   1.,   1.,   1., 546.]])"
      ]
     },
     "execution_count": 171,
     "metadata": {},
     "output_type": "execute_result"
    }
   ],
   "source": [
    "A_ms"
   ]
  },
  {
   "cell_type": "code",
   "execution_count": 184,
   "metadata": {},
   "outputs": [],
   "source": [
    "A_ms_lll = lenstra_lenstra_lovasz(A_ms)"
   ]
  },
  {
   "cell_type": "code",
   "execution_count": 185,
   "metadata": {},
   "outputs": [
    {
     "data": {
      "text/plain": [
       "array([[-1.,  1., -1.,  1., -1.,  0.],\n",
       "       [ 1., -1., -1.,  1., -1., -1.],\n",
       "       [-1., -1., -1.,  1.,  1.,  2.],\n",
       "       [-1.,  1.,  1.,  1.,  1., -2.],\n",
       "       [-2., -2.,  4.,  0., -2.,  0.],\n",
       "       [-6., -4., -6., -6.,  0., -3.]])"
      ]
     },
     "execution_count": 185,
     "metadata": {},
     "output_type": "execute_result"
    }
   ],
   "source": [
    "A_ms_lll"
   ]
  },
  {
   "cell_type": "code",
   "execution_count": 192,
   "metadata": {},
   "outputs": [
    {
     "name": "stdout",
     "output_type": "stream",
     "text": [
      "first vector [-1.  1. -1.  1. -1.  0.]\n",
      "solution [-1. -0. -1. -0. -1.  1.]\n",
      "0.0\n"
     ]
    }
   ],
   "source": [
    "v0 = A_ms_lll[0]\n",
    "print('first vector', v0)\n",
    "sol = np.round(np.linalg.solve(A_ms.T, v0))\n",
    "print('solution', sol)\n",
    "print(sum(sol * list_M)) #m = first n-1 terms\n"
   ]
  },
  {
   "cell_type": "markdown",
   "metadata": {},
   "source": [
    "## GGH"
   ]
  },
  {
   "cell_type": "code",
   "execution_count": 234,
   "metadata": {},
   "outputs": [],
   "source": [
    "#we use column vectors but I implemented LLL with row vectors so we transpose a bit"
   ]
  },
  {
   "cell_type": "code",
   "execution_count": 239,
   "metadata": {},
   "outputs": [],
   "source": [
    "v, w = GGH_key_creation(100, 3)\n",
    "m = np.array((100, 200, 300))\n",
    "e = GGH_encryption(m, w)\n",
    "m_decr = GGH_decryption(v, w, e)"
   ]
  },
  {
   "cell_type": "code",
   "execution_count": 240,
   "metadata": {},
   "outputs": [
    {
     "data": {
      "text/plain": [
       "(0.9873949128769718, 0.0006318179859544252)"
      ]
     },
     "execution_count": 240,
     "metadata": {},
     "output_type": "execute_result"
    }
   ],
   "source": [
    "hadamards_ratio(v), hadamards_ratio(w)"
   ]
  },
  {
   "cell_type": "code",
   "execution_count": 241,
   "metadata": {},
   "outputs": [],
   "source": [
    "w_lll = lenstra_lenstra_lovasz(w.T).T #transpose for row, w_lll will be row so we transpose again"
   ]
  },
  {
   "cell_type": "code",
   "execution_count": 242,
   "metadata": {},
   "outputs": [
    {
     "data": {
      "text/plain": [
       "0.9873949128769718"
      ]
     },
     "execution_count": 242,
     "metadata": {},
     "output_type": "execute_result"
    }
   ],
   "source": [
    "hadamards_ratio(w_lll)"
   ]
  },
  {
   "cell_type": "code",
   "execution_count": 243,
   "metadata": {},
   "outputs": [
    {
     "data": {
      "text/plain": [
       "array([ 3.940190e+07,  1.409665e+08, -9.799310e+07])"
      ]
     },
     "execution_count": 243,
     "metadata": {},
     "output_type": "execute_result"
    }
   ],
   "source": [
    "cv = babai(w_lll, e)\n",
    "cv"
   ]
  },
  {
   "cell_type": "code",
   "execution_count": 247,
   "metadata": {},
   "outputs": [
    {
     "name": "stdout",
     "output_type": "stream",
     "text": [
      "[100. 200. 300.]\n",
      "[ True  True  True]\n"
     ]
    }
   ],
   "source": [
    "m_eve = np.round(np.linalg.solve(w, cv))\n",
    "print(m_eve)\n",
    "print(m_eve == m)"
   ]
  },
  {
   "cell_type": "markdown",
   "metadata": {},
   "source": [
    "# GO TO THE SAGE NB FOR NTRU "
   ]
  },
  {
   "cell_type": "markdown",
   "metadata": {},
   "source": [
    "# TO DO \n",
    "* Efficient LLL\n",
    "* Babai's closest plane\n",
    "* NTRUDSA"
   ]
  },
  {
   "cell_type": "code",
   "execution_count": null,
   "metadata": {},
   "outputs": [],
   "source": []
  }
 ],
 "metadata": {
  "kernelspec": {
   "display_name": "Python 3",
   "language": "python",
   "name": "python3"
  },
  "language_info": {
   "codemirror_mode": {
    "name": "ipython",
    "version": 3
   },
   "file_extension": ".py",
   "mimetype": "text/x-python",
   "name": "python",
   "nbconvert_exporter": "python",
   "pygments_lexer": "ipython3",
   "version": "3.7.6"
  }
 },
 "nbformat": 4,
 "nbformat_minor": 4
}
