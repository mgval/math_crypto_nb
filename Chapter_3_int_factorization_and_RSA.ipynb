{
 "cells": [
  {
   "cell_type": "code",
   "execution_count": 1,
   "metadata": {},
   "outputs": [],
   "source": [
    "import numpy as np\n",
    "import math\n",
    "from Crypto.Util.number import getPrime, inverse, bytes_to_long, long_to_bytes\n",
    "import random"
   ]
  },
  {
   "cell_type": "code",
   "execution_count": 2,
   "metadata": {},
   "outputs": [],
   "source": [
    "def gcd(a, b):\n",
    "    if b == 0:\n",
    "        return a\n",
    "    else:\n",
    "        return gcd(b, a%b)"
   ]
  },
  {
   "cell_type": "markdown",
   "metadata": {},
   "source": [
    "# Integer factiorization "
   ]
  },
  {
   "cell_type": "markdown",
   "metadata": {},
   "source": [
    "**Euler’s Formula for $pq$.**  \n",
    "Let $p$ and $q$ be distinct primes and let $g = gcd(p − 1, q − 1)$. Then  \n",
    "$a^{(p−1)(q−1)/g} ≡ 1 \\ (mod \\ pq)$ for all $a$ satisfying $gcd(a, pq) = 1$.\n",
    "\n",
    "In particular, if $p$ and $q$ are odd primes, then  \n",
    "$a^{(p−1)(q−1)/2} ≡ 1 \\ (mod \\ pq)$ for all $a$ satisfying $gcd(a, pq) = 1$."
   ]
  },
  {
   "cell_type": "markdown",
   "metadata": {},
   "source": [
    "Let $p$ be a prime and let $e ≥ 1$ be an integer satisfying\n",
    "$gcd(e, p−1) = 1$. $e$ has an inverse modulo $p − 1$, say  \n",
    "$de ≡ 1 \\ (mod \\ p − 1)$.  \n",
    "Then the congruence\n",
    "$x^e ≡ c \\ (mod \\ p)$  \n",
    "has the unique solution $x ≡ c^d \\ (mod \\ p)$."
   ]
  },
  {
   "cell_type": "markdown",
   "metadata": {},
   "source": [
    "Let p, q be distinct primes and let e ≥ 1 be an integer satisfying\n",
    "$gcd(e, (p−1)(q-1)) = 1$. e has an inverse modulo (p − 1)(q-1), say  \n",
    "$de ≡ 1 \\ (mod \\ (p − 1)(q-1))$.  \n",
    "Then the congruence\n",
    "$x^e ≡ c \\ (mod \\ pq)$  \n",
    "has the unique solution $x ≡ c^d \\ (mod \\ pq)$."
   ]
  },
  {
   "cell_type": "markdown",
   "metadata": {},
   "source": [
    "# RSA "
   ]
  },
  {
   "cell_type": "code",
   "execution_count": 3,
   "metadata": {},
   "outputs": [],
   "source": [
    "def create_key_rsa(p, q, e):\n",
    "    assert gcd(e, (p-1)*(q-1)) == 1\n",
    "    N = p*q\n",
    "    return N, e\n",
    "def encrypt_rsa(m):\n",
    "    assert m < N\n",
    "    c = pow(m, e, N)\n",
    "    return c\n",
    "def decrypt_rsa(c, p, q, e, N):\n",
    "    d = inverse(e, (p-1)*(q-1))\n",
    "    assert (d * e) % ((p-1)*(q-1)) == 1\n",
    "    m = pow(c, d, N)\n",
    "    return m"
   ]
  },
  {
   "cell_type": "code",
   "execution_count": 4,
   "metadata": {},
   "outputs": [
    {
     "data": {
      "text/plain": [
       "(2430101, 948047)"
      ]
     },
     "execution_count": 4,
     "metadata": {},
     "output_type": "execute_result"
    }
   ],
   "source": [
    "p = 1223\n",
    "q = 1987\n",
    "e = 948047\n",
    "N, e = create_key_rsa(p, q, e)\n",
    "N, e"
   ]
  },
  {
   "cell_type": "code",
   "execution_count": 5,
   "metadata": {},
   "outputs": [
    {
     "data": {
      "text/plain": [
       "1850200"
      ]
     },
     "execution_count": 5,
     "metadata": {},
     "output_type": "execute_result"
    }
   ],
   "source": [
    "m = b'se'\n",
    "#m = 1070777\n",
    "m = bytes_to_long(m)\n",
    "c = encrypt_rsa(m)\n",
    "c"
   ]
  },
  {
   "cell_type": "code",
   "execution_count": 6,
   "metadata": {},
   "outputs": [
    {
     "data": {
      "text/plain": [
       "b'se'"
      ]
     },
     "execution_count": 6,
     "metadata": {},
     "output_type": "execute_result"
    }
   ],
   "source": [
    "long_to_bytes(decrypt_rsa(c, p,q, e, N))"
   ]
  },
  {
   "cell_type": "markdown",
   "metadata": {},
   "source": [
    "# Primality and factorization"
   ]
  },
  {
   "cell_type": "markdown",
   "metadata": {},
   "source": [
    "**The Prime Number Theorem**  \n",
    "$\\lim_{X→∞}{\\cfrac{π(X)} {X/ ln(X)} = 1}$.\n",
    "\n",
    "A randomly chosen number N has\n",
    "probability $\\frac 1 {ln(N)}$ of being prime."
   ]
  },
  {
   "cell_type": "markdown",
   "metadata": {},
   "source": [
    "## Primality testing"
   ]
  },
  {
   "cell_type": "markdown",
   "metadata": {},
   "source": [
    "**Definition**  \n",
    "Fix an integer $n$. We say that an integer $a$ is a **witness** for (the compositeness of) $n$ if \n",
    "* $a^n \\not\\equiv a(mod \\ n)$\n",
    "\n",
    "Idea : Fermat's theorem says that if $p$ is prime then $a^p \\equiv a (mod \\ p)$. So we negate it\n",
    "\n",
    "Remark: $\\exists n$ s.t $n$ is composite and $a ^ n \\equiv a (mod \\ n)$  \n",
    "Ex: $561 = 3 * 11 * 17$ and $561$ has no witnesses"
   ]
  },
  {
   "cell_type": "markdown",
   "metadata": {},
   "source": [
    "### Miller Rabin test"
   ]
  },
  {
   "cell_type": "markdown",
   "metadata": {},
   "source": [
    "Let $p$ be an odd prime and write $p−1=2^kq$ with $q$ odd.Let $a$ be any number NOT divisible by $p$. Then one of the following two conditions is true:\n",
    "* $a^q \\equiv 1 (mod \\ p)$\n",
    "* One of $a^q,a^{2q},a^{4q},...,a^{2^{k−1}q}$ is congruent to −1 modulo p."
   ]
  },
  {
   "cell_type": "markdown",
   "metadata": {},
   "source": [
    "https://en.wikipedia.org/wiki/Miller%E2%80%93Rabin_primality_test"
   ]
  },
  {
   "cell_type": "code",
   "execution_count": 53,
   "metadata": {},
   "outputs": [],
   "source": [
    "def miller_rabin(n, bound):\n",
    "    '''returns Composite or Probably prime'''\n",
    "    \n",
    "    #check parity\n",
    "    if not n & 1:\n",
    "        return 'Composite'\n",
    "    \n",
    "    k = 0\n",
    "    q = n-1\n",
    "    while not q & 1:\n",
    "        q = q>>1\n",
    "        k+=1\n",
    "    assert(pow(2, k)* q == n-1)\n",
    "    \n",
    "    for i in range(bound):\n",
    "        #print(i)\n",
    "        a = random.randint(2, n-2)\n",
    "        x = pow(a, q, n)\n",
    "        if x == 1 or x == n-1:\n",
    "            continue\n",
    "        for _ in range(q-1):\n",
    "            x = pow(x, 2, n)\n",
    "            if x == n-1:\n",
    "                continue\n",
    "        return \"Composite\"\n",
    "    return \"Probably prime\"\n",
    "    "
   ]
  },
  {
   "cell_type": "code",
   "execution_count": 54,
   "metadata": {},
   "outputs": [
    {
     "name": "stdout",
     "output_type": "stream",
     "text": [
      "0\n"
     ]
    },
    {
     "data": {
      "text/plain": [
       "'Composite'"
      ]
     },
     "execution_count": 54,
     "metadata": {},
     "output_type": "execute_result"
    }
   ],
   "source": [
    "miller_rabin(561, 20)"
   ]
  },
  {
   "cell_type": "code",
   "execution_count": 55,
   "metadata": {},
   "outputs": [
    {
     "name": "stdout",
     "output_type": "stream",
     "text": [
      "0\n",
      "1\n"
     ]
    },
    {
     "data": {
      "text/plain": [
       "'Composite'"
      ]
     },
     "execution_count": 55,
     "metadata": {},
     "output_type": "execute_result"
    }
   ],
   "source": [
    "miller_rabin(172947529, 20)"
   ]
  },
  {
   "cell_type": "markdown",
   "metadata": {},
   "source": [
    "Remark:  For a certain bound, there is a deterministic version"
   ]
  },
  {
   "cell_type": "markdown",
   "metadata": {},
   "source": [
    "## Pollard p-1 factoring algorithm"
   ]
  },
  {
   "cell_type": "markdown",
   "metadata": {},
   "source": [
    "We are presented with a number $N = pq$ and our task is to determine\n",
    "the prime factors $p$ and $q$. Suppose that by luck or hard work or some other\n",
    "method, we manage to find an integer $L$ with the property that\n",
    "\n",
    "$p − 1$ divides $L$ and $q − 1$ does not divide $L$\n",
    "\n",
    "choose random $a$\n",
    "=> $p | a^L − 1$ and $q$ does not divide $a^L − 1$ with very high probability  \n",
    "=> $p = gcd(a^L − 1, N)$.  \n",
    "\n",
    "Works if $p-1$ is a product of small primes  => $p-1$ divides $n!$ for a not so large n    \n",
    "if $gcd(a^{n!} − 1, N) != 1$ => we found a divisor of N\n",
    "\n"
   ]
  },
  {
   "cell_type": "code",
   "execution_count": 56,
   "metadata": {},
   "outputs": [],
   "source": [
    "def pollard_facto(N, B):\n",
    "    #you can choose a to be other values\n",
    "    a = 2\n",
    "    for j in range(2, B):\n",
    "        a = pow(a, j, N) #a^(n+1)! = a^(n! * (n+1))\n",
    "        d = gcd(a-1, N)\n",
    "        if 1 < d and d < N:\n",
    "            return d\n",
    "    return -1"
   ]
  },
  {
   "cell_type": "code",
   "execution_count": 57,
   "metadata": {},
   "outputs": [],
   "source": [
    "N = 13927189"
   ]
  },
  {
   "cell_type": "code",
   "execution_count": 58,
   "metadata": {},
   "outputs": [
    {
     "data": {
      "text/plain": [
       "3823"
      ]
     },
     "execution_count": 58,
     "metadata": {},
     "output_type": "execute_result"
    }
   ],
   "source": [
    "pollard_facto(N, 15)"
   ]
  },
  {
   "cell_type": "code",
   "execution_count": 59,
   "metadata": {},
   "outputs": [
    {
     "data": {
      "text/plain": [
       "350437"
      ]
     },
     "execution_count": 59,
     "metadata": {},
     "output_type": "execute_result"
    }
   ],
   "source": [
    "N = 168441398857\n",
    "pollard_facto(N, 55)"
   ]
  },
  {
   "cell_type": "markdown",
   "metadata": {},
   "source": [
    "## B smooth numbers"
   ]
  },
  {
   "cell_type": "markdown",
   "metadata": {},
   "source": [
    "**Definition**.  \n",
    "An integer n is called B-smooth if all of its prime factors are less\n",
    "than or equal to B.\n",
    "\n",
    "The function $ψ(X, B)$ counts B-smooth numbers,\n",
    "\n",
    "$ψ(X, B) =$ Number of B-smooth integers $n$ such that $1 < n ≤ X$."
   ]
  },
  {
   "cell_type": "markdown",
   "metadata": {},
   "source": [
    "Let $L(X) = e^{\\sqrt{(ln X)(ln ln X)}}$ let $N$ be a large integer, and set $B = L(N)1/√2$.  \n",
    "\n",
    "(a) We expect to check approximately $L(N)^{√2}$ random numbers modulo $N$ in order to find $π(B)$ numbers that are B-smooth.  \n",
    "\n",
    "(b) We expect to check approximately $L(N)^{√2}$ random numbers of the form $a2 \\ (mod \\ N)$ in order to find enough B-\n",
    "smooth numbers to factor N."
   ]
  },
  {
   "cell_type": "code",
   "execution_count": 8,
   "metadata": {},
   "outputs": [],
   "source": [
    "import math"
   ]
  },
  {
   "cell_type": "code",
   "execution_count": 23,
   "metadata": {},
   "outputs": [],
   "source": [
    "def check_B_smooth(X, B):\n",
    "    biggest_fact = -1\n",
    "    if X ==1 :\n",
    "        return True\n",
    "    \n",
    "    #check for 2\n",
    "    while(X % 2 == 0):\n",
    "        biggest_fact = max(biggest_fact, 2)\n",
    "        X = int(X/2)\n",
    "        \n",
    "    #check for the res\n",
    "    for i in range(3, int(math.sqrt(X))+1, 2):\n",
    "        while(X % i == 0):\n",
    "            biggest_fact = max(biggest_fact, i)\n",
    "            X = int(X/i)\n",
    "    \n",
    "    #if X_end is prime then X_end divides X\n",
    "    if(X>2):\n",
    "        biggest_fact = max(biggest_fact, X)\n",
    "        \n",
    "    return biggest_fact <= B\n",
    "\n"
   ]
  },
  {
   "cell_type": "code",
   "execution_count": 24,
   "metadata": {},
   "outputs": [
    {
     "data": {
      "text/plain": [
       "True"
      ]
     },
     "execution_count": 24,
     "metadata": {},
     "output_type": "execute_result"
    }
   ],
   "source": [
    "check_B_smooth(24, 5)"
   ]
  },
  {
   "cell_type": "code",
   "execution_count": 25,
   "metadata": {},
   "outputs": [],
   "source": [
    "d = {}\n",
    "B = 5\n",
    "for i in range(1, 25):\n",
    "    d[str(i)] = check_B_smooth(i, B)"
   ]
  },
  {
   "cell_type": "code",
   "execution_count": 26,
   "metadata": {},
   "outputs": [
    {
     "data": {
      "text/plain": [
       "{'1': True,\n",
       " '2': True,\n",
       " '3': True,\n",
       " '4': True,\n",
       " '5': True,\n",
       " '6': True,\n",
       " '7': False,\n",
       " '8': True,\n",
       " '9': True,\n",
       " '10': True,\n",
       " '11': False,\n",
       " '12': True,\n",
       " '13': False,\n",
       " '14': False,\n",
       " '15': True,\n",
       " '16': True,\n",
       " '17': False,\n",
       " '18': True,\n",
       " '19': False,\n",
       " '20': True,\n",
       " '21': False,\n",
       " '22': False,\n",
       " '23': False,\n",
       " '24': True}"
      ]
     },
     "execution_count": 26,
     "metadata": {},
     "output_type": "execute_result"
    }
   ],
   "source": [
    "d"
   ]
  },
  {
   "cell_type": "markdown",
   "metadata": {},
   "source": [
    "# TO DO : index calculus method, factorization via difference of squares, sieves"
   ]
  },
  {
   "cell_type": "code",
   "execution_count": 1,
   "metadata": {},
   "outputs": [],
   "source": [
    "def index_calculus_method():\n",
    "    pass"
   ]
  },
  {
   "cell_type": "markdown",
   "metadata": {},
   "source": [
    "# Quadratic residues"
   ]
  },
  {
   "cell_type": "markdown",
   "metadata": {},
   "source": [
    "**Definition**  \n",
    "We say that $a$ is a quadratic residue modulo $p$ if $a$ is a square modulo $p$ i.e.   \n",
    "$\\exists c$ s.t $c^2≡a(mod\\ p)$"
   ]
  },
  {
   "cell_type": "markdown",
   "metadata": {},
   "source": [
    "**Prop**  \n",
    "Let $p$ be an odd prime number.\n",
    "* QR·QR=QR mod p\n",
    "* QR·NR=NR mod p\n",
    "* NR·NR=QR mod p"
   ]
  },
  {
   "cell_type": "markdown",
   "metadata": {},
   "source": [
    "$\\left( \\cfrac{a}{p} \\right) =$ Legendre symbol $=  \n",
    "\\left\\{\\begin{align*} \n",
    "&1 \\  \\text{if a is a quadratic residue} \\ mod p,  \\\\\n",
    "&-1 \\ \\text{if a is a quadratic nonresidue} \\ mod p, \\\\  \n",
    "&0 \\ \\text{if} \\ p | a  \n",
    "\\end{align*}\n",
    "\\right.\n",
    "$\n"
   ]
  },
  {
   "cell_type": "markdown",
   "metadata": {},
   "source": [
    "$\\left\\{\\right\\}$"
   ]
  },
  {
   "cell_type": "markdown",
   "metadata": {},
   "source": [
    "## Goldwasser-Micali"
   ]
  },
  {
   "cell_type": "markdown",
   "metadata": {},
   "source": [
    "**Problem**: \n",
    "Let $p$ and $q$ be (secret) prime numbers and let $N=pq$ be given. For a given integer $a$, determine whether $a$ is a square modulo $N$, i.e., determine whether there exists an integer $u$ satisfying $u^2≡a(mod\\ N)$."
   ]
  },
  {
   "cell_type": "markdown",
   "metadata": {},
   "source": [
    "Key creation:\n",
    "* choose secret primes $p, q$\n",
    "* choose $a$ with $(\\frac a p) = (\\frac a q) = -1$\n",
    "* Publish $N = pq$ and $a$\n",
    "\n",
    "Encryption:\n",
    "* Choose plaintext $m \\in \\{0, 1\\}$\n",
    "* Choose random $r$ with $1<r<N$\n",
    "* compute $c = \n",
    "\\left\\{\n",
    "\\begin{align*}\n",
    "&r^2 mod \\ N \\text{if} \\ m = 0 \\\\\n",
    "&ar^2 mod \\ N \\text{if} \\ m = 1 \n",
    "\\end{align*}\n",
    "\\right.\n",
    "$\n",
    "* return $c$\n",
    "\n",
    "Decryption: \n",
    "* $m = \n",
    "\\left\\{\n",
    "\\begin{align*}\n",
    "&0 \\ \\text{if} \\ \\left(\\frac c p \\right) = 1\\\\\n",
    "&1 \\  \\text{if} \\ \\left(\\frac c p\\right) = 0\n",
    "\\end{align*}\n",
    "\\right.\n",
    "$\n",
    "\n",
    "*Proof*\n",
    "\n",
    "$\\left(\\frac c p \\right) = \n",
    "\\left\\{\n",
    "\\begin{align*}\n",
    "&\\left( \\frac {r^2} p \\right) = \\left( \\frac r p  \\right)^2 = 1 \\ \\text{if} m = 0 \\\\\n",
    "&\\left( \\frac {ar^2} p \\right) = \\left( \\frac a p  \\right) \\left( \\frac r p  \\right)^2 = \\left( \\frac a p  \\right) = -1 \\ \\text{if} m = 1 \\\\\n",
    "\\end{align*}\n",
    "\\right.\n",
    "$\n",
    "\n",
    "*Disadvantages*: 1 bit at a time => slow af"
   ]
  },
  {
   "cell_type": "code",
   "execution_count": 18,
   "metadata": {},
   "outputs": [],
   "source": [
    "def legendre_symbol(a, p):\n",
    "    return pow(a, (p-1)//2, p)"
   ]
  },
  {
   "cell_type": "code",
   "execution_count": 27,
   "metadata": {},
   "outputs": [],
   "source": [
    "def create_key():\n",
    "    p = getPrime(128)\n",
    "    q = getPrime(128)\n",
    "    N = p*q\n",
    "    while True:\n",
    "        a = random.randint(N//4, N-1)\n",
    "        if(legendre_symbol(a, p) == p-1 and legendre_symbol(a, q) == q-1):\n",
    "            break\n",
    "    return (p, q), (N, a)\n",
    "    \n",
    "    "
   ]
  },
  {
   "cell_type": "code",
   "execution_count": 28,
   "metadata": {},
   "outputs": [],
   "source": [
    "def encrypt(m, N, a):\n",
    "    r = random.randint(2, N-1)\n",
    "    if(m == 0):\n",
    "        return pow(r, 2, N)\n",
    "    elif(m == 1):\n",
    "        return (a * pow(r, 2, N)) % N"
   ]
  },
  {
   "cell_type": "code",
   "execution_count": 31,
   "metadata": {},
   "outputs": [],
   "source": [
    "def decrypt(p, c):\n",
    "    if(legendre_symbol(c, p) == 1):\n",
    "        return 0\n",
    "    elif(legendre_symbol(c, p) == p-1):\n",
    "        return 1"
   ]
  },
  {
   "cell_type": "code",
   "execution_count": 32,
   "metadata": {},
   "outputs": [],
   "source": [
    "(p, q), (N, a) = create_key()"
   ]
  },
  {
   "cell_type": "code",
   "execution_count": 35,
   "metadata": {},
   "outputs": [],
   "source": [
    "c = encrypt(1, N, a)"
   ]
  },
  {
   "cell_type": "code",
   "execution_count": 36,
   "metadata": {},
   "outputs": [
    {
     "data": {
      "text/plain": [
       "1"
      ]
     },
     "execution_count": 36,
     "metadata": {},
     "output_type": "execute_result"
    }
   ],
   "source": [
    "decrypt(p, c)"
   ]
  },
  {
   "cell_type": "code",
   "execution_count": null,
   "metadata": {},
   "outputs": [],
   "source": []
  }
 ],
 "metadata": {
  "kernelspec": {
   "display_name": "Python 3",
   "language": "python",
   "name": "python3"
  },
  "language_info": {
   "codemirror_mode": {
    "name": "ipython",
    "version": 3
   },
   "file_extension": ".py",
   "mimetype": "text/x-python",
   "name": "python",
   "nbconvert_exporter": "python",
   "pygments_lexer": "ipython3",
   "version": "3.7.6"
  }
 },
 "nbformat": 4,
 "nbformat_minor": 2
}
