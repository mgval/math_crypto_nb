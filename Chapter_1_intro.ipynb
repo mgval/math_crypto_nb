{
 "cells": [
  {
   "cell_type": "code",
   "execution_count": 1,
   "metadata": {},
   "outputs": [],
   "source": [
    "import numpy as np\n",
    "import math\n"
   ]
  },
  {
   "cell_type": "markdown",
   "metadata": {},
   "source": [
    "# Division"
   ]
  },
  {
   "cell_type": "markdown",
   "metadata": {},
   "source": [
    "## GCD\n",
    "\n",
    "$a = b * q + r; \\ 0 \\leq r < b  $  \n",
    "Propriety: $\\gcd(a, b) = \\gcd(b, r)$"
   ]
  },
  {
   "cell_type": "code",
   "execution_count": 1,
   "metadata": {},
   "outputs": [],
   "source": [
    "def gcd(a, b):\n",
    "    if b == 0:\n",
    "        return a\n",
    "    else:\n",
    "        return gcd(b, a%b)\n"
   ]
  },
  {
   "cell_type": "code",
   "execution_count": 2,
   "metadata": {},
   "outputs": [
    {
     "data": {
      "text/plain": [
       "1"
      ]
     },
     "execution_count": 2,
     "metadata": {},
     "output_type": "execute_result"
    }
   ],
   "source": [
    "p = 1223\n",
    "q = 1987\n",
    "gcd(p, q)"
   ]
  },
  {
   "cell_type": "code",
   "execution_count": 3,
   "metadata": {},
   "outputs": [
    {
     "data": {
      "text/plain": [
       "43"
      ]
     },
     "execution_count": 3,
     "metadata": {},
     "output_type": "execute_result"
    }
   ],
   "source": [
    "gcd(16534528044, 8332745927)"
   ]
  },
  {
   "cell_type": "code",
   "execution_count": 17,
   "metadata": {},
   "outputs": [],
   "source": [
    "def egcd(a, b):\n",
    "    if a == 0:\n",
    "        return (b, 0, 1)\n",
    "    else:\n",
    "        gcd, x, y = egcd(b%a, a) #compute gcd first\n",
    "        return (gcd, y - b//a *x , x)\n",
    "    "
   ]
  },
  {
   "cell_type": "code",
   "execution_count": 5,
   "metadata": {},
   "outputs": [
    {
     "data": {
      "text/plain": [
       "(43, 81440996, -161602003)"
      ]
     },
     "execution_count": 5,
     "metadata": {},
     "output_type": "execute_result"
    }
   ],
   "source": [
    "egcd(16534528044, 8332745927)"
   ]
  },
  {
   "cell_type": "code",
   "execution_count": 30,
   "metadata": {},
   "outputs": [
    {
     "data": {
      "text/plain": [
       "(17, -31, 13)"
      ]
     },
     "execution_count": 30,
     "metadata": {},
     "output_type": "execute_result"
    }
   ],
   "source": [
    "egcd(527, 1258)"
   ]
  },
  {
   "cell_type": "code",
   "execution_count": 31,
   "metadata": {},
   "outputs": [
    {
     "data": {
      "text/plain": [
       "(15, 1, 0)"
      ]
     },
     "execution_count": 31,
     "metadata": {},
     "output_type": "execute_result"
    }
   ],
   "source": [
    "egcd(15, 0)"
   ]
  },
  {
   "cell_type": "markdown",
   "metadata": {},
   "source": [
    "## relatively prime nr\n",
    "\n",
    "$ a, b \\in \\mathbb{Z} -> gcd(a, b) = 1 => a, b = coprime  $\n",
    "\n",
    "$ a \\cdot u + b \\cdot v = gcd(a, b)  => u \\cdot \\frac{a}{gcd(a, b)} + v \\cdot \\frac{b}{gcd(a, b)} = 1   $  \n",
    "where  $\\frac{a}{gcd(a, b)}\\ and\\ \\frac{b}{gcd(a, b)} $ are coprime \n"
   ]
  },
  {
   "cell_type": "markdown",
   "metadata": {},
   "source": [
    "# Modular arithmetic "
   ]
  },
  {
   "cell_type": "markdown",
   "metadata": {},
   "source": [
    "1. If $ a_1 ≡ a_2 (mod\\ m)$ and $b_1 ≡ b_2 (mod\\ m), $then\n",
    "$ a_1 ± b_1 ≡ a_2 ± b_2 (mod\\ m)\\\\\n",
    "a_1 · b_1 ≡ a_2 · b_2 (mod\\ m) $  \n",
    "2. Let  $a$ be an integer. Then $a · b ≡ 1 (mod\\ m)$ for some integer $b <=> \\gcd(a, m) = 1 $"
   ]
  },
  {
   "cell_type": "markdown",
   "metadata": {},
   "source": [
    "**Def:** We write $ \\mathbb{Z} / m \\mathbb{Z}=\\{0,1,2, \\ldots, m-1\\} $  the ring of integers modulo m "
   ]
  },
  {
   "cell_type": "markdown",
   "metadata": {},
   "source": [
    "**Def**  \n",
    "$a$ has an inverse modulo $m$ if and only if $\\operatorname{gcd}(a, m)=1 .$ Numbers that have inverses are called units. We denote the set of all units by  \n",
    "$\n",
    "(\\mathbb{Z} / m \\mathbb{Z})^{*}=\\{a \\in \\mathbb{Z} / m \\mathbb{Z}: \\operatorname{gcd}(a, m)=1\\}\n",
    "=\\{a \\in \\mathbb{Z} / m \\mathbb{Z}: a \\text { has an inverse modulo } m\\}\n",
    "$   \n",
    "The set $(\\mathbb{Z} / m \\mathbb{Z})^{*}$ is called the group of units modulo m  \n",
    "\n",
    "In many of the cryptosystems that we will study, it is important to know\n",
    "how many elements are in the unit group modulo m."
   ]
  },
  {
   "cell_type": "markdown",
   "metadata": {},
   "source": [
    "The extended Euclidean algorithm gives us an efficient computational method for computing $a^{-1}$ mod $p .$  \n",
    "We simply solve the equation $a u+p v=1 \\quad$  \n",
    "in integers $u$ and $v$\n",
    "and then $u=a^{-1}$ mod $p .$"
   ]
  },
  {
   "cell_type": "markdown",
   "metadata": {},
   "source": [
    "**Prop**  \n",
    "Let $p$ be a prime. Then every nonzero elementain $\\mathbb{Z}/p\\mathbb{Z}$ has a multiplicative inverse, that is, there is a number $b$ satisfying $ab≡1(modp)$."
   ]
  },
  {
   "cell_type": "code",
   "execution_count": 38,
   "metadata": {},
   "outputs": [],
   "source": [
    "def modinv(x, p):\n",
    "    gcd, u, v = egcd(x, p)\n",
    "    return u%p"
   ]
  },
  {
   "cell_type": "code",
   "execution_count": 51,
   "metadata": {},
   "outputs": [],
   "source": [
    "def modinv_long(a, b, c, p): #doesnt work\n",
    "    ''' solves (x*a + b) mod p = c'''\n",
    "    _, temp, _ = egcd((c-b), p)\n",
    "    temp = temp%p\n",
    "    gcd, u, v = egcd(a*temp, p)\n",
    "    return u%p\n",
    "\n"
   ]
  },
  {
   "cell_type": "markdown",
   "metadata": {},
   "source": [
    "# Prime numbers"
   ]
  },
  {
   "cell_type": "markdown",
   "metadata": {},
   "source": [
    "**Fundamental Theorem of Arithmetic**\n",
    "\n",
    "If $a >= 2$ then a can be factored as a product of prime numbers   \n",
    "$ a=p_{1}^{e_{1}} \\cdot p_{2}^{e_{2}} \\cdot p_{3}^{e_{3}} \\cdots p_{r}^{e_{r}} $  \n",
    "\n",
    "The factorization is **unique**"
   ]
  },
  {
   "cell_type": "markdown",
   "metadata": {},
   "source": [
    "# Finite fields"
   ]
  },
  {
   "cell_type": "markdown",
   "metadata": {},
   "source": [
    "**Def**  \n",
    "* A field is the general name for a (commutative) ring in which every nonzero\n",
    "element has a multiplicative inverse."
   ]
  },
  {
   "cell_type": "markdown",
   "metadata": {},
   "source": [
    "* The field $\\mathbb{Z} / p \\mathbb{Z}$ of integers modulo $p$ has only finitely many elements. It is\n",
    "a finite field and is often denoted by $\\mathbb{F}_{p} .$ Thus $\\mathbb{F}_{p}$ and $\\mathbb{Z} / p \\mathbb{Z}$ are really just two different notations for the same object"
   ]
  },
  {
   "cell_type": "markdown",
   "metadata": {},
   "source": [
    "**Theorem**(Fermat's Little Theorem).  \n",
    "Let $p$ be a prime number and let a be any integer. Then\n",
    "$\n",
    "a^{p-1} \\equiv\\left\\{\\begin{array}{lll}\n",
    "1 & (\\bmod p) & \\text {if } p \\nmid a \\\\\n",
    "0 & (\\bmod p) & \\text {if } p \\mid a\n",
    "\\end{array}\\right.\n",
    "$"
   ]
  },
  {
   "cell_type": "code",
   "execution_count": 9,
   "metadata": {},
   "outputs": [
    {
     "data": {
      "text/plain": [
       "1"
      ]
     },
     "execution_count": 9,
     "metadata": {},
     "output_type": "execute_result"
    }
   ],
   "source": [
    "#example\n",
    "p = 15485863 \n",
    "a = 2\n",
    "pow(2, p-1, p)"
   ]
  },
  {
   "cell_type": "markdown",
   "metadata": {},
   "source": [
    "* computing inverse modulo p:  \n",
    "$a^{-1} \\equiv a^{p-2} \\quad(\\bmod p)$"
   ]
  },
  {
   "cell_type": "markdown",
   "metadata": {},
   "source": [
    "**Theorem**  (Primitive Root Theorem).  \n",
    "Let $p$ be a prime number. Then there exists an element $g \\in \\mathbb{F}_{p}^{*}$ whose powers give every element of $\\mathbb{F}_{p}^{*},$ i.e.\n",
    "$\n",
    "\\mathbb{F}_{p}^{*}=\\left\\{1, g, g^{2}, g^{3}, \\ldots, g^{p-2}\\right\\}\n",
    "$  \n",
    "* Elements with this property are called primitive roots of $\\mathbb{F}_{p}$ or generators of $\\mathbb{F}_{p}^{*} .$ They are the elements of $\\mathbb{F}_{p}^{*}$ having order $p-1$"
   ]
  },
  {
   "cell_type": "markdown",
   "metadata": {},
   "source": [
    "# Symmetric and Asymmetric ciphers"
   ]
  },
  {
   "cell_type": "markdown",
   "metadata": {},
   "source": [
    "$\n",
    "\\text{encrypton} \\ e: \\mathcal{K} \\times \\mathcal{M} \\rightarrow \\mathcal{C}\n",
    "$  \n",
    "$\n",
    "\\text{decrypton} \\ d: \\mathcal{K} \\times \\mathcal{C} \\rightarrow \\mathcal{M} \n",
    "$  \n",
    "$\n",
    "d(k, e(k, m))=m \\quad \\text { for all } k \\in \\mathcal{K} \\text { and all } m \\in \\mathcal{M}\n",
    "$  \n"
   ]
  },
  {
   "cell_type": "markdown",
   "metadata": {},
   "source": [
    "**Symmetric cyphers**  \n",
    "\n",
    "* Multiplication  \n",
    "$\n",
    "e_{k}(m) \\equiv k \\cdot m \\quad(\\bmod p)\n",
    "$  \n",
    "$\n",
    "d_{k}(c) \\equiv k^{\\prime} \\cdot c \\quad(\\bmod p)\n",
    "$  \n",
    "    The cypher is vulnerable to known $(m, c)$ pair.  \n",
    "    Mathematically, this may be rephrased by saying that given any ciphertext $c \\in \\mathcal{C}$ and any plaintext $m \\in \\mathcal{M},$ there exists a key $k$ such that $e_{k}(m)=c .$ Specifically this is true for the key\n",
    "$\n",
    "k \\equiv m^{-1} \\cdot c \\quad(\\bmod p)\n",
    "$\n",
    "\n",
    "\n",
    "* Addition  \n",
    "$\n",
    "e_{k}(m) \\equiv m+k \\quad(\\bmod p) \\quad \\text { and } \\quad d_{k}(c) \\equiv c-k \\quad(\\bmod p)\n",
    "$  \n",
    "\n",
    "\n",
    "* XOR cipher  \n",
    "$\n",
    "e_{k}(m)=k \\oplus m \\quad \\text { and } \\quad d_{k}(c)=k \\oplus c\n",
    "$  \n",
    "Weakness: k must be used only once  \n",
    "$\n",
    "c \\oplus c^{\\prime}=(k \\oplus m) \\oplus\\left(k \\oplus m^{\\prime}\\right)=m \\oplus m^{\\prime}\n",
    "$"
   ]
  },
  {
   "cell_type": "markdown",
   "metadata": {},
   "source": [
    "**Asymmetric ciphers**\n",
    "\n",
    " $k=\\left(k_{\\text {priv }}, k_{\\text {pub }}\\right)$  \n",
    " $d_{k_{\\text {piv }}}\\left(e_{k_{\\text {pub }}}(m)\\right)=m \\quad$ for all $m \\in \\mathcal{M}$"
   ]
  },
  {
   "cell_type": "markdown",
   "metadata": {},
   "source": [
    "# Bonus algorithms"
   ]
  },
  {
   "cell_type": "code",
   "execution_count": 31,
   "metadata": {},
   "outputs": [],
   "source": [
    "## another extended euclidean algo"
   ]
  },
  {
   "cell_type": "code",
   "execution_count": 32,
   "metadata": {},
   "outputs": [],
   "source": [
    "def xgcd2(a, b):\n",
    "    u = 1\n",
    "    g = a \n",
    "    x = 0\n",
    "    y = b\n",
    "    if b == 0:\n",
    "        return (a, 1, 0)\n",
    "    while True:\n",
    "        if(y == 0):\n",
    "            v = (g-a*u)/b\n",
    "            #this if is if we want u positive\n",
    "            if (u < 0):\n",
    "                u = u+b/g \n",
    "                v = v-a/g\n",
    "            return (g, u, v)\n",
    "        \n",
    "        q = g // y #quotient\n",
    "        r = g % y  #remainder\n",
    "        s = u - q * x\n",
    "        u = x\n",
    "        g = y\n",
    "        x = s\n",
    "        y = r"
   ]
  },
  {
   "cell_type": "code",
   "execution_count": 29,
   "metadata": {},
   "outputs": [
    {
     "data": {
      "text/plain": [
       "((17, 43.0, -18.0), (17, -31, 13))"
      ]
     },
     "execution_count": 29,
     "metadata": {},
     "output_type": "execute_result"
    }
   ],
   "source": [
    "xgcd2(527, 1258), egcd(527, 1258)"
   ]
  },
  {
   "cell_type": "code",
   "execution_count": 30,
   "metadata": {},
   "outputs": [
    {
     "data": {
      "text/plain": [
       "((10, 1, 0), (10, 1, 0))"
      ]
     },
     "execution_count": 30,
     "metadata": {},
     "output_type": "execute_result"
    }
   ],
   "source": [
    "xgcd2(10, 0),  egcd(10, 0)"
   ]
  },
  {
   "cell_type": "code",
   "execution_count": null,
   "metadata": {},
   "outputs": [],
   "source": []
  }
 ],
 "metadata": {
  "kernelspec": {
   "display_name": "Python 3",
   "language": "python",
   "name": "python3"
  },
  "language_info": {
   "codemirror_mode": {
    "name": "ipython",
    "version": 3
   },
   "file_extension": ".py",
   "mimetype": "text/x-python",
   "name": "python",
   "nbconvert_exporter": "python",
   "pygments_lexer": "ipython3",
   "version": "3.7.6"
  }
 },
 "nbformat": 4,
 "nbformat_minor": 4
}
